{
 "cells": [
  {
   "cell_type": "markdown",
   "metadata": {},
   "source": [
    "# 從檔案讀取文字資料\n",
    "\n",
    "open(file, mode='r', buffering=-1, encoding=None, errors=None, newline=None, closefd=True, opener=None)\n",
    "\n",
    "• file檔案路徑\n",
    "\n",
    "• encoding: 檔案編碼\n",
    "\n",
    "• mode: 'r'讀取、‘w'寫入....等\n",
    "\n",
    "## with open\n",
    "\n",
    "• 自動關閉檔案\n",
    "\n",
    "## 讀取方式\n",
    "\n",
    "• 讀取全部：read()\n",
    "\n",
    "• 讀取一行：readline()\n",
    "\n",
    "• 讀取每行：readlines()\n"
   ]
  },
  {
   "cell_type": "code",
   "execution_count": 17,
   "metadata": {},
   "outputs": [],
   "source": [
    "filename1 = '第一句.txt'\n",
    "filename2 = '第二句.txt'\n",
    "filename3 = '第三句.txt'"
   ]
  },
  {
   "cell_type": "code",
   "execution_count": 18,
   "metadata": {},
   "outputs": [],
   "source": [
    "with open(filename1) as file:\n",
    "    sentences1 = file.readlines()"
   ]
  },
  {
   "cell_type": "code",
   "execution_count": 19,
   "metadata": {},
   "outputs": [
    {
     "data": {
      "text/plain": [
       "['在普羅旺斯的天空下\\n', '在老屋咖啡店的一隅\\n', '靜謐午後\\n', '清晨四點半\\n', '在內心的迴廊']"
      ]
     },
     "execution_count": 19,
     "metadata": {},
     "output_type": "execute_result"
    }
   ],
   "source": [
    "sentences1"
   ]
  },
  {
   "cell_type": "code",
   "execution_count": 20,
   "metadata": {},
   "outputs": [],
   "source": [
    "with open(filename2) as file:\n",
    "    sentences2 = file.readlines()"
   ]
  },
  {
   "cell_type": "code",
   "execution_count": 21,
   "metadata": {},
   "outputs": [
    {
     "data": {
      "text/plain": [
       "['輕捧卡夫卡\\n', '啜飲咖啡的黑\\n', '抖去一身俗塵\\n', '傾聽青鳥的變奏\\n', '懷念我的懷念']"
      ]
     },
     "execution_count": 21,
     "metadata": {},
     "output_type": "execute_result"
    }
   ],
   "source": [
    "sentences2"
   ]
  },
  {
   "cell_type": "code",
   "execution_count": 22,
   "metadata": {},
   "outputs": [],
   "source": [
    "with open(filename3) as file:\n",
    "    sentences3 = file.readlines()"
   ]
  },
  {
   "cell_type": "code",
   "execution_count": 23,
   "metadata": {},
   "outputs": [
    {
     "data": {
      "text/plain": [
       "['體驗一個人小確幸\\n', '等待下一個轉角邂逅\\n', '品味孤獨\\n', '讓心微旅行\\n', '淘洗生命']"
      ]
     },
     "execution_count": 23,
     "metadata": {},
     "output_type": "execute_result"
    }
   ],
   "source": [
    "sentences3"
   ]
  },
  {
   "cell_type": "markdown",
   "metadata": {},
   "source": [
    "# 文字處理\n",
    "\n",
    "str.strip([chars])\n",
    "\n",
    "• 移除字串頭尾指定的符號，預設會移除換行符號 (\\n) 、空格 (space) 。\n",
    "\n",
    "## 串列綜合運算 (List Comprehension)"
   ]
  },
  {
   "cell_type": "code",
   "execution_count": 24,
   "metadata": {},
   "outputs": [],
   "source": [
    "sentences1 = [sentences.strip() for sentences in sentences1]"
   ]
  },
  {
   "cell_type": "code",
   "execution_count": 25,
   "metadata": {},
   "outputs": [
    {
     "data": {
      "text/plain": [
       "['在普羅旺斯的天空下', '在老屋咖啡店的一隅', '靜謐午後', '清晨四點半', '在內心的迴廊']"
      ]
     },
     "execution_count": 25,
     "metadata": {},
     "output_type": "execute_result"
    }
   ],
   "source": [
    "sentences1"
   ]
  },
  {
   "cell_type": "code",
   "execution_count": 26,
   "metadata": {},
   "outputs": [],
   "source": [
    "sentences2 = [sentences.strip() for sentences in sentences2]"
   ]
  },
  {
   "cell_type": "code",
   "execution_count": 27,
   "metadata": {},
   "outputs": [
    {
     "data": {
      "text/plain": [
       "['輕捧卡夫卡', '啜飲咖啡的黑', '抖去一身俗塵', '傾聽青鳥的變奏', '懷念我的懷念']"
      ]
     },
     "execution_count": 27,
     "metadata": {},
     "output_type": "execute_result"
    }
   ],
   "source": [
    "sentences2"
   ]
  },
  {
   "cell_type": "code",
   "execution_count": 28,
   "metadata": {},
   "outputs": [],
   "source": [
    "sentences3 = [sentences.strip() for sentences in sentences3]"
   ]
  },
  {
   "cell_type": "code",
   "execution_count": 29,
   "metadata": {},
   "outputs": [
    {
     "data": {
      "text/plain": [
       "['體驗一個人小確幸', '等待下一個轉角邂逅', '品味孤獨', '讓心微旅行', '淘洗生命']"
      ]
     },
     "execution_count": 29,
     "metadata": {},
     "output_type": "execute_result"
    }
   ],
   "source": [
    "sentences3"
   ]
  },
  {
   "cell_type": "markdown",
   "metadata": {},
   "source": [
    "# 產生文青語句\n",
    "\n",
    "random.choice(seq)\n",
    "\n",
    "  •隨機擇一 "
   ]
  },
  {
   "cell_type": "code",
   "execution_count": 30,
   "metadata": {},
   "outputs": [],
   "source": [
    "import random"
   ]
  },
  {
   "cell_type": "code",
   "execution_count": 31,
   "metadata": {},
   "outputs": [
    {
     "data": {
      "text/plain": [
       "'靜謐午後，抖去一身俗塵，讓心微旅行。'"
      ]
     },
     "execution_count": 31,
     "metadata": {},
     "output_type": "execute_result"
    }
   ],
   "source": [
    "random.choice(sentences1) + '，' + random.choice(sentences2) + '，' + random.choice(sentences3) + '。'"
   ]
  }
 ],
 "metadata": {
  "interpreter": {
   "hash": "e066906fe76e116fe298151430f54f14f8fa60f14e5cf26cd32bf8c49c87e31e"
  },
  "kernelspec": {
   "display_name": "Python 3.9.6 64-bit",
   "name": "python3"
  },
  "language_info": {
   "codemirror_mode": {
    "name": "ipython",
    "version": 3
   },
   "file_extension": ".py",
   "mimetype": "text/x-python",
   "name": "python",
   "nbconvert_exporter": "python",
   "pygments_lexer": "ipython3",
   "version": "3.9.6"
  },
  "orig_nbformat": 4
 },
 "nbformat": 4,
 "nbformat_minor": 2
}
