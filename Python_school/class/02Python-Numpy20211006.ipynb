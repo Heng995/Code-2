{
 "cells": [
  {
   "cell_type": "markdown",
   "metadata": {},
   "source": [
    "Numpy 陣列範例"
   ]
  },
  {
   "cell_type": "code",
<<<<<<< HEAD
<<<<<<< HEAD
   "execution_count": 1,
=======
   "execution_count": 2,
>>>>>>> dad36f225f02a474dcc23f0c2bf64a355e0e8128
=======
   "execution_count": 3,
>>>>>>> 23bf8809a62491c8a7a8c5a8f7366d9e605a0aba
   "metadata": {},
   "outputs": [
    {
     "name": "stdout",
     "output_type": "stream",
     "text": [
      "<class 'numpy.ndarray'>\n",
      "<class 'numpy.ndarray'>\n",
      "1 2 3 4 5\n",
      "[5 2 3 4 5]\n",
      "[5 2 3 4 0]\n"
     ]
    }
   ],
   "source": [
    "#陣列建立一維\n",
    "import numpy as np\n",
    "\n",
    "a = np.array([1, 2, 3, 4, 5]) \n",
    "b = np.array((1, 2, 3, 4, 5)) \n",
    "print(type(a))  \n",
    "print(type(b))        \n",
    "print(a[0], a[1], a[2], a[3], a[4])\n",
    "b[0] = 5    \n",
    "print(b) \n",
    "b[4] = 0\n",
    "print(b)    "
   ]
  },
  {
   "cell_type": "code",
<<<<<<< HEAD
   "execution_count": 2,
=======
   "execution_count": 3,
>>>>>>> dad36f225f02a474dcc23f0c2bf64a355e0e8128
   "metadata": {},
   "outputs": [
    {
     "name": "stdout",
     "output_type": "stream",
     "text": [
      "1 2 3\n",
      "4 5 6\n",
      "[[6 2 3]\n",
      " [4 5 1]]\n",
      "[1 2 3 4 5]\n",
      "[1. 2. 3. 4. 5.]\n",
      "<class 'numpy.ndarray'>\n",
      "<class 'numpy.ndarray'>\n"
     ]
    }
   ],
   "source": [
    "##陣列建立二維\n",
    "a = np.array([[1,2,3],[4,5,6]])\n",
    "print(a[0, 0], a[0, 1], a[0, 2])\n",
    "print(a[1, 0], a[1, 1], a[1, 2])\n",
    "a[0, 0] = 6\n",
    "a[1, 2] = 1\n",
    "print(a)\n",
    "\n",
    "a = np.array([1, 2, 3, 4, 5], int) \n",
    "b = np.array((1, 2, 3, 4, 5), dtype=float) \n",
    "print(a) \n",
    "print(b)    \n",
    "print(type(a))\n",
    "print(type(b))"
   ]
  },
  {
   "cell_type": "code",
<<<<<<< HEAD
   "execution_count": 3,
=======
   "execution_count": 4,
>>>>>>> dad36f225f02a474dcc23f0c2bf64a355e0e8128
   "metadata": {},
   "outputs": [
    {
     "name": "stdout",
     "output_type": "stream",
     "text": [
      "[0 1 2 3 4]\n",
      "[1 3 5]\n",
      "[0. 0.]\n",
      "[[0. 0.]\n",
      " [0. 0.]]\n",
      "[1. 1.]\n",
      "[[1. 1.]\n",
      " [1. 1.]]\n",
      "[7 7]\n",
      "[[7 7]\n",
      " [7 7]]\n"
     ]
    }
   ],
   "source": [
    "# range() 函數建立陣列\n",
    "a = np.arange(5)\n",
    "print(a)\n",
    "b = np.arange(1, 6, 2)\n",
    "print(b) \n",
    "\n",
    "c = np.zeros(2) \n",
    "print(c)  \n",
    "d = np.zeros((2,2)) \n",
    "print(d)           \n",
    "\n",
    "e = np.ones(2) \n",
    "print(e)   \n",
    "f = np.ones((2,2)) \n",
    "print(f)         \n",
    "\n",
    "g = np.full(2, 7)\n",
    "print(g)      \n",
    "h = np.full((2,2), 7)\n",
    "print(h)  "
   ]
  },
  {
   "cell_type": "code",
<<<<<<< HEAD
   "execution_count": 4,
=======
   "execution_count": 5,
>>>>>>> dad36f225f02a474dcc23f0c2bf64a355e0e8128
   "metadata": {},
   "outputs": [
    {
     "name": "stdout",
     "output_type": "stream",
     "text": [
      "[0 1 2 3 4 5 6 7 8 9]\n",
      "[ 1.  2.  3.  4.  5.  6.  7.  8.  9. 10.]\n"
     ]
    }
   ],
   "source": [
    "a = np.arange(10)\n",
    "b = np.linspace(start = 1, stop =10, num = 10)\n",
    "print(a)\n",
    "print(b)"
   ]
  },
  {
   "cell_type": "code",
<<<<<<< HEAD
   "execution_count": 5,
=======
   "execution_count": 6,
>>>>>>> dad36f225f02a474dcc23f0c2bf64a355e0e8128
   "metadata": {},
   "outputs": [
    {
     "name": "stdout",
     "output_type": "stream",
     "text": [
      "[[0 0 0]\n",
      " [0 0 0]]\n",
      "[[1 1 1]\n",
      " [1 1 1]]\n",
      "[[1. 0. 0.]\n",
      " [0. 1. 0.]\n",
      " [0. 0. 1.]]\n",
      "[[0. 1. 0.]\n",
      " [0. 0. 1.]\n",
      " [0. 0. 0.]]\n",
<<<<<<< HEAD
      "[0.48363728 0.93128878 0.67653254]\n",
      "[[0.0011595  0.28723746 0.69708658]\n",
      " [0.54706331 0.37551539 0.35948716]\n",
      " [0.58426432 0.38465923 0.39104401]]\n"
=======
      "[0.75841197 0.16547189 0.22489643]\n",
      "[[0.56785288 0.15342494 0.69140673]\n",
      " [0.67901051 0.79355963 0.39088434]\n",
      " [0.79103961 0.95684148 0.58463209]]\n"
>>>>>>> dad36f225f02a474dcc23f0c2bf64a355e0e8128
     ]
    }
   ],
   "source": [
    "#  函數建立陣列\n",
    "a = np.array([[1,2,3],[4,5,6]])\n",
    "b = np.zeros_like(a)\n",
    "print(b)\n",
    "\n",
    "c = np.ones_like(a)\n",
    "print(c)\n",
    "\n",
    "d = np.eye(3)  \n",
    "print(d)\n",
    "e = np.eye(3, k=1)\n",
    "print(e)\n",
    "    \n",
    "f = np.random.rand(3)\n",
    "print(f)\n",
    "g = np.random.rand(3,3)\n",
    "print(g)   "
   ]
  },
  {
   "cell_type": "code",
<<<<<<< HEAD
   "execution_count": 6,
=======
   "execution_count": 7,
>>>>>>> dad36f225f02a474dcc23f0c2bf64a355e0e8128
   "metadata": {},
   "outputs": [
    {
     "name": "stdout",
     "output_type": "stream",
     "text": [
      "[ 0  1  2  3  4  5  6  7  8  9 10 11 12 13 14 15]\n",
      "[[ 0  1  2  3]\n",
      " [ 4  5  6  7]\n",
      " [ 8  9 10 11]\n",
      " [12 13 14 15]]\n",
      "[0. 1. 2. 3. 4. 5. 6. 7. 8. 9.]\n",
      "[[0. 1.]\n",
      " [2. 3.]\n",
      " [4. 5.]\n",
      " [6. 7.]\n",
      " [8. 9.]]\n",
      "[[0. 1. 2. 3. 4.]\n",
      " [5. 6. 7. 8. 9.]]\n"
     ]
    }
   ],
   "source": [
    "# reshape 陣列維度轉換\n",
    "a = np.arange(16)\n",
    "print(a)\n",
    "b = a.reshape((4, 4))\n",
    "print(b)\n",
    "\n",
    "c = np.array(range(10), float)\n",
    "print(c)\n",
    "d = c.reshape((5, 2))\n",
    "print(d)\n",
    "\n",
    "#只管第二軸轉換成 5， 第一軸由電腦自己計算就用-1代表。\n",
    "e= c.reshape((-1,5))\n",
    "print(e)\n"
   ]
  },
  {
   "cell_type": "code",
<<<<<<< HEAD
   "execution_count": 7,
=======
   "execution_count": 8,
>>>>>>> dad36f225f02a474dcc23f0c2bf64a355e0e8128
   "metadata": {},
   "outputs": [
    {
     "name": "stdout",
     "output_type": "stream",
     "text": [
      "a :  [ 0  1  2  3  4  5  6  7  8  9 10 11 12 13 14 15 16 17 18 19 20 21 22 23]\n",
      "b :  [[ 0  1  2  3  4  5  6  7  8  9 10 11]\n",
      " [12 13 14 15 16 17 18 19 20 21 22 23]]\n",
      "c :  [[[ 0  1  2  3]\n",
      "  [ 4  5  6  7]\n",
      "  [ 8  9 10 11]]\n",
      "\n",
      " [[12 13 14 15]\n",
      "  [16 17 18 19]\n",
      "  [20 21 22 23]]]\n"
     ]
    }
   ],
   "source": [
    "# 高維度\n",
    "a = np.arange(24)\n",
    "print(\"a : \",a)\n",
    "b = a.reshape(2,12)\n",
    "print(\"b : \",b)\n",
    "c = a.reshape(2,3,4)\n",
    "print(\"c : \",c)"
   ]
  },
  {
   "cell_type": "code",
<<<<<<< HEAD
   "execution_count": 8,
=======
   "execution_count": 9,
>>>>>>> dad36f225f02a474dcc23f0c2bf64a355e0e8128
   "metadata": {},
   "outputs": [
    {
     "name": "stdout",
     "output_type": "stream",
     "text": [
      "<class 'numpy.ndarray'>\n",
<<<<<<< HEAD
      "int32\n",
      "25\n",
      "(5, 5)\n",
      "4\n",
      "2\n",
      "100\n"
=======
      "int64\n",
      "25\n",
      "(5, 5)\n",
      "8\n",
      "2\n",
      "200\n"
>>>>>>> dad36f225f02a474dcc23f0c2bf64a355e0e8128
     ]
    }
   ],
   "source": [
    "#二維陣列屬性\n",
    "a = np.array([[11, 12, 13, 14, 15],\n",
    "              [16, 17, 18, 19, 20],\n",
    "              [21, 22, 23, 24, 25],\n",
    "              [26, 27, 28, 29, 30],\n",
    "              [31, 32, 33, 34, 35]])\n",
    " \n",
    "print(type(a))\n",
    "print(a.dtype)\n",
    "print(a.size)\n",
    "print(a.shape)\n",
    "print(a.itemsize)\n",
    "print(a.ndim)\n",
    "print(a.nbytes)  "
   ]
  },
  {
   "cell_type": "code",
<<<<<<< HEAD
   "execution_count": null,
   "metadata": {},
   "outputs": [],
=======
   "execution_count": 10,
   "metadata": {},
   "outputs": [
    {
     "name": "stdout",
     "output_type": "stream",
     "text": [
      "1\n",
      "2\n",
      "3\n",
      "4\n",
      "5\n"
     ]
    }
   ],
>>>>>>> dad36f225f02a474dcc23f0c2bf64a355e0e8128
   "source": [
    "#一維陣列探索\n",
    "a = np.array([1, 2, 3, 4, 5])\n",
    "for ele in a:\n",
    "    print(ele)"
   ]
  },
  {
   "cell_type": "code",
<<<<<<< HEAD
   "execution_count": null,
   "metadata": {},
   "outputs": [],
=======
   "execution_count": 11,
   "metadata": {},
   "outputs": [
    {
     "name": "stdout",
     "output_type": "stream",
     "text": [
      "[1 2]\n",
      "[3 4]\n",
      "[5 6]\n",
      "1 2 3 4 5 6 "
     ]
    }
   ],
>>>>>>> dad36f225f02a474dcc23f0c2bf64a355e0e8128
   "source": [
    "#二維探索探索\n",
    "a = np.array([[1, 2], [3, 4], [5, 6]])\n",
    "for ele in a:\n",
    "    print(ele)\n",
    "\n",
    "for ele in a:\n",
    "    for item in ele:\n",
    "        print(str(item) + \" \", end=\"\")"
   ]
  },
  {
   "cell_type": "code",
<<<<<<< HEAD
   "execution_count": null,
=======
   "execution_count": 12,
>>>>>>> dad36f225f02a474dcc23f0c2bf64a355e0e8128
   "metadata": {},
   "outputs": [],
   "source": [
    "#陣列輸出存檔\n",
    "a = np.arange(10)\n",
    "outputfile = \"Example.npy\"\n",
    "with open(outputfile, 'wb') as fp:\n",
    "    np.save(fp, a)\n",
    "\n",
    "#輸出 CSV格式\n",
    "a = np.array([[1,2,3],[4,5,6]])\n",
    "outputfile = \"Example.out\"\n",
    "np.savetxt(outputfile, a, delimiter=',')"
   ]
  },
  {
   "cell_type": "code",
<<<<<<< HEAD
   "execution_count": null,
   "metadata": {},
   "outputs": [],
=======
   "execution_count": 13,
   "metadata": {},
   "outputs": [
    {
     "name": "stdout",
     "output_type": "stream",
     "text": [
      "[0 1 2 3 4 5 6 7 8 9]\n",
      "[[1. 2. 3.]\n",
      " [4. 5. 6.]]\n"
     ]
    }
   ],
>>>>>>> dad36f225f02a474dcc23f0c2bf64a355e0e8128
   "source": [
    "#陣列載入\n",
    "outputfile = \"Example.npy\"\n",
    "with open(outputfile, 'rb') as fp:\n",
    "    a = np.load(fp)\n",
    "print(a)\n",
    "\n",
    "#載入 CSV格式\n",
    "outputfile = \"Example.out\"\n",
    "a = np.loadtxt(outputfile, delimiter=',')\n",
    "print(a)"
   ]
  },
  {
   "cell_type": "code",
<<<<<<< HEAD
   "execution_count": null,
   "metadata": {},
   "outputs": [],
=======
   "execution_count": 14,
   "metadata": {},
   "outputs": [
    {
     "name": "stdout",
     "output_type": "stream",
     "text": [
      "a=[1 2 3]\n",
      "s=5\n",
      "a+s=[6 7 8]\n",
      "a-s=[-4 -3 -2]\n",
      "a*s=[ 5 10 15]\n",
      "a/s=[0.2 0.4 0.6]\n",
      "a=[1 2 3]\n",
      "s=5\n",
      "np.add(a,s)=[6 7 8]\n",
      "np.subtract(a,s)=[-4 -3 -2]\n",
      "np.multiply(a,s)=[ 5 10 15]\n",
      "np.divide(a,s)=[0.2 0.4 0.6]\n"
     ]
    }
   ],
>>>>>>> dad36f225f02a474dcc23f0c2bf64a355e0e8128
   "source": [
    "#陣列與純量運算\n",
    "a = np.array([1, 2, 3]) \n",
    "print(\"a=\" + str(a))\n",
    "s = 5 \n",
    "print(\"s=\" + str(s))\n",
    "b = a + s       \n",
    "print(\"a+s=\" + str(b))    \n",
    "b = a - s       \n",
    "print(\"a-s=\" + str(b))   \n",
    "b = a * s       \n",
    "print(\"a*s=\" + str(b))  \n",
    "b = a / s       \n",
    "print(\"a/s=\" + str(b)) \n",
    "\n",
    "\n",
    "a = np.array([1, 2, 3]) \n",
    "print(\"a=\" + str(a))\n",
    "s = 5 \n",
    "print(\"s=\" + str(s))\n",
    "b = np.add(a, s)       \n",
    "print(\"np.add(a,s)=\" + str(b))    \n",
    "b = np.subtract(a, s)       \n",
    "print(\"np.subtract(a,s)=\" + str(b))   \n",
    "b = np.multiply(a, s)       \n",
    "print(\"np.multiply(a,s)=\" + str(b))  \n",
    "b = np.divide(a, s)       \n",
    "print(\"np.divide(a,s)=\" + str(b))  "
   ]
  },
  {
   "cell_type": "code",
<<<<<<< HEAD
   "execution_count": null,
   "metadata": {},
   "outputs": [],
=======
   "execution_count": 15,
   "metadata": {},
   "outputs": [
    {
     "name": "stdout",
     "output_type": "stream",
     "text": [
      "a=[1 2 3]\n",
      "s=[4 5 6]\n",
      "a+s=[5 7 9]\n",
      "a-s=[-3 -3 -3]\n",
      "a*s=[ 4 10 18]\n",
      "a/s=[0.25 0.4  0.5 ]\n",
      "c=[1 2 3]\n",
      "s=[4 5 6]\n",
      "np.add(a,s)=[5 7 9]\n",
      "np.subtract(a,s)=[-3 -3 -3]\n",
      "np.multiply(a,s)=[ 4 10 18]\n",
      "np.divide(a,s)=[0.25 0.4  0.5 ]\n"
     ]
    }
   ],
>>>>>>> dad36f225f02a474dcc23f0c2bf64a355e0e8128
   "source": [
    "#陣列與陣列運算\n",
    "a = np.array([1, 2, 3]) \n",
    "print(\"a=\" + str(a))\n",
    "s = np.array([4, 5, 6])  \n",
    "print(\"s=\" + str(s))\n",
    "b = a + s       \n",
    "print(\"a+s=\" + str(b))    \n",
    "b = a - s       \n",
    "print(\"a-s=\" + str(b))   \n",
    "b = a * s       \n",
    "print(\"a*s=\" + str(b))  \n",
    "b = a / s       \n",
    "print(\"a/s=\" + str(b))  \n",
    "\n",
    "\n",
    "a = np.array([1, 2, 3]) \n",
    "print(\"c=\" + str(a))\n",
    "s = np.array([4, 5, 6])  \n",
    "print(\"s=\" + str(s))\n",
    "b = np.add(a, s)       \n",
    "print(\"np.add(a,s)=\" + str(b))    \n",
    "b = np.subtract(a, s)       \n",
    "print(\"np.subtract(a,s)=\" + str(b))   \n",
    "b = np.multiply(a, s)       \n",
    "print(\"np.multiply(a,s)=\" + str(b))  \n",
    "b = np.divide(a, s)       \n",
    "print(\"np.divide(a,s)=\" + str(b))  "
   ]
  },
  {
   "cell_type": "code",
<<<<<<< HEAD
   "execution_count": null,
   "metadata": {},
   "outputs": [],
=======
   "execution_count": 16,
   "metadata": {},
   "outputs": [
    {
     "name": "stdout",
     "output_type": "stream",
     "text": [
      "a=[1 2 3]\n",
      "s=[4 5 6]\n",
      "a.dot(s)=32\n"
     ]
    }
   ],
>>>>>>> dad36f225f02a474dcc23f0c2bf64a355e0e8128
   "source": [
    "#陣列點積運算\n",
    "a = np.array([1, 2, 3]) \n",
    "print(\"a=\" + str(a))\n",
    "s = np.array([4, 5, 6])  \n",
    "print(\"s=\" + str(s))\n",
    "b = a.dot(s)       \n",
    "print(\"a.dot(s)=\" + str(b))  "
   ]
  },
  {
   "cell_type": "code",
<<<<<<< HEAD
   "execution_count": null,
   "metadata": {},
   "outputs": [],
=======
   "execution_count": 17,
   "metadata": {},
   "outputs": [
    {
     "name": "stdout",
     "output_type": "stream",
     "text": [
      "a=[1 2 3 4 5 6 7 8 9]\n",
      "a[1:3]=[2 3]\n",
      "a[:4]=[1 2 3 4]\n",
      "a[3:]=[4 5 6 7 8 9]\n",
      "a[2:9:3]=[3 6 9]\n",
      "a[::2]=[1 3 5 7 9]\n",
      "a[::-1]=[9 8 7 6 5 4 3 2 1]\n",
      "a[2:-2]=[3 4 5 6 7]\n"
     ]
    }
   ],
>>>>>>> dad36f225f02a474dcc23f0c2bf64a355e0e8128
   "source": [
    "#陣列切割(slice)-1\n",
    "a = np.array([1, 2, 3, 4, 5, 6, 7, 8, 9])\n",
    "print(\"a=\" + str(a))\n",
    "\n",
    "b = a[1:3]     # 索引 1,2\n",
    "print(\"a[1:3]=\" + str(b))\n",
    "b = a[:4]      # 索引 0,1,2,3\n",
    "print(\"a[:4]=\" + str(b))\n",
    "b = a[3:]      # 索引 3,4,5,6,7,8\n",
    "print(\"a[3:]=\" + str(b))\n",
    "b = a[2:9:3]   # 索引 2,5,8\n",
    "print(\"a[2:9:3]=\" + str(b))\n",
    "b = a[::2]     # 索引 0,2,4,6,8\n",
    "print(\"a[::2]=\" + str(b))\n",
    "b = a[::-1]    # 索引 8,7,6,5,4,3,2,1,0\n",
    "print(\"a[::-1]=\" + str(b))\n",
    "b = a[2:-2]    # 索引 8,7,6,5,4,3,2,1,0\n",
    "print(\"a[2:-2]=\" + str(b))\n"
   ]
  },
  {
   "cell_type": "code",
<<<<<<< HEAD
   "execution_count": null,
   "metadata": {},
   "outputs": [],
=======
   "execution_count": 18,
   "metadata": {},
   "outputs": [
    {
     "name": "stdout",
     "output_type": "stream",
     "text": [
      "a=[1 2 3 4 5 6 7 8 9]\n",
      "1 3 9\n",
      "a[[1,3,5,7]]=[2 4 6 8]\n",
      "a[range(6)]=[1 2 3 4 5 6]\n",
      "a[[2,6]]=10->[ 1  2 10  4  5  6 10  8  9]\n"
     ]
    }
   ],
>>>>>>> dad36f225f02a474dcc23f0c2bf64a355e0e8128
   "source": [
    "#陣列切割(slice)-2\n",
    "a = np.array([1, 2, 3, 4, 5, 6, 7, 8, 9])\n",
    "print(\"a=\" + str(a))\n",
    "\n",
    "print(a[0], a[2], a[-1])  # 索引 0,2,最後1個 \n",
    "b = a[[1, 3, 5, 7]]       # 索引 1,3,5,7\n",
    "print(\"a[[1,3,5,7]]=\" + str(b))\n",
    "b = a[range(6)]           # 索引 0,1,2,3,4,5\n",
    "print(\"a[range(6)]=\" + str(b))\n",
    "a[[2, 6]] = 10            # 同時更改多個索引值\n",
    "print(\"a[[2,6]]=10->\" + str(a))"
   ]
  },
  {
   "cell_type": "code",
<<<<<<< HEAD
   "execution_count": null,
   "metadata": {},
   "outputs": [],
=======
   "execution_count": 19,
   "metadata": {},
   "outputs": [
    {
     "name": "stdout",
     "output_type": "stream",
     "text": [
      "a=[14  8 10 11  6  3 18 13 12  9]\n",
      "mask=[False False False False  True  True  True False  True  True]\n",
      "a[mask]=[ 6  3 18 12  9]\n",
      "a[a%3==0]=-1->[14  8 10 11 -1 -1 -1 13 -1 -1]\n"
     ]
    }
   ],
>>>>>>> dad36f225f02a474dcc23f0c2bf64a355e0e8128
   "source": [
    "#陣列切割(slice)-boolean\n",
    "a = np.array([14,8,10,11,6,3,18,13,12,9])\n",
    "print(\"a=\" + str(a))\n",
    "mask = (a % 3 == 0)        # 建立布林值陣列\n",
    "print(\"mask=\" + str(mask))\n",
    "b = a[mask]                # 使用布林值陣列取出值\n",
    "print(\"a[mask]=\" + str(b))\n",
    "a[a % 3 == 0] = -1         # 同時更改多個True索引\n",
    "print(\"a[a%3==0]=-1->\" + str(a))"
   ]
  },
  {
   "cell_type": "code",
<<<<<<< HEAD
   "execution_count": null,
   "metadata": {},
   "outputs": [],
=======
   "execution_count": 20,
   "metadata": {},
   "outputs": [
    {
     "name": "stdout",
     "output_type": "stream",
     "text": [
      "a=\n",
      "[[1 2 3]\n",
      " [4 5 6]]\n",
      "s=5\n",
      "a+s=\n",
      "[[ 6  7  8]\n",
      " [ 9 10 11]]\n",
      "a-s=\n",
      "[[-4 -3 -2]\n",
      " [-1  0  1]]\n",
      "a*s=\n",
      "[[ 5 10 15]\n",
      " [20 25 30]]\n",
      "a/s=\n",
      "[[0.2 0.4 0.6]\n",
      " [0.8 1.  1.2]]\n",
      "a=\n",
      "[[1 2 3]\n",
      " [4 5 6]]\n",
      "s=5\n",
      "np.add(a,s)=\n",
      "[[ 6  7  8]\n",
      " [ 9 10 11]]\n",
      "np.subtract(a,s)=\n",
      "[[-4 -3 -2]\n",
      " [-1  0  1]]\n",
      "np.multiply(a,s)=\n",
      "[[ 5 10 15]\n",
      " [20 25 30]]\n",
      "np.divide(a,s)=\n",
      "[[0.2 0.4 0.6]\n",
      " [0.8 1.  1.2]]\n"
     ]
    }
   ],
>>>>>>> dad36f225f02a474dcc23f0c2bf64a355e0e8128
   "source": [
    "#二維陣列運算-陣列x純量\n",
    "a = np.array([[1,2,3],[4,5,6]])\n",
    "print(\"a=\")\n",
    "print(a)\n",
    "s = 5 \n",
    "print(\"s=\" + str(s))\n",
    "b = a + s       \n",
    "print(\"a+s=\")\n",
    "print(b)    \n",
    "b = a - s       \n",
    "print(\"a-s=\")\n",
    "print(b)   \n",
    "b = a * s       \n",
    "print(\"a*s=\")\n",
    "print(b)  \n",
    "b = a / s       \n",
    "print(\"a/s=\")\n",
    "print(b)  \n",
    "\n",
    "a = np.array([[1,2,3],[4,5,6]])\n",
    "print(\"a=\")\n",
    "print(a)\n",
    "s = 5 \n",
    "print(\"s=\" + str(s))\n",
    "b = np.add(a, s)       \n",
    "print(\"np.add(a,s)=\")\n",
    "print(b)    \n",
    "b = np.subtract(a, s)       \n",
    "print(\"np.subtract(a,s)=\")\n",
    "print(b)   \n",
    "b = np.multiply(a, s)       \n",
    "print(\"np.multiply(a,s)=\")\n",
    "print(b)  \n",
    "b = np.divide(a, s)       \n",
    "print(\"np.divide(a,s)=\")\n",
    "print(b) \n"
   ]
  },
  {
   "cell_type": "code",
<<<<<<< HEAD
   "execution_count": null,
=======
   "execution_count": 21,
>>>>>>> dad36f225f02a474dcc23f0c2bf64a355e0e8128
   "metadata": {},
   "outputs": [],
   "source": [
    "#二維陣列運算\n"
   ]
  },
  {
   "cell_type": "code",
<<<<<<< HEAD
   "execution_count": null,
   "metadata": {},
   "outputs": [],
=======
   "execution_count": 22,
   "metadata": {},
   "outputs": [
    {
     "name": "stdout",
     "output_type": "stream",
     "text": [
      "a=\n",
      "[[1 2]\n",
      " [3 4]]\n",
      "s=\n",
      "[[5 6]\n",
      " [7 8]]\n",
      "a+s=\n",
      "[[ 6  8]\n",
      " [10 12]]\n",
      "a-s=\n",
      "[[-4 -4]\n",
      " [-4 -4]]\n",
      "a*s=\n",
      "[[ 5 12]\n",
      " [21 32]]\n",
      "a/s=\n",
      "[[0.2        0.33333333]\n",
      " [0.42857143 0.5       ]]\n",
      "a=\n",
      "[[1 2]\n",
      " [3 4]]\n",
      "s=\n",
      "[[5 6]\n",
      " [7 8]]\n",
      "np.add(a,s)=\n",
      "[[ 6  8]\n",
      " [10 12]]\n",
      "np.subtract(a,s)=\n",
      "[[-4 -4]\n",
      " [-4 -4]]\n",
      "np.multiply(a,s)=\n",
      "[[ 5 12]\n",
      " [21 32]]\n",
      "np.divide(a,s)=\n",
      "[[0.2        0.33333333]\n",
      " [0.42857143 0.5       ]]\n"
     ]
    }
   ],
>>>>>>> dad36f225f02a474dcc23f0c2bf64a355e0e8128
   "source": [
    "#二維陣列運算-陣列x陣列\n",
    "a = np.array([[1,2],[3,4]])\n",
    "print(\"a=\")\n",
    "print(a)\n",
    "s = np.array([[5,6],[7,8]])\n",
    "print(\"s=\")\n",
    "print(s)\n",
    "b = a + s       \n",
    "print(\"a+s=\")\n",
    "print(b)    \n",
    "b = a - s       \n",
    "print(\"a-s=\")\n",
    "print(b)   \n",
    "b = a * s       \n",
    "print(\"a*s=\")\n",
    "print(b)  \n",
    "b = a / s       \n",
    "print(\"a/s=\")\n",
    "print(b)  \n",
    "\n",
    "a = np.array([[1,2],[3,4]])\n",
    "print(\"a=\")\n",
    "print(a)\n",
    "s = np.array([[5,6],[7,8]])\n",
    "print(\"s=\")\n",
    "print(s)\n",
    "b = np.add(a, s)       \n",
    "print(\"np.add(a,s)=\")\n",
    "print(b)    \n",
    "b = np.subtract(a, s)       \n",
    "print(\"np.subtract(a,s)=\")\n",
    "print(b)   \n",
    "b = np.multiply(a, s)       \n",
    "print(\"np.multiply(a,s)=\")\n",
    "print(b)  \n",
    "b = np.divide(a, s)       \n",
    "print(\"np.divide(a,s)=\")\n",
    "print(b)  "
   ]
  },
  {
   "cell_type": "code",
<<<<<<< HEAD
<<<<<<< HEAD
   "execution_count": null,
   "metadata": {},
   "outputs": [],
=======
   "execution_count": 23,
=======
   "execution_count": 4,
>>>>>>> 23bf8809a62491c8a7a8c5a8f7366d9e605a0aba
   "metadata": {},
   "outputs": [
    {
     "name": "stdout",
     "output_type": "stream",
     "text": [
      "a=\n",
      "[[1 2]\n",
      " [3 4]]\n",
      "s=\n",
      "[[5 6]\n",
      " [7 8]]\n",
      "a.dot(s)=\n",
      "[[19 22]\n",
      " [43 50]]\n"
     ]
    }
   ],
>>>>>>> dad36f225f02a474dcc23f0c2bf64a355e0e8128
   "source": [
    "#二維陣列運算-點積\n",
    "a = np.array([[1,2],[3,4]])\n",
    "print(\"a=\")\n",
    "print(a)\n",
    "s = np.array([[5,6],[7,8]])\n",
    "print(\"s=\")\n",
    "print(s)\n",
    "b = a.dot(s)       \n",
    "print(\"a.dot(s)=\")\n",
    "print(b)    \n"
   ]
  },
  {
   "cell_type": "code",
<<<<<<< HEAD
<<<<<<< HEAD
   "execution_count": null,
   "metadata": {},
   "outputs": [],
=======
   "execution_count": 24,
=======
   "execution_count": 5,
>>>>>>> 23bf8809a62491c8a7a8c5a8f7366d9e605a0aba
   "metadata": {},
   "outputs": [
    {
     "name": "stdout",
     "output_type": "stream",
     "text": [
      "a=\n",
      "[[11 12 13 14 15]\n",
      " [16 17 18 19 20]\n",
      " [21 22 23 24 25]\n",
      " [26 27 28 29 30]\n",
      " [31 32 33 34 35]]\n",
      "a[0,1:4]=\n",
      "[12 13 14]\n",
      "a[1:4,0]=\n",
      "[16 21 26]\n",
      "a[:2,1:3]=\n",
      "[[12 13]\n",
      " [17 18]]\n",
      "a[:,1]=\n",
      "[12 17 22 27 32]\n",
      "a[::2,::2]=\n",
      "[[11 13 15]\n",
      " [21 23 25]\n",
      " [31 33 35]]\n"
     ]
    }
   ],
>>>>>>> dad36f225f02a474dcc23f0c2bf64a355e0e8128
   "source": [
    "#二維陣列切割\n",
    "a = np.arange(11,36)\n",
    "a = a.reshape(5,5)\n",
    "print(\"a=\")\n",
    "print(a)\n",
    "\n",
    "b = a[0, 1:4]     # 索引 [0,1~3]\n",
    "print(\"a[0,1:4]=\")\n",
    "print(b)\n",
    "b = a[1:4, 0]     # 索引 [1~3,0]\n",
    "print(\"a[1:4,0]=\")\n",
    "print(b)\n",
    "b = a[:2, 1:3]    # 索引 [0~1,1~2]\n",
    "print(\"a[:2,1:3]=\")\n",
    "print(b)\n",
    "b = a[:,1]        # 索引 [0~4,1]\n",
    "print(\"a[:,1]=\")\n",
    "print(b)\n",
    "b = a[::2, ::2]   # 索引 [0~2~4,0~2~4]\n",
    "print(\"a[::2,::2]=\")\n",
    "print(b)"
   ]
  },
  {
   "cell_type": "code",
<<<<<<< HEAD
   "execution_count": null,
   "metadata": {},
   "outputs": [],
=======
   "execution_count": 25,
   "metadata": {},
   "outputs": [
    {
     "name": "stdout",
     "output_type": "stream",
     "text": [
      "a=\n",
      "[[ 1  2  3]\n",
      " [ 4  5  6]\n",
      " [ 7  8  9]\n",
      " [10 11 12]]\n",
      "a[[0,1,2],[0,1,0]]=\n",
      "[1 5 7]\n",
      "np.array([a[0,0],a[1,1],a[2,0]])\n",
      "[1 5 7]\n",
      "idx=[0 2 0 1]\n",
      "a[np.arange(4),idx]=\n",
      "[ 1  6  7 11]\n",
      "a[np.arange(4), idx] += 10->\n",
      "[[11  2  3]\n",
      " [ 4  5 16]\n",
      " [17  8  9]\n",
      " [10 21 12]]\n"
     ]
    }
   ],
>>>>>>> dad36f225f02a474dcc23f0c2bf64a355e0e8128
   "source": [
    "#二維陣列切割\n",
    "a = np.array([[1,2,3],[4,5,6],[7,8,9],[10,11,12]])\n",
    "print(\"a=\")\n",
    "print(a)\n",
    "\n",
    "b = a[[0,1,2],[0,1,0]]   # 索引 [0,0][1,1][2,0]\n",
    "print(\"a[[0,1,2],[0,1,0]]=\")\n",
    "print(b)\n",
    "b = np.array([a[0,0],a[1,1],a[2,0]])  # 索引 [0,0][1,1][2,0]\n",
    "print(\"np.array([a[0,0],a[1,1],a[2,0]])\")\n",
    "print(b)\n",
    "\n",
    "idx = np.array([0, 2, 0, 1])\n",
    "print(\"idx=\" + str(idx))\n",
    "b = a[np.arange(4), idx]     # 索引 [0,0][1,2][2,0][3,1]\n",
    "print(\"a[np.arange(4),idx]=\")\n",
    "print(b)\n",
    "a[np.arange(4), idx] += 10\n",
    "print(\"a[np.arange(4), idx] += 10->\")\n",
    "print(a)"
   ]
  },
  {
   "cell_type": "code",
<<<<<<< HEAD
   "execution_count": null,
   "metadata": {},
   "outputs": [],
=======
   "execution_count": 26,
   "metadata": {},
   "outputs": [
    {
     "name": "stdout",
     "output_type": "stream",
     "text": [
      "a=\n",
      "[[1 2]\n",
      " [3 4]\n",
      " [5 6]]\n",
      "mask=\n",
      "[[False False]\n",
      " [ True  True]\n",
      " [ True  True]]\n",
      "a[mask]=[3 4 5 6]\n",
      "a[a>2]=-1->\n",
      "[[ 1  2]\n",
      " [-1 -1]\n",
      " [-1 -1]]\n"
     ]
    }
   ],
>>>>>>> dad36f225f02a474dcc23f0c2bf64a355e0e8128
   "source": [
    "#二維陣列切割 boolean\n",
    "a = np.array([[1,2],[3,4],[5,6]])\n",
    "print(\"a=\")\n",
    "print(a)\n",
    "\n",
    "mask = (a > 2)\n",
    "print(\"mask=\")\n",
    "print(mask)\n",
    "b = a[mask]           # 使用布林值陣列取出值\n",
    "print(\"a[mask]=\" + str(b))\n",
    "a[a > 2] = -1         # 同時更改多個True索引\n",
    "print(\"a[a>2]=-1->\")\n",
    "print(a)"
   ]
  },
  {
   "cell_type": "code",
<<<<<<< HEAD
   "execution_count": null,
   "metadata": {},
   "outputs": [],
=======
   "execution_count": 27,
   "metadata": {},
   "outputs": [
    {
     "name": "stdout",
     "output_type": "stream",
     "text": [
      "a=\n",
      "[[ 1  2  3]\n",
      " [ 4  5  6]\n",
      " [ 7  8  9]\n",
      " [10 11 12]]\n",
      "a 形狀: (4, 3)\n",
      "b=[1 0 1]\n",
      "b 形狀: (3,)\n",
      "[[ 2  2  4]\n",
      " [ 5  5  7]\n",
      " [ 8  8 10]\n",
      " [11 11 13]]\n"
     ]
    }
   ],
>>>>>>> dad36f225f02a474dcc23f0c2bf64a355e0e8128
   "source": [
    "#shape\n",
    "a = np.array([[1,2,3],[4,5,6],[7,8,9],[10,11,12]])\n",
    "print(\"a=\")\n",
    "print(a)\n",
    "print(\"a 形狀: \" + str(a.shape))\n",
    "b = np.array([1,0,1])\n",
    "print(\"b=\" + str(b))\n",
    "print(\"b 形狀: \" + str(b.shape))\n",
    "\n",
    "c = a + b\n",
    "print(c)"
   ]
  },
  {
   "cell_type": "code",
<<<<<<< HEAD
   "execution_count": null,
=======
   "execution_count": 28,
>>>>>>> dad36f225f02a474dcc23f0c2bf64a355e0e8128
   "metadata": {},
   "outputs": [
    {
     "name": "stdout",
     "output_type": "stream",
     "text": [
      "9\n",
      "0\n",
      "45\n",
      "4.5\n"
     ]
    }
   ],
   "source": [
    "#陣列函數\n",
    "a = np.arange(10)\n",
    "print(a.max())\n",
    "print(a.min())\n",
    "print(a.sum())\n",
    "print(a.mean())"
   ]
  },
  {
   "cell_type": "code",
<<<<<<< HEAD
   "execution_count": null,
=======
   "execution_count": 29,
>>>>>>> dad36f225f02a474dcc23f0c2bf64a355e0e8128
   "metadata": {},
   "outputs": [
    {
     "name": "stdout",
     "output_type": "stream",
     "text": [
      "a:\n",
      "[[0 1 2]\n",
      " [3 4 5]]\n",
      "----- axis =0  ----- \n",
      "a.max :  [3 4 5]\n",
      "a.min : [0 1 2]\n",
      "a.sum : [3 5 7]\n",
      "a.mean  [1.5 2.5 3.5]\n",
      "\n",
      "----- axis =1  ----- \n",
      "a.max :  [2 5]\n",
      "a.min : [0 3]\n",
      "a.sum : [ 3 12]\n",
      "a.mean  [1. 4.]\n"
     ]
    }
   ],
   "source": [
    "#陣列函數\n",
    "a = np.arange(6)\n",
    "a = a.reshape(2,3)\n",
    "print(\"a:\")\n",
    "print(a)\n",
    "print(\"----- axis =0  ----- \")\n",
    "print(\"a.max : \", a.max(axis =0))\n",
    "print(\"a.min :\", a.min(axis =0))\n",
    "print(\"a.sum :\",a.sum(axis =0))\n",
    "print(\"a.mean \", a.mean(axis =0))\n",
    "print()\n",
    "print(\"----- axis =1  ----- \")\n",
    "print(\"a.max : \", a.max(axis =1))\n",
    "print(\"a.min :\", a.min(axis =1))\n",
    "print(\"a.sum :\",a.sum(axis =1))\n",
    "print(\"a.mean \", a.mean(axis =1))"
   ]
  },
  {
   "cell_type": "code",
<<<<<<< HEAD
   "execution_count": null,
=======
   "execution_count": 30,
>>>>>>> dad36f225f02a474dcc23f0c2bf64a355e0e8128
   "metadata": {},
   "outputs": [
    {
     "name": "stdout",
     "output_type": "stream",
     "text": [
      "[0 1 2 3 4 5]\n",
      "b shape: (1, 6)\n",
      "[[0 1 2 3 4 5]]\n",
      "c shape: (6, 1)\n",
      "[[0]\n",
      " [1]\n",
      " [2]\n",
      " [3]\n",
      " [4]\n",
      " [5]]\n"
     ]
    }
   ],
   "source": [
    "# 增加維度 expand_dims\n",
    "a =np.arange(6)\n",
    "print(a)\n",
    "b = np.expand_dims(a, axis =0)\n",
    "print(\"b shape:\",b. shape)\n",
    "print(b)\n",
    "c = np.expand_dims(a, axis =1)\n",
    "print(\"c shape:\",c.shape)\n",
    "print(c)\n"
   ]
  },
  {
   "cell_type": "code",
<<<<<<< HEAD
   "execution_count": null,
=======
   "execution_count": 31,
   "metadata": {},
   "outputs": [
    {
     "name": "stdout",
     "output_type": "stream",
     "text": [
      "d shape: (6,)\n",
      "[0 1 2 3 4 5]\n",
      "e shape: (6,)\n",
      "[0 1 2 3 4 5]\n"
     ]
    }
   ],
   "source": [
    "# 減少(壓縮)維度 將維度維 一 的 壓縮\n",
    "d = np.squeeze(b)\n",
    "print(\"d shape:\",d.shape)\n",
    "print(d)\n",
    "\n",
    "e = np.squeeze(c)\n",
    "print(\"e shape:\",e.shape)\n",
    "print(e)\n"
   ]
  },
  {
   "cell_type": "code",
   "execution_count": 32,
>>>>>>> dad36f225f02a474dcc23f0c2bf64a355e0e8128
   "metadata": {},
   "outputs": [
    {
     "name": "stdout",
     "output_type": "stream",
     "text": [
      "a=\n",
      "[[1 2 3]\n",
      " [4 5 6]]\n",
      "a.ravel()=[1 2 3 4 5 6]\n",
      "np.ravel(a)=[1 2 3 4 5 6]\n"
     ]
    }
   ],
<<<<<<< HEAD
   "source": [
    "# 減少(壓縮)維度 將維度維 一 的 壓縮\n",
    "d = np.squeeze(b)\n",
    "print(\"d shape:\",d.shape)\n",
    "print(d)\n",
    "\n",
    "e = np.squeeze(c)\n",
    "print(\"e shape:\",e.shape)\n",
    "print(e)\n"
   ]
  },
  {
   "cell_type": "code",
   "execution_count": null,
   "metadata": {},
   "outputs": [],
=======
>>>>>>> dad36f225f02a474dcc23f0c2bf64a355e0e8128
   "source": [
    "#陣列函數 ravel()\n",
    "a = np.array([[1,2,3],[4,5,6]])\n",
    "print(\"a=\")\n",
    "print(a)\n",
    "\n",
    "b = a.ravel()\n",
    "print(\"a.ravel()=\" + str(b))\n",
    "b = np.ravel(a)\n",
    "print(\"np.ravel(a)=\" + str(b))"
   ]
  },
  {
   "cell_type": "code",
<<<<<<< HEAD
   "execution_count": null,
   "metadata": {},
   "outputs": [],
=======
   "execution_count": 33,
   "metadata": {},
   "outputs": [
    {
     "name": "stdout",
     "output_type": "stream",
     "text": [
      "a=[1 2 3 4 5 6]\n",
      "b=np.reshape(a,(3,2))->\n",
      "[[1 2]\n",
      " [3 4]\n",
      " [5 6]]\n",
      "c=b.T->\n",
      "[[1 3 5]\n",
      " [2 4 6]]\n",
      "c=b.transpose()->\n",
      "[[1 3 5]\n",
      " [2 4 6]]\n",
      "c=np.transpose(b)->\n",
      "[[1 3 5]\n",
      " [2 4 6]]\n"
     ]
    }
   ],
>>>>>>> dad36f225f02a474dcc23f0c2bf64a355e0e8128
   "source": [
    "#陣列函數 transpose\n",
    "a = np.array([1,2,3,4,5,6])\n",
    "print(\"a=\" + str(a))\n",
    "\n",
    "b = np.reshape(a,(3,2))\n",
    "print(\"b=np.reshape(a,(3,2))->\")\n",
    "print(b)\n",
    "c = b.T\n",
    "print(\"c=b.T->\")\n",
    "print(c)\n",
    "c = b.transpose()\n",
    "print(\"c=b.transpose()->\")\n",
    "print(c)\n",
    "c = np.transpose(b)\n",
    "print(\"c=np.transpose(b)->\")\n",
    "print(c)"
   ]
  },
  {
   "cell_type": "code",
<<<<<<< HEAD
   "execution_count": null,
   "metadata": {},
   "outputs": [],
=======
   "execution_count": 34,
   "metadata": {},
   "outputs": [
    {
     "name": "stdout",
     "output_type": "stream",
     "text": [
      "a=[1 2 3]\n",
      "b=a[:,np.newaxis]->\n",
      "[[1]\n",
      " [2]\n",
      " [3]]\n",
      "(3, 1)\n",
      "b=a[np.newaxis,:]->\n",
      "[[1 2 3]]\n",
      "(1, 3)\n"
     ]
    }
   ],
>>>>>>> dad36f225f02a474dcc23f0c2bf64a355e0e8128
   "source": [
    "#陣列函數 newaxis\n",
    "a = np.array([1,2,3])\n",
    "print(\"a=\" + str(a))\n",
    "\n",
    "b = a[:, np.newaxis]\n",
    "print(\"b=a[:,np.newaxis]->\")\n",
    "print(b)\n",
    "print(b.shape)\n",
    "b = a[np.newaxis, :]\n",
    "print(\"b=a[np.newaxis,:]->\")\n",
    "print(b)\n",
    "print(b.shape)"
   ]
  },
  {
   "cell_type": "code",
<<<<<<< HEAD
   "execution_count": null,
=======
   "execution_count": 35,
   "metadata": {},
   "outputs": [
    {
     "name": "stdout",
     "output_type": "stream",
     "text": [
      "[1 2 3]\n",
      "[False False False]\n",
      "[]\n",
      "[1 2 3]\n"
     ]
    }
   ],
   "source": [
    "# 陣列搜尋與判斷\n",
    "\n",
    "condition_b = a > 5   # 產生 boolean array\n",
    "print(a)\n",
    "print(condition_b) \n",
    "print(a[condition_b]) # 過濾 a 陣列\n",
    "a[condition_b] = 0\n",
    "print(a)\n"
   ]
  },
  {
   "cell_type": "code",
   "execution_count": 36,
>>>>>>> dad36f225f02a474dcc23f0c2bf64a355e0e8128
   "metadata": {},
   "outputs": [
    {
     "name": "stdout",
     "output_type": "stream",
     "text": [
      "10 4 10\n"
     ]
    }
   ],
<<<<<<< HEAD
   "source": [
    "# 陣列搜尋與判斷\n",
    "\n",
    "condition_b = a > 5   # 產生 boolean array\n",
    "print(a)\n",
    "print(condition_b) \n",
    "print(a[condition_b]) # 過濾 a 陣列\n",
    "a[condition_b] = 0\n",
    "print(a)\n"
   ]
  },
  {
   "cell_type": "code",
   "execution_count": null,
   "metadata": {},
   "outputs": [],
=======
>>>>>>> dad36f225f02a474dcc23f0c2bf64a355e0e8128
   "source": [
    "# 陣列搜尋與判斷 argmax\n",
    "a =np.array([2,4,6,8,10])\n",
    "max = a.max()  #最大值\n",
    "index = a.argmax()  # 最大值索引\n",
    "print(max, index, a[index])"
   ]
  },
  {
   "cell_type": "code",
<<<<<<< HEAD
   "execution_count": null,
=======
   "execution_count": 37,
>>>>>>> dad36f225f02a474dcc23f0c2bf64a355e0e8128
   "metadata": {},
   "outputs": [
    {
     "name": "stdout",
     "output_type": "stream",
     "text": [
      "[5 4 1 2 3]\n",
      "[[6 5 4]\n",
      " [1 2 3]]\n",
      "[1 2 3 4 5]\n",
      "-------sort by axis = 0  --------------\n",
      "[[1 2 3]\n",
      " [6 5 4]]\n",
      "-------sort by axis = 1  --------------\n",
      "[[4 5 6]\n",
      " [1 2 3]]\n"
     ]
    }
   ],
   "source": [
    "# sort\n",
    "a = np.array([5,4,1,2,3])\n",
    "b = np.array([[6,5,4],[1,2,3]])\n",
    "print(a)\n",
    "print(b)\n",
    "print(np.sort(a))\n",
    "print(\"-------sort by axis = 0  --------------\")\n",
    "print(np.sort(b, axis =0))\n",
    "print(\"-------sort by axis = 1  --------------\")\n",
    "print(np.sort(b, axis =1))"
   ]
  },
  {
   "cell_type": "code",
<<<<<<< HEAD
   "execution_count": null,
=======
   "execution_count": 38,
   "metadata": {},
   "outputs": [
    {
     "name": "stdout",
     "output_type": "stream",
     "text": [
      "[27 17 69 43 56 77 80 90 15 92]\n"
     ]
    }
   ],
   "source": [
    "# 亂數產生陣列\n",
    "np.random.seed(200)\n",
    "a = np.random.randint(low = 1, high = 100, size =10)\n",
    "print(a)\n"
   ]
  },
  {
   "cell_type": "code",
   "execution_count": 39,
>>>>>>> dad36f225f02a474dcc23f0c2bf64a355e0e8128
   "metadata": {},
   "outputs": [
    {
     "name": "stdout",
     "output_type": "stream",
     "text": [
      "[-1.74976547]\n",
      "[-1.74976547]\n",
      "[1.3315865]\n"
     ]
    }
   ],
<<<<<<< HEAD
   "source": [
    "# 亂數產生陣列\n",
    "np.random.seed(200)\n",
    "a = np.random.randint(low = 1, high = 100, size =10)\n",
    "print(a)\n"
   ]
  },
  {
   "cell_type": "code",
   "execution_count": null,
   "metadata": {},
   "outputs": [
    {
     "name": "stdout",
     "output_type": "stream",
     "text": [
      "[-1.74976547]\n",
      "[-1.74976547]\n",
      "[1.3315865]\n"
     ]
    }
   ],
=======
>>>>>>> dad36f225f02a474dcc23f0c2bf64a355e0e8128
   "source": [
    "# 亂數產生陣列\n",
    "np.random.seed(100)\n",
    "a = np.random.randn(1)\n",
    "print(a)\n",
    "np.random.seed(100)\n",
    "a = np.random.randn(1)\n",
    "print(a)\n",
    "\n",
    "np.random.seed(10)\n",
    "a = np.random.randn(1)\n",
    "print(a)\n",
    "\n"
   ]
  },
  {
   "cell_type": "code",
<<<<<<< HEAD
   "execution_count": null,
=======
   "execution_count": 40,
   "metadata": {},
   "outputs": [
    {
     "name": "stdout",
     "output_type": "stream",
     "text": [
      "[ 0.71527897 -1.54540029 -0.00838385 ...  1.25073922  1.1629442\n",
      " -2.18695198]\n",
      "0.00475020215321972\n"
     ]
    }
   ],
   "source": [
    "# 亂數產生陣列\n",
    "b = np.random.randn(10000)\n",
    "print(b)\n",
    "print(b.mean())  # 平均逼近 0"
   ]
  },
  {
   "cell_type": "code",
   "execution_count": 41,
>>>>>>> dad36f225f02a474dcc23f0c2bf64a355e0e8128
   "metadata": {},
   "outputs": [
    {
     "name": "stdout",
     "output_type": "stream",
     "text": [
      "a=[1 2 3]\n",
      "b=a.copy()->[1 2 3]\n",
      "b.fill(0)=[4 4 4]\n",
      "c=np.concatenate((a,b))->[1 2 3 4 4 4]\n"
     ]
    }
   ],
<<<<<<< HEAD
   "source": [
    "# 亂數產生陣列\n",
    "b = np.random.randn(10000)\n",
    "print(b)\n",
    "print(b.mean())  # 平均逼近 0"
   ]
  },
  {
   "cell_type": "code",
   "execution_count": null,
   "metadata": {},
   "outputs": [],
=======
>>>>>>> dad36f225f02a474dcc23f0c2bf64a355e0e8128
   "source": [
    "#陣列函數 copy\n",
    "a = np.array([1,2,3])\n",
    "print(\"a=\" + str(a))\n",
    "\n",
    "b = a.copy()\n",
    "print(\"b=a.copy()->\" + str(b))\n",
    "b.fill(4)\n",
    "print(\"b.fill(0)=\" + str(b))\n",
    "c = np.concatenate((a,b))\n",
    "print(\"c=np.concatenate((a,b))->\" + str(c))"
   ]
  },
  {
   "cell_type": "code",
<<<<<<< HEAD
   "execution_count": null,
   "metadata": {},
   "outputs": [],
=======
   "execution_count": 42,
   "metadata": {},
   "outputs": [
    {
     "name": "stdout",
     "output_type": "stream",
     "text": [
      "c=np.concatenate((a,b))->\n",
      "[[1 2]\n",
      " [3 4]\n",
      " [5 6]\n",
      " [7 8]]\n",
      "c=np.concatenate((a,b), axis=0)->\n",
      "[[1 2]\n",
      " [3 4]\n",
      " [5 6]\n",
      " [7 8]]\n",
      "c=np.concatenate((a,b), axis=1)->\n",
      "[[1 2 5 6]\n",
      " [3 4 7 8]]\n"
     ]
    }
   ],
>>>>>>> dad36f225f02a474dcc23f0c2bf64a355e0e8128
   "source": [
    "#陣列函數concatenate\n",
    "a = np.array([[1,2],[3,4]])\n",
    "b = np.array([[5,6],[7,8]])\n",
    "\n",
    "c = np.concatenate((a,b))\n",
    "print(\"c=np.concatenate((a,b))->\")\n",
    "print(c)\n",
    "c = np.concatenate((a,b), axis=0)\n",
    "print(\"c=np.concatenate((a,b), axis=0)->\")\n",
    "print(c)\n",
    "c = np.concatenate((a,b), axis=1)\n",
    "print(\"c=np.concatenate((a,b), axis=1)->\")\n",
    "print(c)"
   ]
  },
  {
   "cell_type": "code",
<<<<<<< HEAD
   "execution_count": null,
   "metadata": {},
   "outputs": [],
=======
   "execution_count": 43,
   "metadata": {},
   "outputs": [
    {
     "name": "stdout",
     "output_type": "stream",
     "text": [
      "0.3367724725390667 0.5269343749958971\n",
      "6 46\n"
     ]
    }
   ],
>>>>>>> dad36f225f02a474dcc23f0c2bf64a355e0e8128
   "source": [
    "#陣列 random\n",
    "np.random.seed(293423)\n",
    "\n",
    "v1 = np.random.random()\n",
    "v2 = np.random.random()\n",
    "print(v1, v2)\n",
    "v3 = np.random.randint(5, 10)\n",
    "v4 = np.random.randint(1, 101)\n",
    "print(v3, v4)\n"
   ]
  },
  {
   "cell_type": "code",
<<<<<<< HEAD
   "execution_count": null,
   "metadata": {},
   "outputs": [],
=======
   "execution_count": 44,
   "metadata": {},
   "outputs": [
    {
     "name": "stdout",
     "output_type": "stream",
     "text": [
      "np.random.rand(5)=\n",
      "[0.26955445 0.77197706 0.14482839 0.15020444 0.31065722]\n",
      "np.random.rand(3,2)=\n",
      "[[0.10757354 0.44859732]\n",
      " [0.39866043 0.82548397]\n",
      " [0.48373439 0.52953872]]\n",
      "np.random.randint(5,10,size=5)\n",
      "[5 7 7 7 5]\n",
      "np.random.randint(5,10,size=(2,3))\n",
      "[[6 6 8]\n",
      " [6 6 5]]\n"
     ]
    }
   ],
>>>>>>> dad36f225f02a474dcc23f0c2bf64a355e0e8128
   "source": [
    "#陣列 random()\n",
    "a = np.random.rand(5)\n",
    "print(\"np.random.rand(5)=\")\n",
    "print(a)\n",
    "b = np.random.rand(3, 2)  \n",
    "print(\"np.random.rand(3,2)=\")\n",
    "print(b)\n",
    "c = np.random.randint(5, 10, size=5)\n",
    "print(\"np.random.randint(5,10,size=5)\")\n",
    "print(c)\n",
    "d = np.random.randint(5, 10, size=(2,3))\n",
    "print(\"np.random.randint(5,10,size=(2,3))\")\n",
    "print(d)"
   ]
  },
  {
   "cell_type": "code",
<<<<<<< HEAD
   "execution_count": null,
   "metadata": {},
   "outputs": [],
=======
   "execution_count": 45,
   "metadata": {},
   "outputs": [
    {
     "name": "stdout",
     "output_type": "stream",
     "text": [
      "[0.5        0.70710678 0.8660254 ]\n",
      "[0.8660254  0.70710678 0.5       ]\n",
      "[0.57735027 1.         1.73205081]\n"
     ]
    }
   ],
>>>>>>> dad36f225f02a474dcc23f0c2bf64a355e0e8128
   "source": [
    "#陣列 三角函數\n",
    "a = np.array([30,45,60]) \n",
    "\n",
    "print(np.sin(a*np.pi/180)) \n",
    "print(np.cos(a*np.pi/180)) \n",
    "print(np.tan(a*np.pi/180)) "
   ]
  },
  {
   "cell_type": "code",
<<<<<<< HEAD
   "execution_count": null,
   "metadata": {},
   "outputs": [],
=======
   "execution_count": 46,
   "metadata": {},
   "outputs": [
    {
     "name": "stdout",
     "output_type": "stream",
     "text": [
      "a=[  1.      5.55  123.      0.567  25.532]\n",
      "[  1.   6. 123.   1.  26.]\n",
      "[  1.    5.6 123.    0.6  25.5]\n",
      "[  0.  10. 120.   0.  30.]\n",
      "a=[-1.7  1.5 -0.2  0.6 10. ]\n",
      "floor()=[-2.  1. -1.  0. 10.]\n",
      "ceil()=[-1.  2. -0.  1. 10.]\n"
     ]
    }
   ],
>>>>>>> dad36f225f02a474dcc23f0c2bf64a355e0e8128
   "source": [
    "#四捨五入\n",
    "a = np.array([1.0,5.55, 123, 0.567, 25.532]) \n",
    "print(\"a=\" + str(a))\n",
    "\n",
    "print(np.around(a))\n",
    "print(np.around(a, decimals = 1))\n",
    "print(np.around(a, decimals = -1))\n",
    "\n",
    "a = np.array([-1.7, 1.5, -0.2, 0.6, 10]) \n",
    "print(\"a=\" + str(a))\n",
    "\n",
    "b = np.floor(a)\n",
    "print(\"floor()=\" + str(b))\n",
    "b = np.ceil(a)\n",
    "print(\"ceil()=\" + str(b))"
   ]
  },
  {
   "cell_type": "code",
   "execution_count": null,
   "metadata": {},
   "outputs": [],
   "source": []
  },
  {
   "cell_type": "code",
   "execution_count": null,
   "metadata": {},
   "outputs": [],
   "source": []
  }
 ],
 "metadata": {
  "interpreter": {
<<<<<<< HEAD
   "hash": "371ed727e43652cda0dd30258e7564adae7bfc4b1dd463729551177209a0aa1f"
  },
  "kernelspec": {
   "display_name": "Python 3.8.8 64-bit ('base': conda)",
=======
   "hash": "aee8b7b246df8f9039afb4144a1f6fd8d2ca17a180786b69acc140d282b71a49"
  },
  "kernelspec": {
   "display_name": "Python 3.9.7 64-bit",
>>>>>>> dad36f225f02a474dcc23f0c2bf64a355e0e8128
   "name": "python3"
  },
  "language_info": {
   "codemirror_mode": {
    "name": "ipython",
    "version": 3
   },
   "file_extension": ".py",
   "mimetype": "text/x-python",
   "name": "python",
   "nbconvert_exporter": "python",
   "pygments_lexer": "ipython3",
<<<<<<< HEAD
   "version": "3.8.8"
=======
   "version": "3.9.7"
>>>>>>> dad36f225f02a474dcc23f0c2bf64a355e0e8128
  }
 },
 "nbformat": 4,
 "nbformat_minor": 2
}
