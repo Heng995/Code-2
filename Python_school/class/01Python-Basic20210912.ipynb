{
 "cells": [
  {
   "cell_type": "markdown",
   "metadata": {},
   "source": [
    "# Python programming \n",
    "Basic syntax \n",
    "data type \n",
    "flow control\n",
    "print format\n",
    "container:list,dic,tuple,set\n",
    "function"
   ]
  },
  {
   "cell_type": "markdown",
   "metadata": {},
   "source": [
    "# Jupyter hot key \n",
    "Shift + enter :執行cell\n",
    "Esc+a : (above)在cell上方新增一個cell\n",
    "Esc+b : b(below)在cell下方新增一個cell\n",
    "Esc+h: 能列出所有的快捷鍵\n",
    "Shift + tab :看函式的說明， \n",
    "Esc + d : 刪除目前的cell\n",
    "\n",
    "\"#\" 為程式碼註解 不會被執行"
   ]
  },
  {
   "cell_type": "code",
   "execution_count": 8,
   "metadata": {},
   "outputs": [
    {
     "name": "stdout",
     "output_type": "stream",
     "text": [
      "Hello World\n",
      "Hello MUST\n",
      "How are you?  I'm fine.\n",
      "This is a book.\n",
      "That is a desk.\n"
     ]
    }
   ],
   "source": [
    "# 使用 \"  \", '   ', 雙引號或單引號印出一串字， 使用'''    ''' 三個單引號 印出一段字\n",
    "print(\"Hello World\")\n",
    "print('Hello MUST')\n",
    "\n",
    "print('''How are you?  I'm fine.\n",
    "This is a book.\n",
    "That is a desk.''')"
   ]
  },
  {
   "cell_type": "code",
   "execution_count": 9,
   "metadata": {},
   "outputs": [
    {
     "name": "stdout",
     "output_type": "stream",
     "text": [
      "Hello  MUST\n",
      "Hello MUST\n",
      "I am  18 years old.\n"
     ]
    }
   ],
   "source": [
    "#逗號分隔印出空格效果\n",
    "print(\"Hello\", \" MUST\")\n",
    "print(\"Hello\", \"MUST\")\n",
    "print(\"I am \",18, \"years old.\")"
   ]
  },
  {
   "cell_type": "code",
   "execution_count": 11,
   "metadata": {},
   "outputs": [
    {
     "name": "stdout",
     "output_type": "stream",
     "text": [
      "Hello\n",
      "MUST\n",
      "HelloMUST\n",
      "Hello MUST\n"
     ]
    }
   ],
   "source": [
    "#print 預設會跳行、不想跳行 則在結尾加 end=''\n",
    "print(\"Hello\")\n",
    "print(\"MUST\")\n",
    "print(\"Hello\", end ='')\n",
    "print(\"MUST\")\n",
    "print(\"Hello\", end =' ')\n",
    "print(\"MUST\")"
   ]
  },
  {
   "cell_type": "code",
   "execution_count": null,
   "metadata": {},
   "outputs": [],
   "source": []
  },
  {
   "cell_type": "code",
   "execution_count": 14,
   "metadata": {},
   "outputs": [
    {
     "name": "stdout",
     "output_type": "stream",
     "text": [
      "An apple cost 50 dollars\n",
      "An apple cost 50 dollars and a banana cost 60 dollars\n"
     ]
    }
   ],
   "source": [
    "#印有帶變數字串，要在印出變數的地方輸入變數的 format code，並在字串後面輸入 % 後面再擺放變數\n",
    "# format code %d 整數十進位，   %f 浮點數，   %s 字串\n",
    "# 第一種方法\n",
    "aPrice = 50\n",
    "# print(\"An apple cost %d dollars\", %aPrice)  錯誤語法\n",
    "print(\"An apple cost %d dollars\" %aPrice)\n",
    "bPrice = 60\n",
    "print(\"An apple cost %d dollars and a banana cost %d dollars\" %(aPrice, bPrice))"
   ]
  },
  {
   "cell_type": "code",
   "execution_count": 15,
   "metadata": {},
   "outputs": [
    {
     "name": "stdout",
     "output_type": "stream",
     "text": [
      "An apple cost 50 dollars and a banana cost 60 dollars\n"
     ]
    }
   ],
   "source": [
    "#第二種方法 \n",
    "# format string 用需要輸入資料的地方用{}表示，在字串後面標上 .format()，括號內填入變數，\n",
    "# 此方法好處:不用記 format code\n",
    "print(\"An apple cost {} dollars and a banana cost {} dollars\".format(aPrice, bPrice))"
   ]
  },
  {
   "cell_type": "code",
   "execution_count": 17,
   "metadata": {},
   "outputs": [
    {
     "name": "stdout",
     "output_type": "stream",
     "text": [
      "An apple cost 50 dollars and a banana cost 60 dollars\n"
     ]
    }
   ],
   "source": [
    "# 第三種方法\n",
    "# f-string : 引號前加 \"f\" 代表 f-string，直接將變數包在大括號內，置入字串中輸出\n",
    "print(f\"An apple cost {aPrice} dollars and a banana cost {bPrice} dollars\")"
   ]
  },
  {
   "cell_type": "markdown",
   "metadata": {},
   "source": [
    "# 輸入"
   ]
  },
  {
   "cell_type": "code",
   "execution_count": 18,
   "metadata": {},
   "outputs": [
    {
     "name": "stdout",
     "output_type": "stream",
     "text": [
      "Mary\n",
      "Mary\n"
     ]
    }
   ],
   "source": [
    "name = input()\n",
    "print(name)"
   ]
  },
  {
   "cell_type": "code",
   "execution_count": 20,
   "metadata": {},
   "outputs": [
    {
     "name": "stdout",
     "output_type": "stream",
     "text": [
      "What's your name?mary\n",
      "your name is mary\n"
     ]
    }
   ],
   "source": [
    "name = input(\"What's your name?\")\n",
    "print(f\"your name is {name}\")"
   ]
  },
  {
   "cell_type": "markdown",
   "metadata": {},
   "source": [
    "# Quiz-01\n",
    "# 輸入姓名、性別、年齡\n",
    "# 以三種輸出方式印出姓名、性別、年齡 三種資料\n"
   ]
  },
  {
   "cell_type": "code",
   "execution_count": 30,
   "metadata": {},
   "outputs": [
    {
     "name": "stdout",
     "output_type": "stream",
     "text": [
      "name:12\n",
      "sex:12\n",
      "age:23\n",
      "Name : 12, Sex : 12, Age : 23\n",
      "Name : 12, Sex : 12, Age : 23\n",
      "Name : 12, Sex : 12, Age : 23\n"
     ]
    }
   ],
   "source": [
    "name = input(\"name:\")\n",
    "sex = input(\"sex:\")\n",
    "age = input(\"age:\")\n",
    "# print(\"Name : %s, Sex : %s, Age : %d\" %(name, sex,age))  錯誤語法\n",
    "print(\"Name : %s, Sex : %s, Age : %s\" %(name, sex,age))\n",
    "print(\"Name : {}, Sex : {}, Age : {}\".format(name, sex,age))\n",
    "#print(\"Name : {name}, Sex : {sex}, Age : {age}\")   錯誤語法\n",
    "print(f\"Name : {name}, Sex : {sex}, Age : {age}\")"
   ]
  },
  {
   "cell_type": "markdown",
   "metadata": {},
   "source": [
    "# Python 使用變數時，不用事先宣告變數型態，透過指派給變數的值，自動設定型態。"
   ]
  },
  {
   "cell_type": "code",
   "execution_count": 33,
   "metadata": {},
   "outputs": [
    {
     "name": "stdout",
     "output_type": "stream",
     "text": [
      "a: <class 'int'> b: <class 'float'> c: <class 'str'>\n",
      "a: <class 'float'> b: <class 'str'> c: <class 'int'>\n"
     ]
    }
   ],
   "source": [
    "a= 100\n",
    "b= 1.23\n",
    "c= \"Hello\"\n",
    "print(\"a:\",type(a), \"b:\", type(b),\"c:\",type(c))\n",
    "\n",
    "a=1.23\n",
    "c= 100\n",
    "b= \"Hello\"\n",
    "print(\"a:\",type(a), \"b:\", type(b),\"c:\",type(c))"
   ]
  },
  {
   "cell_type": "code",
   "execution_count": 36,
   "metadata": {},
   "outputs": [
    {
     "name": "stdout",
     "output_type": "stream",
     "text": [
      " T : <class 'bool'> data type，value = True\n",
      " F : <class 'bool'> data type，value = False\n"
     ]
    }
   ],
   "source": [
    "# 變數型態 : Boolean、integer、float、 string\n",
    "T = True\n",
    "F = False\n",
    "# T = TRUE 、 F = FALSE  錯誤語法\n",
    "print(f\" T : {type(T)} data type，value = {T}\")\n",
    "print(f\" F : {type(F)} data type，value = {F}\")\n",
    "\n"
   ]
  },
  {
   "cell_type": "code",
   "execution_count": 37,
   "metadata": {},
   "outputs": [
    {
     "name": "stdout",
     "output_type": "stream",
     "text": [
      " a : <class 'int'> data type，value = 100\n"
     ]
    }
   ],
   "source": [
    "a=100\n",
    "print(f\" a : {type(a)} data type，value = {a}\")"
   ]
  },
  {
   "cell_type": "code",
   "execution_count": 39,
   "metadata": {},
   "outputs": [
    {
     "name": "stdout",
     "output_type": "stream",
     "text": [
      " f1 : <class 'float'> data type，value = 123.0\n",
      " f2 : <class 'float'> data type，value = 123.0\n",
      " f3 : <class 'float'> data type，value = 123.0\n",
      " f4 : <class 'float'> data type，value = 123.0\n"
     ]
    }
   ],
   "source": [
    "f1= 123.\n",
    "f2=123.0\n",
    "f3=1.23e2\n",
    "f4=float(123)\n",
    "print(f\" f1 : {type(f1)} data type，value = {f1}\")\n",
    "print(f\" f2 : {type(f1)} data type，value = {f2}\")\n",
    "print(f\" f3 : {type(f1)} data type，value = {f3}\")\n",
    "print(f\" f4 : {type(f1)} data type，value = {f4}\")"
   ]
  },
  {
   "cell_type": "code",
   "execution_count": 1,
   "metadata": {},
   "outputs": [
    {
     "name": "stdout",
     "output_type": "stream",
     "text": [
      " s : <class 'str'> data type，value = 0123456789\n"
     ]
    }
   ],
   "source": [
    "# 宣告字串用 單引號或雙引號包著\n",
    "s = \"0123456789\"\n",
    "print(f\" s : {type(s)} data type，value = {s}\")"
   ]
  },
  {
   "cell_type": "code",
   "execution_count": 41,
   "metadata": {},
   "outputs": [
    {
     "name": "stdout",
     "output_type": "stream",
     "text": [
      "3\n",
      "345\n",
      "012\n",
      "3456789\n",
      "0123456789\n"
     ]
    }
   ],
   "source": [
    "#字串切割(slice)\n",
    "# index 指的是字元在字串的位置\n",
    "# 透過 index 擷取單一字元或是字串片段\n",
    "s =\"abcdef\"\n",
    "print(s[3])    #3--> 6--1. [3,6) close open\n",
    "print(s[3:6])    \n",
    "print(s[:3])\n",
    "print(s[3:])\n",
    "print(s[:3]+s[3:])\n"
   ]
  },
  {
   "cell_type": "code",
   "execution_count": 42,
   "metadata": {},
   "outputs": [
    {
     "name": "stdout",
     "output_type": "stream",
     "text": [
      "246\n"
     ]
    }
   ],
   "source": [
    "#正數 index + 往右跳格\n",
    "print(s[2:8:2])\n",
    "print(s[:8:2])\n",
    "print(s[2::2])\n",
    "\n"
   ]
  },
  {
   "cell_type": "code",
   "execution_count": 44,
   "metadata": {},
   "outputs": [
    {
     "name": "stdout",
     "output_type": "stream",
     "text": [
      "9\n",
      "8\n",
      "975\n"
     ]
    }
   ],
   "source": [
    "# 負數 index 為從右往左數 -1 開始(倒數第一個)\n",
    "print(s[-1])\n",
    "print(s[-2])\n",
    "# 負數 index 片段 + 往左跳格\n",
    "print(s[-1:-6:-2])"
   ]
  },
  {
   "cell_type": "code",
   "execution_count": 2,
   "metadata": {},
   "outputs": [
    {
     "name": "stdout",
     "output_type": "stream",
     "text": [
      "9876543210\n"
     ]
    }
   ],
   "source": [
    "# 將字串倒轉過來\n",
    "print(s[::-1])"
   ]
  },
  {
   "cell_type": "code",
   "execution_count": 5,
   "metadata": {},
   "outputs": [
    {
     "name": "stdout",
     "output_type": "stream",
     "text": [
      "65\n",
      "A\n",
      "c : <class 'str'> data type, value = A\n"
     ]
    }
   ],
   "source": [
    "# 單一字元可以查詢 ACII 值、但其形態屬於字串\n",
    "c ='A'\n",
    "print(ord(c))\n",
    "print(chr(65))\n",
    "print(f'c : {type(c)} data type, value = {c}')"
   ]
  },
  {
   "cell_type": "markdown",
   "metadata": {},
   "source": [
    "# None Type"
   ]
  },
  {
   "cell_type": "code",
   "execution_count": 6,
   "metadata": {},
   "outputs": [
    {
     "name": "stdout",
     "output_type": "stream",
     "text": [
      "N : <class 'NoneType'> data type, value = None\n"
     ]
    }
   ],
   "source": [
    "# None 也是一種型別、在呼叫函數時用以偵測函數是否執行成功，回傳 None 可能代表沒有成功\n",
    "N = None\n",
    "print(f'N : {type(N)} data type, value = {N}')"
   ]
  },
  {
   "cell_type": "markdown",
   "metadata": {},
   "source": [
    "# 多變數宣告"
   ]
  },
  {
   "cell_type": "code",
   "execution_count": 7,
   "metadata": {},
   "outputs": [
    {
     "name": "stdout",
     "output_type": "stream",
     "text": [
      "5 5 5 5 5\n",
      "five 6 1.23\n"
     ]
    }
   ],
   "source": [
    "#多變數宣告同一值\n",
    "a = b = c = d = e = 5\n",
    "print(a,b,c,d,e)\n",
    "# a=b=5=c=d=e   錯誤語法 5(有值得物件) 不能被拿來宣告、所以要擺在最左邊\n",
    "# 多變數宣告為不同值\n",
    "a,b,c ='five', 6, 1.23\n",
    "print(a,b,c)"
   ]
  },
  {
   "cell_type": "markdown",
   "metadata": {},
   "source": [
    "# 型別轉換"
   ]
  },
  {
   "cell_type": "code",
   "execution_count": 9,
   "metadata": {},
   "outputs": [
    {
     "name": "stdout",
     "output_type": "stream",
     "text": [
      "Int_s : <class 'int'> data type, value = 12345\n",
      "Float_s : <class 'float'> data type, value = 12345.0\n",
      "Complex_s : <class 'complex'> data type, value = (12345+0j)\n"
     ]
    }
   ],
   "source": [
    "s= '12345'\n",
    "Int_s = int(s)\n",
    "Float_s = float(s)\n",
    "Complex_s = complex(s)\n",
    "print(f'Int_s : {type(Int_s)} data type, value = {Int_s}')\n",
    "print(f'Float_s : {type(Float_s)} data type, value = {Float_s}')\n",
    "print(f'Complex_s : {type(Complex_s)} data type, value = {Complex_s}')"
   ]
  },
  {
   "cell_type": "code",
   "execution_count": 10,
   "metadata": {},
   "outputs": [
    {
     "name": "stdout",
     "output_type": "stream",
     "text": [
      "Str_A : <class 'str'> data type, value = 12345\n",
      "Bin_A : <class 'str'> data type, value = 0b11000000111001\n",
      "Oct_A : <class 'str'> data type, value = 0o30071\n",
      "Hex_A : <class 'str'> data type, value = 0x3039\n"
     ]
    }
   ],
   "source": [
    "A = 12345\n",
    "# 整數轉成十進位、二進位、八進位、十六進位字串\n",
    "Str_A = str(A)\n",
    "Bin_A = bin(A)   #binary\n",
    "Oct_A = oct(A)   #octal\n",
    "Hex_A = hex(A)   #hexdecimal\n",
    "print(f'Str_A : {type(Str_A)} data type, value = {Str_A}')\n",
    "print(f'Bin_A : {type(Bin_A)} data type, value = {Bin_A}')\n",
    "print(f'Oct_A : {type(Oct_A)} data type, value = {Oct_A}')\n",
    "print(f'Hex_A : {type(Hex_A)} data type, value = {Hex_A}')"
   ]
  },
  {
   "cell_type": "markdown",
   "metadata": {},
   "source": [
    "![title](img/keyword.png)\n"
   ]
  },
  {
   "cell_type": "markdown",
   "metadata": {},
   "source": [
    "# Format Code"
   ]
  },
  {
   "cell_type": "code",
   "execution_count": 28,
   "metadata": {},
   "outputs": [
    {
     "name": "stdout",
     "output_type": "stream",
     "text": [
      "123, 123.000000, ABC\n",
      "123, 173, 7b\n",
      "123.000000, 1.230000e+02\n",
      "ABC\n",
      "123 123.0 ABC\n",
      "123, 123.0, ABC\n"
     ]
    }
   ],
   "source": [
    "I, F, S = 123, 123.0, 'ABC'\n",
    "print(\"%d, %f, %s\" %(I,F,S))\n",
    "# %d 十進位、%o 八進位、%x 十六進位\n",
    "print(\"%d, %o, %x\" %(I,I,I))\n",
    "# print(\"%b\" %(I))  錯誤\n",
    "\n",
    "# 浮點數\n",
    "print(\"%f, %e\" %(F,F))\n",
    "\n",
    "# 字串 \n",
    "print(\"%s\" %(S))\n",
    "print(f'{I} {F} {S}')\n",
    "print(f'{I}, {F}, {S}')\n",
    "      "
   ]
  },
  {
   "cell_type": "markdown",
   "metadata": {},
   "source": [
    "![title](img/formatcode1.png)"
   ]
  },
  {
   "cell_type": "markdown",
   "metadata": {},
   "source": [
    "![title](img/formatcode2.png)"
   ]
  },
  {
   "cell_type": "code",
   "execution_count": 27,
   "metadata": {},
   "outputs": [
    {
     "name": "stdout",
     "output_type": "stream",
     "text": [
      "I = 123\n",
      "I =    123\n",
      "I = 000123\n"
     ]
    }
   ],
   "source": [
    "# 整數占 6個位置\n",
    "print(f'I = {I}')\n",
    "print(f'I = {I:6d}')\n",
    "print(f'I = {I:06d}')"
   ]
  },
  {
   "cell_type": "code",
   "execution_count": 29,
   "metadata": {},
   "outputs": [
    {
     "name": "stdout",
     "output_type": "stream",
     "text": [
      "3.13159265358\n",
      "3.1316\n",
      "      3.1316\n",
      "0000003.1316\n"
     ]
    }
   ],
   "source": [
    "pi=3.13159265358\n",
    "print(f'{pi}')\n",
    "print(f'{pi:.4f}')   # 小數點後四位\n",
    "print(f'{pi:12.4f}') # 小數點前七位、小數點一位、小數點後四位、共12位\n",
    "print(f'{pi:012.4f}')# 整數補零\n",
    "      "
   ]
  },
  {
   "cell_type": "code",
   "execution_count": 33,
   "metadata": {},
   "outputs": [
    {
     "name": "stdout",
     "output_type": "stream",
     "text": [
      "abcde          \n",
      "     abcde     \n",
      "          abcde\n",
      "abcde__________\n",
      "-----abcde-----\n",
      "----------abcde\n"
     ]
    }
   ],
   "source": [
    "s = \"abcde\"\n",
    "print(f'{s:<15s}')  # 占用15格 靠左\n",
    "print(f'{s:^15s}')  # 置中\n",
    "print(f'{s:>15s}')  # 靠右\n",
    "print(f'{s:_<15s}') # 靠左  右邊補 \"_\"\n",
    "print(f'{s:-^15s}')  # 置中\n",
    "print(f'{s:->15s}') # 靠右 左邊補 \"-\""
   ]
  },
  {
   "cell_type": "code",
   "execution_count": 25,
   "metadata": {},
   "outputs": [
    {
     "name": "stdout",
     "output_type": "stream",
     "text": [
      "100000000000000000000000000000\n"
     ]
    },
    {
     "data": {
      "text/plain": [
       "1.2345678901234567"
      ]
     },
     "execution_count": 25,
     "metadata": {},
     "output_type": "execute_result"
    }
   ],
   "source": [
    "#no max inetger\n",
    "a= 100000000000000000000000000000\n",
    "b= 1.2345678901234567890\n",
    "print(a)\n",
    "b   # 最後一行有自動 print 效果"
   ]
  },
  {
   "cell_type": "code",
   "execution_count": 3,
   "metadata": {},
   "outputs": [
    {
     "name": "stdout",
     "output_type": "stream",
     "text": [
      "True\n",
      "False\n",
      "Chang is a \"goodman\".\n"
     ]
    }
   ],
   "source": [
    "# comment \n",
    "# one line comment\n",
    "''' \n",
    "multiple lines comment using '''   '''\n",
    "first line comment\n",
    "second line comment\n",
    "\n",
    "'''\n",
    "print(1<2)\n",
    "print(1>2)\n",
    "s='''Chang is a \"goodman\".'''\n",
    "print(s)"
   ]
  },
  {
   "cell_type": "code",
   "execution_count": 4,
   "metadata": {},
   "outputs": [
    {
     "name": "stdout",
     "output_type": "stream",
     "text": [
      "<class 'int'>\n",
      "5\n",
      "6\n",
      "4\n",
      "10\n",
      "2.5\n",
      "2\n",
      "1\n",
      "25\n",
      "6\n",
      "12\n"
     ]
    }
   ],
   "source": [
    "#arithematic test\n",
    "x = 5\n",
    "print(type(x)) # 顯示 \"<class 'int'>\"\n",
    "print(x)       # 顯示 \"5\"\n",
    "print(x + 1)   # 加法: 顯示 \"6\"\n",
    "print(x - 1)   # 減法: 顯示 \"4\"\n",
    "print(x * 2)   # 乘法: 顯示 \"10\"\n",
    "print(x / 2)   # 除法: 顯示 \"2.5\"\n",
    "print(x // 2)  # 整數除法: 顯示 \"2\"\n",
    "print(x % 2)   # 餘數: 顯示 \"1\"\n",
    "print(x ** 2)  # 指數: 顯示 \"25\"\n",
    "x += 1\n",
    "print(x)  # 顯示 \"6\"\n",
    "x *= 2\n",
    "print(x)  # 顯示 \"12\""
   ]
  },
  {
   "cell_type": "code",
   "execution_count": 5,
   "metadata": {},
   "outputs": [
    {
     "name": "stdout",
     "output_type": "stream",
     "text": [
      "140716509343216\n",
      "<class 'int'>\n",
      "100\n"
     ]
    }
   ],
   "source": [
    "#object id test\n",
    "x = 100\n",
    "print(id(x))\n",
    "#1573412672\n",
    "print(type(x))\n",
    "#<class 'int'>\n",
    "print(x) \n",
    "#100\n"
   ]
  },
  {
   "cell_type": "code",
   "execution_count": 6,
   "metadata": {},
   "outputs": [
    {
     "name": "stdout",
     "output_type": "stream",
     "text": [
      "False\n",
      "False\n",
      "False\n",
      "False\n",
      "False\n"
     ]
    }
   ],
   "source": [
    "#Boolean Test\n",
    "A=False\n",
    "print(0 or A)\n",
    "print([] or A)\n",
    "print({} or A)\n",
    "print(() or A)\n",
    "print(None or A)\n",
    "#print(none or A)  -error"
   ]
  },
  {
   "cell_type": "code",
   "execution_count": 35,
   "metadata": {},
   "outputs": [],
   "source": [
    "# String : can not change string's content\n",
    "s1 = \"學習Python語言程式設計\"\n",
    "s2 = 'Hello World!'\n",
    "#s2[0] ='h'  錯誤\n"
   ]
  },
  {
   "cell_type": "code",
   "execution_count": null,
   "metadata": {},
   "outputs": [],
   "source": [
    "# string test\n",
    "str1 = 'hello'     # 使用單引號建立字串\n",
    "str2 = \"python\"    # 使用雙引號建立字串\n",
    "print(str1)        # 顯示 \"hello\"\n",
    "print(len(str1))   # 字串長度: 顯示 \"5\"\n",
    "str3 = str1 + ' ' + str2  # 字串連接\n",
    "print(str3)        # 顯示 \"hello python\"\n",
    "str4 = '%s %s %d' % (str1, str2, 12)  # 格式化字串\n",
    "print(str4)        # 顯示 \"hello python 12\"\n"
   ]
  },
  {
   "cell_type": "code",
   "execution_count": 2,
   "metadata": {},
   "outputs": [
    {
     "name": "stdout",
     "output_type": "stream",
     "text": [
      "Oh!Oh!Oh!\n",
      "True\n",
      "tho\n",
      "hon程\n",
      "程式設\n",
      "Pto程設\n",
      "Py\n",
      "thon程式設計\n",
      "Python程式設計\n",
      "計設式程nohtyP\n"
     ]
    }
   ],
   "source": [
    "# string test\n",
    "#重複運算子\n",
    "s = \"Oh!\"\n",
    "s3 = s* 3   # 'Oh!Oh!Oh!‘\n",
    "print(s3)\n",
    "#比較運算子 (>、<、>=、<=、==、!=)\n",
    "#print((\"abc\" == \"ABC\"))      # False\n",
    "#in與not in運算子\n",
    "print(\"or\" in \"forever\")   # True\n",
    "#引與片段運算子\n",
    "\n",
    "s = \"Python程式設計\"\n",
    "print(s[2:5])  #'tho'\n",
    "print(s[3:7])  #'hon程'\n",
    "print(s[6:-1]) #'程式設'\n",
    "print(s[::2])  #'pto程設'\n",
    "print(s[:2])   #'py'\n",
    "print(s[2:])    #'thon程式設計'\n",
    "print(s[:2] + s[2:])  # 'Python程式設計'\n",
    "print(s[::-1])"
   ]
  },
  {
   "cell_type": "code",
   "execution_count": null,
   "metadata": {},
   "outputs": [],
   "source": [
    "#string test\n",
    "s = \"hello\"\n",
    "dir(s)  # 顯示 string 所有函數\n",
    "print(s.capitalize())  # 第1個字元大寫: 顯示 \"Hello\"\n",
    "print(s.upper())       # 轉成大寫: 顯示 \"HELLO\"\n",
    "print(s.rjust(7))      # 右邊填空白字元: 顯示 \"  hello\"\n",
    "print(s.center(7))     # 置中顯示: 顯示 \" hello \"\n",
    "print(s.replace('l', 'L'))  # 取代字串: 顯示 \"heLLo\"\n",
    "print('  python '.strip())  # 刪除空白字元: 顯示 \"python\""
   ]
  },
  {
   "cell_type": "code",
   "execution_count": null,
   "metadata": {},
   "outputs": [],
   "source": [
    "#string format test\n",
    "print(format(123, \"^10\"))\n",
    "#'   123    '\n",
    "print(format(123, \"$^10\"))\n",
    "#'$$$123$$$$'\n",
    "print(format(12345678, \",\"))\n",
    "#'12,345,678'\n",
    "print(format(65, \"#b\"))\n",
    "#'0b1000001'\n",
    "format(123, \"=+010\")\n",
    "#'+000000123'\n"
   ]
  },
  {
   "cell_type": "code",
   "execution_count": null,
   "metadata": {},
   "outputs": [],
   "source": [
    "#string format test\n",
    "print(format(1234.5678, \"10.2f\"))\n",
    "#'   1234.57'\n",
    "print(format(1234.5678, \"10.2e\"))\n",
    "#'  1.23e+03'\n",
    "print(format(1234.5678, \"<15.3f\"))\n",
    "#'1234.568       '\n",
    "print(format(\"Hello, World!\", \"20\"))\n",
    "#'Hello, World!       '\n",
    "print(format(\"Hello, World!\", \">20\"))\n",
    "#'       Hello, World!'\n",
    "print(format(\"Hello, World!\", \"^20\"))\n",
    "#'   Hello, World!    '\n"
   ]
  },
  {
   "cell_type": "code",
   "execution_count": null,
   "metadata": {},
   "outputs": [],
   "source": [
    "# escapesequence\n",
    "\n",
    "\n",
    "print(\"\\\"Python\\\"程式設計\")\t\n",
    "#\"Python\"程式設計\n",
    "print(\"\\101\") \n",
    "# A\n",
    "print(\"\\x41\")\n",
    "# A\n",
    "print(\"\\u0041\") \n",
    "# A\n",
    "print (\"\\N{BLACK SPADE SUIT}\")\n",
    "# ♠\n"
   ]
  },
  {
   "cell_type": "markdown",
   "metadata": {},
   "source": [
    "\n",
    "\\' 印出單引號 (')\n",
    "\\\" 印出單引號 ('')\n",
    "\\a 響鈴 (Bell)\n",
    "\\b 倒退鍵 (Backspace)\n",
    "\\f 換頁 (Formfeed)\n",
    "\\n 換行 (Linefeed)\n",
    "\\r 歸位 (Carriage Return)\n",
    "\\t  [Tab] 鍵 (Horizontal Tab)\n",
    "\\v 垂直定位 (Vertical Tab)\n",
    "\\ooo  ASCII字元 (ooo為八進位整數)\n",
    "\\xhh  ASCII字元 (hh為十六進位整數)\n",
    "\\N{name} Unicode字元 (name為字元名稱)\n",
    "\\uxxxx  Unicode字元 (xxxx為16-bit十六進位整數)\n",
    "\\Uxxxxxxxx  Unicode字元 (xxxxxxxx為32-bit十六進位整數)\n"
   ]
  },
  {
   "cell_type": "code",
   "execution_count": null,
   "metadata": {},
   "outputs": [],
   "source": [
    "# print format test\n",
    "print(\"Hello World\")   #Hello World\n",
    "a = 1 \n",
    "b = 'runoob'\n",
    "print(a,b)                  #1 runoob\n",
    "print(\"aaa\"\"bbb\")       #aaabbb \n",
    "print(\"aaa\",\"bbb\")      #aaa bbb \n",
    "print(\"www\",\"runoob\",\"com\",sep=\".\") # www.runoob.com \n"
   ]
  },
  {
   "cell_type": "code",
   "execution_count": null,
   "metadata": {},
   "outputs": [],
   "source": [
    "# print format test\n",
    "print(\"%10d\"%10)       #靠右對齊\n",
    "print(\"%+10d\"%10)     #靠右對齊\n",
    "print(\"%-10d\"%10)      #靠左對齊\n",
    "print(\"% 10d\"%10)      #左側填空白\n",
    "print(\"%010d\"%10)      #左側填0\n"
   ]
  },
  {
   "cell_type": "code",
   "execution_count": null,
   "metadata": {},
   "outputs": [],
   "source": [
    "# print format test\n",
    "print(\"%7.3f\"%2.34567)\n",
    "print(\"%7.3f\"%11112.34567)\n",
    "print(\"%.*f\"%(3, 2.34567))\n",
    "print(\"%.*f\"%(3, 2.34567))  \n"
   ]
  },
  {
   "cell_type": "code",
   "execution_count": null,
   "metadata": {},
   "outputs": [],
   "source": [
    "#print format test\n",
    "text = '%d %.2f %s' % (1, 99.3, 'Justin')\n",
    "print(text)\n",
    "#1 99.30 Justin\n",
    "print('%d %.2f %s' % (1, 99.3, 'Justin'))\n",
    "#1 99.30 Justin \n"
   ]
  },
  {
   "cell_type": "code",
   "execution_count": null,
   "metadata": {},
   "outputs": [],
   "source": [
    "print(\"Hello World\", end=\"\")  #不換行\n",
    "print(\",Same Line\")\n",
    "print(\"Hello World\", end=\",\")  #不換行，加 “,”\n",
    "print(\"Same Line\")\n",
    "print(\"I'm %s. I'm %d year old\" % ('Chang', 30)) \n",
    "\n",
    "a = \"I'm %s. I'm %d year old\" % ('Chang', 30) \n",
    "print(a) \n",
    "\n",
    "print(\"I'm %(name)s. I'm %(age)d year old\" % {'name':'Vamei', 'age':99}) \n"
   ]
  },
  {
   "cell_type": "code",
   "execution_count": null,
   "metadata": {},
   "outputs": [],
   "source": [
    "print('{0} is {1}!!'.format('Chang', 'goodman'))\n",
    "#Chang is goodmanar!!\n",
    "print('{real} is {nick}!!'.format(real = ' Chang ', nick = ' goodman '))\n",
    "#Chang is goodmanar!!\n",
    "print( '{real} is {nick}!!'.format(nick = ' goodman ', real = ' Chang '))\n",
    "#Chang is goodmanar!!\n",
    "print('{0} is {nick}!!'.format(' Chang ', nick = ' goodman '))\n",
    "#Chang is goodmanar!!\n",
    "print('{name} is {age} years old!'.format(name = ' Chang ', age = 35))\n",
    "#Chang is 35 years old!' \n"
   ]
  },
  {
   "cell_type": "code",
   "execution_count": null,
   "metadata": {},
   "outputs": [],
   "source": [
    "#print formate test\n",
    "raw = '\\n\\t This is a \\t line with format \\t\\n'\n",
    "print(raw)\n",
    "raw =r'\\n\\t This is a \\t line with format \\t\\n'\n",
    "print(raw)\n",
    "raw = repr('\\n\\t This is a \\t line with format \\t\\n')\n",
    "print(raw) \n",
    "#\n",
    "#     This is a         line with format\n",
    "#\\n\\t This is a \\t line with format \\t\\n\n",
    "#‘\\n\\t This is a \\t line with format \\t\\n’\n"
   ]
  },
  {
   "cell_type": "code",
   "execution_count": null,
   "metadata": {},
   "outputs": [],
   "source": [
    "#print formate test\n",
    "from datetime import datetime\n",
    "now = datetime.now()\n",
    "print(str(now))             #2017-04-22 15:41:33.012917 \n",
    "print(repr(now))           #datetime.datetime(2017, 4, 22, 15, 41, 33, 12917) \n"
   ]
  },
  {
   "cell_type": "markdown",
   "metadata": {},
   "source": [
    "%s    字符串 (採用str()的顯示)\n",
    "%r    字符串 (採用repr()的顯示)\n",
    "%c    单个字符\n",
    "%b    二进制整数\n",
    "%d    十进制整数\n",
    "%i    十进制整数\n",
    "%o    八进制整数\n",
    "%x    十六进制整数\n",
    "%e    指数 (基底写为e)\n",
    "%E    指数 (基底写为E)\n",
    "%f    浮点数\n",
    "%F    浮点数，与上相同\n",
    "%g    指数(e)\u0010或浮点数 (根据显示长度)\n",
    "%G    指数(E)或浮点数 (根据显示长度)"
   ]
  },
  {
   "cell_type": "markdown",
   "metadata": {},
   "source": [
    "# 比較符號 \n",
    "== 等於\n",
    "!= 不等於 \n",
    "<  小於\n",
    ">  大於\n",
    "<= 小於等於\n",
    ">= 大於等於"
   ]
  },
  {
   "cell_type": "code",
   "execution_count": 36,
   "metadata": {},
   "outputs": [
    {
     "name": "stdout",
     "output_type": "stream",
     "text": [
      "3.1 > 3? True\n",
      "3.1 < 3? False\n",
      "3.1 == 3? False\n",
      "3.1 >= 3? True\n",
      "3.1 <= 3? False\n",
      "3.1 != 3? True\n"
     ]
    }
   ],
   "source": [
    "a = 3.1\n",
    "b = 3\n",
    "print(f'{a} > {b}? {a > b}')\n",
    "print(f'{a} < {b}? {a < b}')\n",
    "print(f'{a} == {b}? {a == b}')\n",
    "print(f'{a} >= {b}? {a >= b}')\n",
    "print(f'{a} <= {b}? {a <= b}')\n",
    "print(f'{a} != {b}? {a != b}')\n"
   ]
  },
  {
   "cell_type": "code",
   "execution_count": 37,
   "metadata": {},
   "outputs": [
    {
     "name": "stdout",
     "output_type": "stream",
     "text": [
      "abc > bcd? False\n",
      "abc < bcd? True\n",
      "abc == bcd? False\n",
      "abc >= bcd? False\n",
      "abc <= bcd? True\n",
      "abc != bcd? True\n"
     ]
    }
   ],
   "source": [
    "a = \"abc\"\n",
    "b = \"bcd\"\n",
    "print(f'{a} > {b}? {a > b}')\n",
    "print(f'{a} < {b}? {a < b}')\n",
    "print(f'{a} == {b}? {a == b}')\n",
    "print(f'{a} >= {b}? {a >= b}')\n",
    "print(f'{a} <= {b}? {a <= b}')\n",
    "print(f'{a} != {b}? {a != b}')"
   ]
  },
  {
   "cell_type": "markdown",
   "metadata": {},
   "source": [
    "# flow control   if"
   ]
  },
  {
   "cell_type": "code",
   "execution_count": null,
   "metadata": {},
   "outputs": [],
   "source": [
    "# if \n",
    "t = int(input(\"請輸入氣溫 => \"))\n",
    "if t < 20:\n",
    "    print(\"加件外套!\")\n",
    "print(\"今天氣溫 = \" + str(t))\n"
   ]
  },
  {
   "cell_type": "code",
   "execution_count": null,
   "metadata": {},
   "outputs": [],
   "source": [
    "# if \n",
    "s = int(input(\"請輸入成績 => \"))\n",
    "if s >= 60:\n",
    "    print(\"成績及格!\")\n",
    "else:\n",
    "    print(\"成績不及格!\")\n"
   ]
  },
  {
   "cell_type": "code",
   "execution_count": null,
   "metadata": {},
   "outputs": [],
   "source": [
    "# if \n",
    "a = int(input(\"請輸入年齡 => \"))\n",
    "if a < 13:\n",
    "    print(\"兒童\")\n",
    "elif a < 20:\n",
    "    print(\"青少年\")\n",
    "else:\n",
    "    print(\"成年人\")\n"
   ]
  },
  {
   "cell_type": "code",
   "execution_count": null,
   "metadata": {},
   "outputs": [],
   "source": [
    "h =23\n",
    "h = h-12 if h >= 12 else h\n",
    "h"
   ]
  },
  {
   "cell_type": "markdown",
   "metadata": {},
   "source": [
    "# flow control loop"
   ]
  },
  {
   "cell_type": "code",
   "execution_count": 23,
   "metadata": {},
   "outputs": [
    {
     "name": "stdout",
     "output_type": "stream",
     "text": [
      "0,1,2,3,4,2,3,4,5,"
     ]
    }
   ],
   "source": [
    "#for loop\n",
    "for i in range(5):\n",
    "    print(i,end= \",\")\n",
    "# 0,1,2,3,4\n",
    "\n",
    "for i in range(2,6):\n",
    "    print(i,end= \",\")\n",
    "# 2,3,4,5\n"
   ]
  },
  {
   "cell_type": "code",
   "execution_count": 24,
   "metadata": {},
   "outputs": [
    {
     "name": "stdout",
     "output_type": "stream",
     "text": [
      "m: 55\n",
      "總和 = 1540\n"
     ]
    }
   ],
   "source": [
    "#for loop\n",
    "m = int(input('m: '))\n",
    "s = 0\n",
    "for i in range(1, m + 1):\n",
    "    s = s + i\n",
    "print(\"總和 = \" + str(s))\n"
   ]
  },
  {
   "cell_type": "code",
   "execution_count": 27,
   "metadata": {},
   "outputs": [
    {
     "name": "stdout",
     "output_type": "stream",
     "text": [
      "m: 55\n",
      "總和 = 784\n"
     ]
    }
   ],
   "source": [
    "m = int(input('m: '))\n",
    "s = 0\n",
    "for i in range(1, m + 1, 2):\n",
    "    s = s + i\n",
    "print(\"總和 = \" + str(s))\n"
   ]
  },
  {
   "cell_type": "code",
   "execution_count": 28,
   "metadata": {},
   "outputs": [
    {
     "name": "stdout",
     "output_type": "stream",
     "text": [
      "char : P\n",
      "char : y\n",
      "char : t\n",
      "char : h\n",
      "char : o\n",
      "char : n\n",
      "Sum: 83\n",
      "fruit: banana\n",
      "fruit: apple\n",
      "fruit: mango\n"
     ]
    }
   ],
   "source": [
    "#for loop\n",
    "for letter in 'Python':   \n",
    "    print('char :', letter)\n",
    "#char:P\n",
    "#char:y\n",
    "#....\n",
    "list1 = [15, 20, 33, 7, 8]\n",
    "sum = 0\n",
    "for i in list1:\n",
    "    sum = sum + i\n",
    "print(\"Sum:\", sum)\n",
    "fruits = ['banana', 'apple', 'mango']\n",
    "for fruit in fruits: \n",
    "    print ('fruit:', fruit )\n",
    "#fruit:banana\n",
    "#fruit:apple\n",
    "#.......\n"
   ]
  },
  {
   "cell_type": "code",
   "execution_count": 29,
   "metadata": {},
   "outputs": [
    {
     "name": "stdout",
     "output_type": "stream",
     "text": [
      "Hello\n",
      "Hello\n",
      "Hello\n"
     ]
    }
   ],
   "source": [
    "#當不在乎控制變數時，可以以 _ 代替控制變數\n",
    "for _ in range(3):\n",
    "    print(\"Hello\")"
   ]
  },
  {
   "cell_type": "code",
   "execution_count": null,
   "metadata": {},
   "outputs": [],
   "source": [
    "#for else\n",
    "#If the else statement is used with a for loop,  \n",
    "#the else statement is executed when the loop has exhausted iterating the list.\n",
    "#\n",
    "#If the else statement is used with a while loop, \n",
    "#the else statement is executed when the condition becomes false.\n",
    "\n",
    "#\n",
    "n = int(input(\"請輸入大於 1 的整數：\"))\n",
    "if(n == 2):\n",
    "    print(\"2 是質數！\")\n",
    "else:\n",
    "    for i in range(2, n):\n",
    "        if(n % i == 0):\n",
    "            print(\"%d is not prime！\" % n)\n",
    "            break\n",
    "    else:\n",
    "         print(\"%d is prime！\" % n)\n"
   ]
  },
  {
   "cell_type": "markdown",
   "metadata": {},
   "source": [
    "# nested loop (巢狀迴圈)"
   ]
  },
  {
   "cell_type": "code",
   "execution_count": null,
   "metadata": {},
   "outputs": [],
   "source": [
    "#nested for  loop\n",
    "\n",
    "for i in range(1,10):\n",
    "    for j in range(1,10):\n",
    "        product = i * j\n",
    "        print(\"%d*%d=%-2d   \" % (i, j, product), end=\"\")\n",
    "        # -2d 靠左對齊\n",
    "    print()\n"
   ]
  },
  {
   "cell_type": "code",
   "execution_count": null,
   "metadata": {},
   "outputs": [],
   "source": [
    "#for loop  break  continue   pass\n",
    "#break\n",
    "cnt=0\n",
    "for c in 'content':\n",
    "    cnt+=1\n",
    "    if c == 't':        \n",
    "        break    \n",
    "    print(c)\n",
    "\n",
    "print('\\n迴圈結束')\n",
    "print('執行 %d 次' %cnt) \n",
    "\n",
    "#contine\n",
    "cnt=0\n",
    "for c in 'content':\n",
    "    cnt+=1\n",
    "    if c == 't':        \n",
    "        continue    \n",
    "    print(c)\n",
    "\n",
    "print('\\n迴圈結束')\n",
    "print('執行 %d 次' %cnt)\n",
    "\n",
    "# pass\n",
    "cnt=0\n",
    "for c in 'content':\n",
    "    cnt+=1\n",
    "    if c == 't':        \n",
    "        pass    \n",
    "    print(c)\n",
    "\n",
    "print('\\n迴圈結束')\n",
    "print('執行 %d 次' %cnt)\n"
   ]
  },
  {
   "cell_type": "markdown",
   "metadata": {},
   "source": [
    "# while loop"
   ]
  },
  {
   "cell_type": "code",
   "execution_count": null,
   "metadata": {},
   "outputs": [],
   "source": [
    "# while loop\n",
    "n = int(input(\" n:\"))\n",
    "r = 1\n",
    "m = 1\n",
    "while m <= n:\n",
    "    r = r * m\n",
    "    m = m + 1\n",
    "print(\"  n! = \" + str(r))\n",
    "\n",
    "#####\n",
    "count = 0 \n",
    "while count < 3: \n",
    "    print (count, \" is less than 3\" )\n",
    "    count = count + 1 \n",
    "else: \n",
    "    print (count, \" is not less than 3\")\n",
    "\n"
   ]
  },
  {
   "cell_type": "markdown",
   "metadata": {},
   "source": [
    "# function"
   ]
  },
  {
   "cell_type": "code",
   "execution_count": null,
   "metadata": {},
   "outputs": [],
   "source": [
    "# function\n",
    "#function 1\n",
    "def print_msg():  # 無參數函數\n",
    "    print(\"Hello Python!\")\n",
    "\n",
    "#function 2\n",
    "def is_valid_num(no):\n",
    "    if no >= 0 and no <= 200.0:\n",
    "        return True\n",
    "    else:\n",
    "        return False\n",
    "\n",
    "#function 3\n",
    "def convert_to_f(c):\n",
    "    f = (9.0 * c) / 5.0 +32\n",
    "    return c, f\n"
   ]
  },
  {
   "cell_type": "code",
   "execution_count": null,
   "metadata": {},
   "outputs": [],
   "source": [
    "#function \n",
    "# call function 1\n",
    "print_msg()\n",
    "\n",
    "#call function 2\n",
    "if is_valid_num(100):\n",
    "    print(\"合法!\")\n",
    "else:\n",
    "    print(\"不合法\")\n",
    "\n",
    "#call function 3\n",
    "c, f = convert_to_f(32)\n",
    "print(\"c,f:\",c,f,sep=\",\")\n"
   ]
  },
  {
   "cell_type": "markdown",
   "metadata": {},
   "source": [
    "# function call by vaule"
   ]
  },
  {
   "cell_type": "code",
   "execution_count": null,
   "metadata": {},
   "outputs": [],
   "source": [
    "# function call by vaule\n",
    "def swap(x, y):\n",
    "    temp = x\n",
    "    x = y\n",
    "    y = temp\n",
    "\n",
    "a, b = 1, 2\n",
    "print(a, b)\n",
    "swap(a, b)\n",
    "print(a, b)"
   ]
  },
  {
   "cell_type": "markdown",
   "metadata": {},
   "source": [
    "# function call by reference"
   ]
  },
  {
   "cell_type": "code",
   "execution_count": null,
   "metadata": {},
   "outputs": [],
   "source": [
    "#function call by reference\n",
    "def swap(x):\n",
    "    temp = x[0]\n",
    "    x[0] = x[1]\n",
    "    x[1] = temp\n",
    "\n",
    "a = [1, 2]\n",
    "print(a)\n",
    "swap(a)\n",
    "print(a)"
   ]
  },
  {
   "cell_type": "code",
   "execution_count": null,
   "metadata": {},
   "outputs": [],
   "source": [
    "#function position argument\n",
    "def trapezoidArea(top, bottom, height):\n",
    "    result = (top + bottom) * height / 2\n",
    "    print(\"這個梯形面積為\", result)\n",
    "\n",
    "trapezoidArea(10, 20, 5)\n",
    "trapezoidArea(10, height = 5, bottom = 20)\n",
    "trapezoidArea(height = 5, bottom = 20, top = 10)\n"
   ]
  },
  {
   "cell_type": "code",
   "execution_count": null,
   "metadata": {},
   "outputs": [],
   "source": [
    "#function  default argument\n",
    "def teaTime(dessert, drink = \"紅茶\"):\n",
    "    print(\"我的甜點是\", dessert, \"，飲料是\", drink)\n",
    "\n",
    "teaTime(\"馬卡龍\", \"咖啡\")\n",
    "teaTime(\"帕尼尼\")\n",
    "teaTime(dessert = \"三明治\", drink = \"奶茶\")\n",
    "teaTime(\"紅豆餅\", drink = \"綠茶\")\n"
   ]
  },
  {
   "cell_type": "code",
   "execution_count": null,
   "metadata": {},
   "outputs": [],
   "source": [
    "#funtion arbitrary argument list\n",
    "def add(*numbers):\n",
    "    total = 0\n",
    "    for i in numbers:\n",
    "        total = total + i\n",
    "    return total\n",
    "\n",
    "print(add(1))\n",
    "print(add(1, 2))\n",
    "print(add(1, 2, 3))\n",
    "print(add(1, 2, 3, 4))\n",
    "print(add(1, 2, 3, 4, 5))\n"
   ]
  },
  {
   "cell_type": "code",
   "execution_count": null,
   "metadata": {},
   "outputs": [],
   "source": [
    "#function lambda關鍵字用來建立小的匿名函式，其語法如下：lambda arg1, arg2, …: expression\n",
    "add = lambda x, y: x + y \n",
    "print(add(1, 2))\n",
    "\n",
    "print(add(50, -100))\n",
    "\n",
    "print(add(50, 3.8))\n",
    "\n",
    "print(add(50, True))\n",
    "\n",
    "print(add(\"abc\", \"de\"))\n",
    "\n"
   ]
  },
  {
   "cell_type": "markdown",
   "metadata": {},
   "source": [
    "# package"
   ]
  },
  {
   "cell_type": "code",
   "execution_count": null,
   "metadata": {},
   "outputs": [],
   "source": [
    "#package\n",
    "import random\n",
    "target = random.randint(1, 100)\n",
    "Target = random.random()\n",
    "print(target)\n",
    "\n",
    "import random as r\n",
    "target = r.randint(1,100)\n",
    "print(target)\n",
    "\n",
    "from random import *\n",
    "seed(100)\n",
    "target = random()\n",
    "print(target)\n",
    "\n",
    "import random\n",
    "list = [20, 16, 10, 5]\n",
    "random.shuffle(list) \n",
    "print( \"随机排序列表 : \", list)\n",
    "random.shuffle(list)\n",
    "print (\"随机排序列表 : \", list )\n",
    "\n"
   ]
  },
  {
   "cell_type": "code",
   "execution_count": null,
   "metadata": {},
   "outputs": [],
   "source": [
    "from bs4 import BeautifulSoup\n",
    "html_str = \"<p>Hello World!</p>\"\n",
    "soup = BeautifulSoup(html_str, \"lxml\")\n",
    "print(soup)\n"
   ]
  },
  {
   "cell_type": "markdown",
   "metadata": {},
   "source": [
    "# container : list"
   ]
  },
  {
   "cell_type": "code",
   "execution_count": 41,
   "metadata": {},
   "outputs": [
    {
     "name": "stdout",
     "output_type": "stream",
     "text": [
      "[] [] [1, 2.3, (4+5j), 'five'] [0, [1, 2], 3, [4, 5, 6]]\n"
     ]
    }
   ],
   "source": [
    "#LIST  使用 []  或是 list() 宣告 list、list 屬於一種container 容器。\n",
    "ls1 = []\n",
    "ls2 = list()\n",
    "ls3 = [1,2.3, 4+5j, 'five']  # 可以放入任何型態資料\n",
    "ls4 = [0, [1,2], 3, [4,5,6]]\n",
    "print(ls1, ls2, ls3, ls4)\n"
   ]
  },
  {
   "cell_type": "code",
   "execution_count": 47,
   "metadata": {},
   "outputs": [
    {
     "name": "stdout",
     "output_type": "stream",
     "text": [
      "[3, 4, 5, 6]\n",
      "[3, 4, 5, 6, 7, 8, 9]\n",
      "[1, 2, 3, 4, 5, 6, 7, 8, 9]\n",
      "[10, 10, 1, 2, 3, 4, 5, 6, 7, 8, 9, 10, 10]\n",
      "[10, 1, 2, 3, 4, 5, 6, 7, 8, 9, 10, 10]\n",
      "[10, 1, 2, 4, 5, 6, 7, 8, 9, 10, 10]\n",
      "[]\n"
     ]
    }
   ],
   "source": [
    "ls = [3,4,5]\n",
    "ls.append(6)\n",
    "print(ls)\n",
    "ls = ls +[7,8,9]\n",
    "print(ls)\n",
    "ls = [1,2] + ls\n",
    "print(ls)\n",
    "ls = [10,10] + ls +[10,10]\n",
    "print(ls)\n",
    "ls.remove(10)\n",
    "print(ls)\n",
    "ls.pop(3)\n",
    "print(ls)\n",
    "ls.clear()\n",
    "print(ls)"
   ]
  },
  {
   "cell_type": "code",
   "execution_count": 56,
   "metadata": {},
   "outputs": [
    {
     "name": "stdout",
     "output_type": "stream",
     "text": [
      "[0, 1, 2, 3, 4]\n",
      "ls, ls[2] : [0, 1, 2, 3, 4, 5, 6, 7, 8, 9] 2\n",
      "ls[-1] :  9\n",
      "ls : [0, 1, 'py', 3, 4, 5, 6, 7, 8, 9]\n",
      "ls : [0, 1, 'py', 3, 4, 5, 6, 7, 8, 9, 'bar']\n",
      "ele :  bar\n"
     ]
    }
   ],
   "source": [
    "#list\n",
    "ls  = []       #建立空list\n",
    "print(list(range(5)))\n",
    "ls = [0,1,2,3,4,5,6,7,8,9]         # 建立清單\n",
    "print(\"ls, ls[2] :\", ls, ls[2])    # 顯示 \"[6, 4, 5] 5\"\n",
    "print(\"ls[-1] : \",ls[-1])       # 負索引從最後開始: 顯示 \"9\"\n",
    "ls[2] = \"py\"        # 指定字串型態的項目\n",
    "print(\"ls :\",ls)              # 顯示 \"[0,1,'py',3,4 ....]\"\n",
    "ls.append(\"bar\")  # 新增項目\n",
    "print(\"ls :\",ls)              # 顯示 \"[6, 4, 'py', 'bar']\"\n",
    "ele = ls.pop()    # 取出最後項目\n",
    "print(\"ele : \", ele)      # 顯示 \"bar [6, 4, 'py']\"\n"
   ]
  },
  {
   "cell_type": "code",
   "execution_count": null,
   "metadata": {},
   "outputs": [],
   "source": [
    "#list\n",
    "nums = list(range(5))  # 建立一序列的整數清單\n",
    "print(nums)            # 顯示 \"[0, 1, 2, 3, 4]\"\n",
    "print(nums[2:4])       # 切割索引2~4(不含4): 顯示 \"[2, 3]\"\n",
    "print(nums[2:])        # 切割索引從2至最後: 顯示 \"[2, 3, 4]\"\n",
    "print(nums[:2])        # 切割從開始至索引2(不含2): 顯示 \"[0, 1]\"\n",
    "print(nums[:])         # 切割整個清單: 顯示 \"[0, 1, 2, 3, 4]\"\n",
    "print(nums[:-1])       # 使用負索引切割: 顯示 \"[0, 1, 2, 3]\"\n",
    "nums[2:4] = [7, 8]     # 使用切割來指定子清單\n",
    "print(nums)            # 顯示 \"[0, 1, 7, 8, 4]\"\n",
    "\n"
   ]
  },
  {
   "cell_type": "code",
   "execution_count": 63,
   "metadata": {},
   "outputs": [
    {
     "name": "stdout",
     "output_type": "stream",
     "text": [
      "[0, 1, 2, 3, 4, 5, 8, 9]\n",
      "[0, 1, 2, 3, 4, 6, 7, 5, 8, 9]\n"
     ]
    }
   ],
   "source": [
    "#list insert \n",
    "ls = [0,1,2,3,5,8,9]\n",
    "ls.insert(4,4)  # 在 index = 4 的位置 插入  4\n",
    "print(ls)\n",
    "ls = ls[:5] + [6,7] + ls[5:]\n",
    "print(ls)"
   ]
  },
  {
   "cell_type": "code",
   "execution_count": 64,
   "metadata": {},
   "outputs": [
    {
     "name": "stdout",
     "output_type": "stream",
     "text": [
      "1 2 3 4 \n",
      "['1', '2', '3', '4']\n",
      "['one', 'two', 'three', 'four']\n"
     ]
    }
   ],
   "source": [
    "#list split\n",
    "ls = input().split()  # 使用空白 切割元素出來\n",
    "print(ls)\n",
    "\n",
    "s = \"one two three four\"\n",
    "s_split = s.split()\n",
    "print(s_split)"
   ]
  },
  {
   "cell_type": "code",
   "execution_count": 65,
   "metadata": {},
   "outputs": [
    {
     "name": "stdout",
     "output_type": "stream",
     "text": [
      "['192', '168', '1', '2']\n"
     ]
    }
   ],
   "source": [
    "# list split\n",
    "s = \"192.168.1.2\"\n",
    "ls = s.split('.')\n",
    "print(ls)"
   ]
  },
  {
   "cell_type": "code",
   "execution_count": null,
   "metadata": {},
   "outputs": [],
   "source": [
    "#list loop\n",
    "animals = ['cat', 'dog', 'bat']\n",
    "for animal in animals:\n",
    "    print(animal)\n",
    "\n"
   ]
  },
  {
   "cell_type": "code",
   "execution_count": 69,
   "metadata": {},
   "outputs": [
    {
     "name": "stdout",
     "output_type": "stream",
     "text": [
      "one, two, three\n",
      "one__two__three\n"
     ]
    }
   ],
   "source": [
    "#list join\n",
    "ls = ['one', 'two', 'three']\n",
    "print(\", \".join(ls))\n",
    "print(\"__\".join(ls))"
   ]
  },
  {
   "cell_type": "code",
   "execution_count": 72,
   "metadata": {},
   "outputs": [
    {
     "name": "stdout",
     "output_type": "stream",
     "text": [
      "None\n",
      "None\n"
     ]
    }
   ],
   "source": [
    "ls = [1,3,5,7,2,4,6,8]\n",
    "print(ls.sort())\n",
    "print(ls.sort(reverse = True))"
   ]
  },
  {
   "cell_type": "code",
   "execution_count": 73,
   "metadata": {},
   "outputs": [
    {
     "name": "stdout",
     "output_type": "stream",
     "text": [
      "[1, 2, 3, 4, 5, 6, 7, 8]\n",
      "[8, 7, 6, 5, 4, 3, 2, 1]\n"
     ]
    }
   ],
   "source": [
    "ls = [1,3,5,7,2,4,6,8]\n",
    "ls.sort()\n",
    "print(ls)\n",
    "\n",
    "ls.sort(reverse = True)\n",
    "print(ls)"
   ]
  },
  {
   "cell_type": "code",
   "execution_count": 77,
   "metadata": {},
   "outputs": [
    {
     "name": "stdout",
     "output_type": "stream",
     "text": [
      "Ben 001 ['Physics', 'english', 'calculus'] 88\n",
      "jen 002 ['programming'] 95\n"
     ]
    }
   ],
   "source": [
    "# 不同長度 lsit\n",
    "ls1 = ['Ben', '001', 'Physics', 'english', 'calculus',88 ]\n",
    "ls2 = ['jen', '002', 'programming', 95]\n",
    "name, id, *course, score = ls1\n",
    "print(name, id, course, score)\n",
    "name, id, *course, score = ls2\n",
    "print(name, id, course, score)"
   ]
  },
  {
   "cell_type": "code",
   "execution_count": null,
   "metadata": {},
   "outputs": [],
   "source": [
    "# list loop\n",
    "for index, animal in enumerate(animals):\n",
    "    print(index, animal)\n"
   ]
  },
  {
   "cell_type": "code",
   "execution_count": null,
   "metadata": {},
   "outputs": [],
   "source": [
    "# list functions\n",
    "ls =  [2,4,6,8,10]\n",
    "print(len(ls))      #  5\n",
    "print(min(ls))      # 1\n",
    "print(max(ls))      # 10\n",
    "#print(sum(ls))     # 30\n",
    "print(random.shuffle(ls))   # [6,4,2,20,8]\n"
   ]
  },
  {
   "cell_type": "code",
   "execution_count": null,
   "metadata": {},
   "outputs": [],
   "source": [
    "#list compression\n",
    "list1 = [x for x in range(5)]         \n",
    "# [0,1,2,3,4]\n",
    "list2 = [x*2 for x in range(5)]     \n",
    "# [0,2,4,6,8]\n",
    "list3 = [x for x in range(10) if x % 2 == 0]\n",
    "#[0,2,4,6,8]\n",
    "list4 = [x*2 for x in range(10) if x % 2 == 0]\n",
    "#[0,4,8,12,16]\n",
    "print(list1)\n",
    "print(list2)\n",
    "print(list3)\n",
    "print(list4)"
   ]
  },
  {
   "cell_type": "markdown",
   "metadata": {},
   "source": [
    "# 二維 list"
   ]
  },
  {
   "cell_type": "code",
   "execution_count": 59,
   "metadata": {},
   "outputs": [
    {
     "name": "stdout",
     "output_type": "stream",
     "text": [
      "95\n",
      "72\n"
     ]
    }
   ],
   "source": [
    "grades = [[95, 100, 100], [86, 90, 75], [98, 98, 96], [78, 90, 80], [70, 68, 72]]\n",
    "print(grades[0][0]) # 取第一個數字\n",
    "print(grades[4][2]) # 取最後一個數字"
   ]
  },
  {
   "cell_type": "code",
   "execution_count": 8,
   "metadata": {},
   "outputs": [
    {
     "name": "stdout",
     "output_type": "stream",
     "text": [
      "學生 1 的總分為 95\n",
      "學生 2 的總分為 86\n",
      "學生 3 的總分為 98\n",
      "學生 4 的總分為 78\n",
      "學生 5 的總分為 70\n"
     ]
    }
   ],
   "source": [
    "grades = [[95, 100, 100], [86, 90, 75], [98, 98, 96], [78, 90, 80], [70, 68, 72]]\n",
    "for i in range(5):\n",
    "    subTotal = 0\n",
    "    for j in range(3):           \t\t\n",
    "        subTotal += grades[i][j]\n",
    "        grades[i].append(subTotal) \n",
    "\n",
    "for i in range(5):\n",
    "    print(\"學生\", i + 1, \"的總分為\", grades[i][3])\n"
   ]
  },
  {
   "cell_type": "markdown",
   "metadata": {},
   "source": [
    "# Tuple\n",
    "# tuple 內的資料一旦宣告後、就不能再異動。\n",
    "# tuple 可以視為常數的 list"
   ]
  },
  {
   "cell_type": "code",
   "execution_count": 9,
   "metadata": {},
   "outputs": [
    {
     "name": "stdout",
     "output_type": "stream",
     "text": [
      "()\n",
      "(1, 2, 3, 4, 5)\n",
      "(1, 'hello', 3.5)\n",
      "t3 = (1, 'hello', 3.5)\n",
      "()\n",
      "('tom', 'mary', 'joe')\n",
      "('p', 'y', 't', 'h', 'o', 'n')\n"
     ]
    }
   ],
   "source": [
    "#tuple\n",
    "\n",
    "t1=()\n",
    "t2=(1,2,3,4,5)\n",
    "t3=(1, 'hello', 3.5)\n",
    "t4=tuple()\n",
    "t5=tuple([\"tom\", \"mary\", \"joe\"])\n",
    "t6=tuple(\"python\")\n",
    "print(t1)\n",
    "print(t2)\n",
    "print(t3)\n",
    "print(\"t3 = \" + str(t3))\n",
    "print(t4)\n",
    "print(t5)\n",
    "print(t6)"
   ]
  },
  {
   "cell_type": "code",
   "execution_count": 10,
   "metadata": {},
   "outputs": [
    {
     "name": "stdout",
     "output_type": "stream",
     "text": [
      "1\n",
      "2\n",
      "1 2 3 4 5 "
     ]
    },
    {
     "data": {
      "text/plain": [
       "(6, 2, 3, 4, 5)"
      ]
     },
     "execution_count": 10,
     "metadata": {},
     "output_type": "execute_result"
    }
   ],
   "source": [
    "t1=(1,2,3,4,5)\n",
    "print(t1[0])\n",
    "print(t1[1])\n",
    "for e in t1:\n",
    "    print(e, end=\" \")\n",
    "#'tuple' object does not support item assignment\n",
    "#t1[0] = 6\n",
    "#  轉成list 修改，再轉回 tuple\n",
    "l=list(t1)\n",
    "l[0] =6\n",
    "t1 = tuple(l)\n",
    "t1"
   ]
  },
  {
   "cell_type": "code",
   "execution_count": 11,
   "metadata": {},
   "outputs": [
    {
     "name": "stdout",
     "output_type": "stream",
     "text": [
      "t3  : (2, 4, 6, 8, 10)\n",
      "t4  : (2, 4, 2, 4, 2, 4)\n",
      "True\n",
      "False\n"
     ]
    }
   ],
   "source": [
    "t1 = (2,4)\n",
    "t2=(6,8,10)\n",
    "t3= t1 + t2\n",
    "print(\"t3  :\", t3)\n",
    "t4 = t1*3\n",
    "print(\"t4  :\", t4)\n",
    "print(8 in t2)\n",
    "print( 2 not in t1)"
   ]
  },
  {
   "cell_type": "code",
   "execution_count": 12,
   "metadata": {},
   "outputs": [
    {
     "name": "stdout",
     "output_type": "stream",
     "text": [
      "t1 : python\n",
      "yt\n",
      "ytho\n"
     ]
    }
   ],
   "source": [
    "t1=(\"python\")\n",
    "print(\"t1 :\", t1)\n",
    "print(t1[1:3])\n",
    "print(t1[1:-1])"
   ]
  },
  {
   "cell_type": "code",
   "execution_count": 13,
   "metadata": {},
   "outputs": [
    {
     "name": "stdout",
     "output_type": "stream",
     "text": [
      "a : [1 2 3 4 5 6 7 8]\n",
      "b : [[1 2 3 4]\n",
      " [5 6 7 8]]\n",
      "(8,)\n",
      "(2, 4)\n"
     ]
    }
   ],
   "source": [
    "import numpy as np\n",
    "a = np.array([1,2,3,4,5,6,7,8])\n",
    "b = a.reshape(2,4)\n",
    "print(\"a :\", a)\n",
    "print(\"b :\", b)\n",
    "print(a.shape)\n",
    "print(b.shape)"
   ]
  },
  {
   "cell_type": "code",
   "execution_count": 79,
   "metadata": {},
   "outputs": [
    {
     "name": "stdout",
     "output_type": "stream",
     "text": [
      "(1, 2, 3)\n",
      "[1, 2, 3]\n",
      "(4, 5, 6)\n",
      "[4, 5, 6]\n",
      " T : <class 'tuple'> data type，value = (4, 5, 6)\n",
      " ls : <class 'list'> data type，value = [4, 5, 6]\n"
     ]
    }
   ],
   "source": [
    "# tuple vs list\n",
    "T = (1,2,3)\n",
    "ls = list(T)\n",
    "print(T)\n",
    "print(ls)\n",
    "\n",
    "ls=[4,5,6]\n",
    "T=tuple(ls)\n",
    "print(T)\n",
    "print(ls)\n",
    "print(f\" T : {type(T)} data type，value = {T}\")\n",
    "print(f\" ls : {type(ls)} data type，value = {ls}\")"
   ]
  },
  {
   "cell_type": "markdown",
   "metadata": {},
   "source": [
    "# Dict 字典 ，Key 與 value 組成\n",
    "key 與 value 成對存在  \n",
    "key 與 vaule 沒有型別的限制\n",
    "list 查找資料是透過 整數的index\n",
    "dict 查找資料可以透過任何型別的 key "
   ]
  },
  {
   "cell_type": "code",
   "execution_count": 90,
   "metadata": {},
   "outputs": [
    {
     "name": "stdout",
     "output_type": "stream",
     "text": [
      "<class 'dict'>\n"
     ]
    }
   ],
   "source": [
    "d1={}\n",
    "print(type(d1))\n",
    "d2=dict()"
   ]
  },
  {
   "cell_type": "code",
   "execution_count": 118,
   "metadata": {},
   "outputs": [
    {
     "name": "stdout",
     "output_type": "stream",
     "text": [
      "white\n",
      "True\n",
      "pink\n",
      "N/A\n",
      "pink\n",
      "d.keys : dict_keys(['cat', 'dog', 'pig'])\n",
      "d.values : dict_values(['white', 'black', 'pink'])\n"
     ]
    }
   ],
   "source": [
    "#dic\n",
    "d = {\"cat\": \"white\", \"dog\": \"black\"}  # 建立字典 (cat 是 key 、white 是 data)，(dog 是 key、black 是 data)\n",
    "w = d[\"cat\"]        # w  =  “white”  用 key(dog) 查詢 value\n",
    "print(d[\"cat\"])         # 使用Key取得項目: 顯示 \"white\"\n",
    "print(\"cat\" in d)       # 是否有Key: 顯示 \"True\"\n",
    "d[\"pig\"] = \"pink\"     # 新增項目\n",
    "print(d[\"pig\"])         # 顯示 \"pink\"\n",
    "print(d.get(\"monkey\", \"N/A\"))  # 取出項目+預設值: 顯示 \"N/A\"\n",
    "print(d.get(\"pig\", \"N/A\"))     # 取出項目+預設值: 顯示 \"pink\"\n",
    "print(\"d.keys :\",d.keys())\n",
    "print(\"d.values :\",d.values())\n"
   ]
  },
  {
   "cell_type": "code",
   "execution_count": 121,
   "metadata": {},
   "outputs": [
    {
     "name": "stdout",
     "output_type": "stream",
     "text": [
      "True\n",
      "True\n",
      "False\n",
      "False\n"
     ]
    }
   ],
   "source": [
    "# 查詢 key 與 Values 是否在 key 內\n",
    "print('cat' in d)\n",
    "print('white' in d.values())\n",
    "print('monkey' in d)\n",
    "print('brown' in d.values())"
   ]
  },
  {
   "cell_type": "code",
   "execution_count": 1,
   "metadata": {},
   "outputs": [
    {
     "ename": "NameError",
     "evalue": "name 'd' is not defined",
     "output_type": "error",
     "traceback": [
      "\u001b[0;31m---------------------------------------------------------------------------\u001b[0m",
      "\u001b[0;31mNameError\u001b[0m                                 Traceback (most recent call last)",
      "\u001b[0;32m/var/folders/hk/4rr3lz8x5vxgx7z4sz_tcqzc0000gn/T/ipykernel_1632/2793704639.py\u001b[0m in \u001b[0;36m<module>\u001b[0;34m\u001b[0m\n\u001b[0;32m----> 1\u001b[0;31m \u001b[0;32mdel\u001b[0m\u001b[0;34m(\u001b[0m\u001b[0md\u001b[0m\u001b[0;34m[\u001b[0m\u001b[0;34m\"pig\"\u001b[0m\u001b[0;34m]\u001b[0m\u001b[0;34m)\u001b[0m               \u001b[0;31m# 使用Key刪除項目\u001b[0m\u001b[0;34m\u001b[0m\u001b[0;34m\u001b[0m\u001b[0m\n\u001b[0m\u001b[1;32m      2\u001b[0m \u001b[0mprint\u001b[0m\u001b[0;34m(\u001b[0m\u001b[0md\u001b[0m\u001b[0;34m.\u001b[0m\u001b[0mget\u001b[0m\u001b[0;34m(\u001b[0m\u001b[0;34m\"pig\"\u001b[0m\u001b[0;34m,\u001b[0m \u001b[0;34m\"N/A\"\u001b[0m\u001b[0;34m)\u001b[0m\u001b[0;34m)\u001b[0m     \u001b[0;31m# \"pig\"不存在: 顯示 \"N/A\"\u001b[0m\u001b[0;34m\u001b[0m\u001b[0;34m\u001b[0m\u001b[0m\n\u001b[1;32m      3\u001b[0m \u001b[0mprint\u001b[0m\u001b[0;34m(\u001b[0m\u001b[0md\u001b[0m\u001b[0;34m)\u001b[0m\u001b[0;34m\u001b[0m\u001b[0;34m\u001b[0m\u001b[0m\n\u001b[1;32m      4\u001b[0m \u001b[0;34m\u001b[0m\u001b[0m\n\u001b[1;32m      5\u001b[0m \u001b[0md\u001b[0m\u001b[0;34m.\u001b[0m\u001b[0mupdate\u001b[0m\u001b[0;34m(\u001b[0m\u001b[0;34m{\u001b[0m\u001b[0;34m'pig'\u001b[0m\u001b[0;34m:\u001b[0m\u001b[0;34m'pink'\u001b[0m\u001b[0;34m,\u001b[0m \u001b[0;34m'monkey'\u001b[0m\u001b[0;34m:\u001b[0m\u001b[0;34m'brown'\u001b[0m\u001b[0;34m}\u001b[0m\u001b[0;34m)\u001b[0m \u001b[0;31m# 語法與 del(d[\"pig\"])   不同\u001b[0m\u001b[0;34m\u001b[0m\u001b[0;34m\u001b[0m\u001b[0m\n",
      "\u001b[0;31mNameError\u001b[0m: name 'd' is not defined"
     ]
    }
   ],
   "source": [
    "del(d[\"pig\"])               # 使用Key刪除項目\n",
    "print(d.get(\"pig\", \"N/A\"))     # \"pig\"不存在: 顯示 \"N/A\"\n",
    "print(d)\n",
    "\n",
    "d.update({'pig':'pink', 'monkey':'brown'}) # 語法與 del(d[\"pig\"])   不同\n",
    "print('new d :', d)\n",
    "\n",
    "pop_d = d.pop(('cat'))\n",
    "print(pop_d)\n",
    "print('new d :', d)\n",
    "d.clear()\n",
    "print('new d :', d)"
   ]
  },
  {
   "cell_type": "code",
   "execution_count": 15,
   "metadata": {},
   "outputs": [
    {
     "name": "stdout",
     "output_type": "stream",
     "text": [
      "3\n",
      "3\n",
      "{'human': 2, 'cat': 3, 'dog': 0}\n"
     ]
    }
   ],
   "source": [
    "legs = {} \n",
    "legs[\"human\"] = 2\n",
    "legs[\"cat\"] = 4\n",
    "legs[\"dog\"] = 0\n",
    "print(len(legs))\n",
    "legs[\"cat\"] = 3\n",
    "print(len(legs))\n",
    "print(legs)"
   ]
  },
  {
   "cell_type": "code",
   "execution_count": null,
   "metadata": {},
   "outputs": [],
   "source": []
  },
  {
   "cell_type": "code",
   "execution_count": 16,
   "metadata": {},
   "outputs": [
    {
     "name": "stdout",
     "output_type": "stream",
     "text": [
      "2\n"
     ]
    }
   ],
   "source": [
    "household = {\"person\":4, \"cat\":2, \"dog\":1, \"fish\":2}\n",
    "removed = household.pop(\"fish\")\n",
    "print(removed)"
   ]
  },
  {
   "cell_type": "code",
   "execution_count": 17,
   "metadata": {},
   "outputs": [
    {
     "name": "stdout",
     "output_type": "stream",
     "text": [
      "Chris\n",
      "Angela\n",
      "Bruce\n",
      "Stacey\n",
      "85.0\n",
      "95.0\n",
      "60.0\n",
      "70.0\n",
      "{'Chris': [100, 70, 85.0], 'Angela': [90, 100, 95.0], 'Bruce': [80, 40, 60.0], 'Stacey': [70, 70, 70.0]}\n"
     ]
    }
   ],
   "source": [
    "# 一個 key 有多個組值\n",
    "grades = {}\n",
    "grades[\"Chris\"] = [100, 70]\n",
    "grades[\"Angela\"] = [90, 100]\n",
    "grades[\"Bruce\"] = [80, 40]\n",
    "grades[\"Stacey\"] = [70, 70]\n",
    "for student in grades.keys():\n",
    "    print(student)\n",
    "for quizzes in grades.values():\n",
    "    print(sum(quizzes)/2)\n",
    "for student in grades.keys():\n",
    "    scores = grades[student]\n",
    "    grades[student].append(sum(scores)/2)\n",
    "print(grades)"
   ]
  },
  {
   "cell_type": "code",
   "execution_count": 18,
   "metadata": {},
   "outputs": [
    {
     "name": "stdout",
     "output_type": "stream",
     "text": [
      "{'happy': 4, 'birthday': 4, 'to': 3, 'you': 3, 'dear': 1}\n"
     ]
    }
   ],
   "source": [
    "lyrics = \"Happy birthday to you Happy birthday to you \" +\\\n",
    "         \"Happy birthday dear Happy birthday to you\"\n",
    "counts = {}\n",
    "words = lyrics.split(\" \")\n",
    "for w in words:\n",
    "    w = w.lower()\n",
    "    if w not in counts:\n",
    "        counts[w] = 1\n",
    "    else:\n",
    "        counts[w] += 1\n",
    "print(counts) \n"
   ]
  },
  {
   "cell_type": "markdown",
   "metadata": {},
   "source": [
    "# zip "
   ]
  },
  {
   "cell_type": "code",
   "execution_count": 96,
   "metadata": {},
   "outputs": [
    {
     "name": "stdout",
     "output_type": "stream",
     "text": [
      "{'name': 'Ben', 'age': 21, 'gender': 'Male', 'height': 160, 'exercise': 50}\n"
     ]
    }
   ],
   "source": [
    "# zip\n",
    "attribute = ['name', 'age', 'gender', 'height', 'exercise']\n",
    "value = ['Ben', 21, 'Male', 160, 50, 0]\n",
    "infodict = dict(zip(attribute, value))\n",
    "print(infodict)"
   ]
  },
  {
   "cell_type": "code",
   "execution_count": 19,
   "metadata": {},
   "outputs": [
    {
     "name": "stdout",
     "output_type": "stream",
     "text": [
      "4\n",
      "12.56\n",
      "1.7320508075688772\n"
     ]
    }
   ],
   "source": [
    "def square(x):\n",
    "    return x*x\n",
    "\n",
    "def circle(r):\n",
    "    return 3.14*r*r\n",
    "\n",
    "def equilateraltriangle(s):\n",
    "    return(s*s)*(3**0.5)/4\n",
    "\n",
    "areas = {\"sq\": square, \"ci\": circle, \"eqtri\":\n",
    "         equilateraltriangle}\n",
    "n= 2\n",
    "print(areas[\"sq\"](n))\n",
    "print(areas[\"ci\"](n))\n",
    "print(areas[\"eqtri\"](n))"
   ]
  },
  {
   "cell_type": "code",
   "execution_count": 94,
   "metadata": {},
   "outputs": [
    {
     "name": "stdout",
     "output_type": "stream",
     "text": [
      "{'cat': 'white', 'dog': 'black'}\n",
      "{'pig': 'pink', 'momkey': 'brown'}\n"
     ]
    }
   ],
   "source": [
    "# dict vs. list 、tuple\n",
    "ls = [[\"cat\", \"white\"], [\"dog\", \"black\"]]\n",
    "t = ((\"pig\", \"pink\"), (\"momkey\", \"brown\"))\n",
    "d1 = dict(ls)\n",
    "d2 = dict(t)\n",
    "print(d1)\n",
    "print(d2)\n"
   ]
  },
  {
   "cell_type": "code",
   "execution_count": 116,
   "metadata": {},
   "outputs": [
    {
     "name": "stdout",
     "output_type": "stream",
     "text": [
      "ls_keys: ['a', 'b', 'c', 'd']\n",
      "ls_values: [1, 2, 3, 4]\n",
      "ls_items: [('a', 1), ('b', 2), ('c', 3), ('d', 4)]\n"
     ]
    }
   ],
   "source": [
    "# dict vs. list 、tuple\n",
    "# 字典轉成 list\n",
    "d = {'a': 1, 'b':2, 'c':3, 'd':4}\n",
    "ls_keys = list(d.keys())\n",
    "ls_values = list(d.values())\n",
    "ls_items = list(d.items())\n",
    "print(\"ls_keys:\", ls_keys)\n",
    "print(\"ls_values:\", ls_values)\n",
    "print(\"ls_items:\", ls_items)"
   ]
  },
  {
   "cell_type": "markdown",
   "metadata": {},
   "source": [
    "# Set\n",
    "set 元素沒有順序性\n",
    "list 與 tuple 元素有順序性"
   ]
  },
  {
   "cell_type": "code",
   "execution_count": 92,
   "metadata": {},
   "outputs": [
    {
     "name": "stdout",
     "output_type": "stream",
     "text": [
      "<class 'dict'>\n",
      "{}\n",
      "{1, 2, 3}\n",
      "{1, 3.5, 'hello'}\n",
      "set()\n",
      "{'mary', 'tom', 'Joe'}\n",
      "{'p', 'n', 'o', 'y', 'h', 't'}\n",
      "1 2 3 "
     ]
    }
   ],
   "source": [
    "# set \n",
    "s0=set() # 宣告空集合\n",
    "s1={}    # 宣告為 dict 而不是 set\n",
    "print(type(s1))\n",
    "s2= {1,2,3}\n",
    "s3={1, \"hello\", 3.5}\n",
    "s4=set()\n",
    "s5=set([\"tom\", \"mary\", \"Joe\"])\n",
    "s6=set(\"python\")\n",
    "print(s1)\n",
    "print(s2)\n",
    "print(s3)\n",
    "print(s4)\n",
    "print(s5)\n",
    "print(s6)\n",
    "for e in s2:\n",
    "    print(e, end =\" \")"
   ]
  },
  {
   "cell_type": "code",
   "execution_count": 21,
   "metadata": {},
   "outputs": [
    {
     "name": "stdout",
     "output_type": "stream",
     "text": [
      "{1, 3, 5, 7, 9, 11, 13}\n",
      "{1, 5, 7, 9, 11, 13}\n",
      "{1, 7, 9, 11, 13}\n",
      "1\n",
      "set()\n"
     ]
    }
   ],
   "source": [
    "# set 的 函數\n",
    "s1={1,3,5}\n",
    "s1.add(7)  #增加一個元素\n",
    "s1.update([9,11,13]) #增加多個函數\n",
    "print(s1)\n",
    "s1.discard(3)  # 刪除 3元素\n",
    "print(s1)\n",
    "s1.remove(5)   # 移除 5  元素\n",
    "print(s1)\n",
    "e = s1.pop()   # pop 一個元素\n",
    "print(e)\n",
    "s1.clear()     # 清除所有元素\n",
    "print(s1)"
   ]
  },
  {
   "cell_type": "code",
   "execution_count": 22,
   "metadata": {},
   "outputs": [
    {
     "name": "stdout",
     "output_type": "stream",
     "text": [
      "c1 : {1, 2, 3}\n",
      "c2 : {1, 2, 3}\n",
      "d1 : {1, 2, 3, 4, 5, 6, 7, 8, 9, 10}\n",
      "d2 : {1, 2, 3, 4, 5, 6, 7, 8, 9, 10}\n",
      "e1 : {8, 10, 4, 6}\n",
      "e2 : {8, 10, 4, 6}\n",
      "f1 : {4, 5, 6, 7, 8, 9, 10}\n",
      "f2 : {4, 5, 6, 7, 8, 9, 10}\n",
      "True\n",
      "False\n"
     ]
    }
   ],
   "source": [
    "s1={1,2,3,4,6,8,10}\n",
    "s2={1,2,3,5,7,9}\n",
    "c1 = s1 & s2  # 交集\n",
    "c2 = s1.intersection(s2)\n",
    "d1 = s1 | s2  # 聯集\n",
    "d2 = s1.union(s2)\n",
    "e1 = s1-s2    # 差集\n",
    "e2 = s1.difference(s2)\n",
    "f1 = s1 ^ s2  # 互斥集\n",
    "f2 = s1.symmetric_difference(s2)\n",
    "\n",
    "print(\"c1 :\", c1)\n",
    "print(\"c2 :\", c2)\n",
    "print(\"d1 :\", d1)\n",
    "print(\"d2 :\", d2)\n",
    "print(\"e1 :\", e1)\n",
    "print(\"e2 :\", e2)\n",
    "print(\"f1 :\", f1)\n",
    "print(\"f2 :\", f2)\n",
    "\n",
    "print(1 in s1)\n",
    "print(1 not in s1)"
   ]
  },
  {
   "cell_type": "code",
   "execution_count": 83,
   "metadata": {},
   "outputs": [
    {
     "name": "stdout",
     "output_type": "stream",
     "text": [
      "True\n",
      "False\n",
      "True\n",
      "False\n"
     ]
    }
   ],
   "source": [
    "#使用 >, <, =, >=,  <=, == 判斷集合之間的關係\n",
    "s1={1,2,3}\n",
    "s2={1,2,3,4,5}\n",
    "print(s1 < s2)\n",
    "print(s2 < s1)\n",
    "print (s1 <= s2)\n",
    "print(s1 == s2)"
   ]
  },
  {
   "cell_type": "code",
   "execution_count": 89,
   "metadata": {},
   "outputs": [
    {
     "name": "stdout",
     "output_type": "stream",
     "text": [
      "{1, 2, 3, 4}\n",
      "{1, 2, 3, 4}\n",
      "True\n",
      "False\n",
      "False\n"
     ]
    }
   ],
   "source": [
    "# set vs. list、tuple\n",
    "s1 = set([1,2,3,4])  #list --> set\n",
    "s2 = set((4,3,2,1))  #tuple --> set\n",
    "print(s1)\n",
    "print(s2)\n",
    "ls1 = [1,2,3,4]\n",
    "ls2 = [4,3,2,1]\n",
    "t1=(1,2,3,4)\n",
    "t2=(4,3,2,1)\n",
    "print(s1==s2)    #{1,2,3,4} == {4,3,2,1}\n",
    "print(ls1==ls2)  #[1,2,3,4] != [4,3,2,1]\n",
    "print(t1==t2)    #[1,2,3,4] != [4,3,2,1]\n",
    "\n"
   ]
  },
  {
   "cell_type": "markdown",
   "metadata": {},
   "source": [
    "# container(list,tupe, dict,set) 複製"
   ]
  },
  {
   "cell_type": "code",
   "execution_count": 123,
   "metadata": {},
   "outputs": [
    {
     "name": "stdout",
     "output_type": "stream",
     "text": [
      "a : [1, 2, 22]\n",
      "b : [1, 2, 22]\n",
      "a : [1, 2, 3]\n",
      "c : [1, 2, 22]\n"
     ]
    }
   ],
   "source": [
    "a = [1,2,3]\n",
    "b = a\n",
    "b[2] = 22\n",
    "print(\"a :\", a)\n",
    "print(\"b :\", b)\n",
    "#-------------------\n",
    "a = [1,2,3]\n",
    "c = a.copy()\n",
    "c[2] = 22\n",
    "print(\"a :\", a)\n",
    "print(\"c :\", c)\n"
   ]
  },
  {
   "cell_type": "code",
   "execution_count": null,
   "metadata": {},
   "outputs": [],
   "source": []
  }
 ],
 "metadata": {
  "interpreter": {
   "hash": "aee8b7b246df8f9039afb4144a1f6fd8d2ca17a180786b69acc140d282b71a49"
  },
  "kernelspec": {
   "display_name": "Python 3.9.7 64-bit",
   "name": "python3"
  },
  "language_info": {
   "codemirror_mode": {
    "name": "ipython",
    "version": 3
   },
   "file_extension": ".py",
   "mimetype": "text/x-python",
   "name": "python",
   "nbconvert_exporter": "python",
   "pygments_lexer": "ipython3",
   "version": "3.9.7"
  }
 },
 "nbformat": 4,
 "nbformat_minor": 2
}
