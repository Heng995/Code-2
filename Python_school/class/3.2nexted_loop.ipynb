{
 "cells": [
  {
   "cell_type": "markdown",
   "metadata": {},
   "source": [
    "# Nested Loop 數字之合\n"
   ]
  },
  {
   "cell_type": "markdown",
   "metadata": {},
   "source": [
    "## 建立三個 List"
   ]
  },
  {
   "cell_type": "code",
   "execution_count": null,
   "metadata": {},
   "outputs": [],
   "source": [
    "a = [2, 4, 6, 8, 10,12]\n",
    "b = [1, 3, 5, 7, 9, 11]\n",
    "c = [1, 2, 3, 5, 8, 13]"
   ]
  },
  {
   "cell_type": "markdown",
   "metadata": {},
   "source": [
    "## 第一小題\n",
    "輸入一個數字 (例如 6) ，請輸出 其在 a list 的位置索引(index)  6--> 2"
   ]
  },
  {
   "cell_type": "code",
   "execution_count": 21,
   "metadata": {},
   "outputs": [
    {
     "name": "stdout",
     "output_type": "stream",
     "text": [
      "2\n"
     ]
    }
   ],
   "source": [
    "print(a.index(int(input('輸入一數字:'))))"
   ]
  },
  {
   "cell_type": "markdown",
   "metadata": {},
   "source": [
    "## 第二小題\n",
    "輸入一個數字(例如 9) ，\n",
    "這個數字由 a list 哪一個數字與 b list 哪一個 數字 相加之合，\n",
    "輸出 a list 數字與b list 數字的位置索引。"
   ]
  },
  {
   "cell_type": "code",
   "execution_count": 22,
   "metadata": {},
   "outputs": [
    {
     "name": "stdout",
     "output_type": "stream",
     "text": [
      "(0, 3)\n",
      "(1, 2)\n",
      "(2, 1)\n",
      "(3, 0)\n"
     ]
    }
   ],
   "source": [
    "num = int(input('輸入一數字:'))\n",
    "for i in a:\n",
    "    for j in b:\n",
    "        if num-i-j == 0:\n",
    "            print((a.index(i), b.index(num-i)))"
   ]
  },
  {
   "cell_type": "markdown",
   "metadata": {},
   "source": [
    "## 第三小題\n",
    "輸入一個數字(例如 20) ，這個數字由 a list 哪一個數字、 b list 哪一個 數字 與  c list 哪一個數字 相加之合，輸出 a list 數字、b list 數字與 c list 數字的位置索引。"
   ]
  },
  {
   "cell_type": "code",
   "execution_count": 23,
   "metadata": {},
   "outputs": [
    {
     "name": "stdout",
     "output_type": "stream",
     "text": [
      "(0, 2, 5)\n",
      "(1, 1, 5)\n",
      "(1, 5, 3)\n",
      "(2, 0, 5)\n",
      "(2, 4, 3)\n",
      "(2, 5, 2)\n",
      "(3, 3, 3)\n",
      "(3, 4, 2)\n",
      "(3, 5, 0)\n",
      "(4, 2, 3)\n",
      "(4, 3, 2)\n",
      "(4, 4, 0)\n",
      "(5, 1, 3)\n",
      "(5, 2, 2)\n",
      "(5, 3, 0)\n"
     ]
    }
   ],
   "source": [
    "num = int(input('請輸入一數字:'))\n",
    "for i in a:\n",
    "    for j in b:\n",
    "        for k in c:\n",
    "            if num-i-j-k == 0:\n",
    "                print((a.index(i), b.index(j), c.index(k)))"
   ]
  }
 ],
 "metadata": {
  "interpreter": {
   "hash": "31f2aee4e71d21fbe5cf8b01ff0e069b9275f58929596ceb00d14d90e3e16cd6"
  },
  "kernelspec": {
   "display_name": "Python 3.8.2 64-bit",
   "name": "python3"
  },
  "language_info": {
   "codemirror_mode": {
    "name": "ipython",
    "version": 3
   },
   "file_extension": ".py",
   "mimetype": "text/x-python",
   "name": "python",
   "nbconvert_exporter": "python",
   "pygments_lexer": "ipython3",
   "version": "3.8.2"
  },
  "orig_nbformat": 4
 },
 "nbformat": 4,
 "nbformat_minor": 2
}
