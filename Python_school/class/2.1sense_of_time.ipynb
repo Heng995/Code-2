{
 "cells": [
  {
   "cell_type": "markdown",
   "source": [
    "# 時間感測試"
   ],
   "metadata": {}
  },
  {
   "cell_type": "markdown",
   "source": [
    "### 隨機產生整數"
   ],
   "metadata": {}
  },
  {
   "cell_type": "code",
   "execution_count": 1,
   "source": [
    "import random\r\n",
    "random.randint(1, 10)"
   ],
   "outputs": [
    {
     "output_type": "execute_result",
     "data": {
      "text/plain": [
       "3"
      ]
     },
     "metadata": {},
     "execution_count": 1
    }
   ],
   "metadata": {}
  },
  {
   "cell_type": "markdown",
   "source": [
    "### 主程式"
   ],
   "metadata": {}
  },
  {
   "cell_type": "code",
   "execution_count": 2,
   "source": [
    "import time"
   ],
   "outputs": [],
   "metadata": {}
  },
  {
   "cell_type": "code",
   "execution_count": 3,
   "source": [
    "while(True):\r\n",
    "    t = random.randint(1, 10)\r\n",
    "    input(str(t) + ' 秒時間測試，準備好就按 Enter 鍵開始')\r\n",
    "    \r\n",
    "    start = time.time()\r\n",
    "    input('開始計時! 按 Enter 鍵結束計時!')\r\n",
    "    end = time.time()\r\n",
    "    \r\n",
    "    seconds = end - start\r\n",
    "    print('你的秒數:', round(seconds, 2))\r\n",
    "    \r\n",
    "    error = abs(t - seconds)\r\n",
    "    print('誤差秒數:', round(error, 2))\r\n",
    "    \r\n",
    "    acc = round(1 - (error / t), 2)\r\n",
    "    print('準確度:', acc)\r\n",
    "    \r\n",
    "    try_again = input('要再試一次嗎?(yes/no)')\r\n",
    "    if(try_again == 'yes'):\r\n",
    "        continue\r\n",
    "    else:\r\n",
    "        break"
   ],
   "outputs": [
    {
     "output_type": "stream",
     "name": "stdout",
     "text": [
      "你的秒數: 3.1\n",
      "誤差秒數: 2.9\n",
      "準確度: 0.52\n"
     ]
    }
   ],
   "metadata": {}
  }
 ],
 "metadata": {
  "kernelspec": {
   "name": "python3",
   "display_name": "Python 3.9.6 64-bit"
  },
  "language_info": {
   "codemirror_mode": {
    "name": "ipython",
    "version": 3
   },
   "file_extension": ".py",
   "mimetype": "text/x-python",
   "name": "python",
   "nbconvert_exporter": "python",
   "pygments_lexer": "ipython3",
   "version": "3.9.6"
  },
  "interpreter": {
   "hash": "e066906fe76e116fe298151430f54f14f8fa60f14e5cf26cd32bf8c49c87e31e"
  }
 },
 "nbformat": 4,
 "nbformat_minor": 5
}