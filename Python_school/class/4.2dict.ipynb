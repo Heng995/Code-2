{
 "cells": [
  {
   "cell_type": "markdown",
   "metadata": {},
   "source": [
    "# 程式設計作業 4.2 dict 操作"
   ]
  },
  {
   "cell_type": "markdown",
   "metadata": {},
   "source": [
    "## 一、建立Dictionary的方法"
   ]
  },
  {
   "cell_type": "markdown",
   "metadata": {},
   "source": [
    "### 1.於 {} 符號中輸入每個元素的鍵(Key)與值(Value)。"
   ]
  },
  {
   "cell_type": "code",
   "execution_count": 9,
   "metadata": {},
   "outputs": [
    {
     "name": "stdout",
     "output_type": "stream",
     "text": [
      "{'Mike': 170, 'Peter': 165}\n",
      "{1: 'nissan', 2: 'toyota'}\n"
     ]
    }
   ],
   "source": [
    "# 身高\n",
    "heights = {\"Mike\": 170, \"Peter\": 165}\n",
    "\n",
    "# 車款\n",
    "cars = {1: \"nissan\", 2: \"toyota\"}\n",
    "\n",
    "print(heights)\n",
    "print(cars)"
   ]
  },
  {
   "cell_type": "markdown",
   "metadata": {},
   "source": [
    "## 2.使用dict()方法，傳入鍵(Key)的名稱，並且指派值(Value)給它。\n",
    "## 此種傳入參數稱為關鍵字參數(keyword arguments)，後續會出文章詳加介紹。"
   ]
  },
  {
   "cell_type": "code",
   "execution_count": 10,
   "metadata": {},
   "outputs": [
    {
     "name": "stdout",
     "output_type": "stream",
     "text": [
      "{'Mike': 170, 'Peter': 165}\n"
     ]
    }
   ],
   "source": [
    "# 身高\n",
    "heights = dict(Mike=170, Peter=165)\n",
    "print(heights)"
   ]
  },
  {
   "cell_type": "markdown",
   "metadata": {},
   "source": [
    "## 二、存取Dictionary元素的方法"
   ]
  },
  {
   "cell_type": "markdown",
   "metadata": {},
   "source": [
    "### 1.使用 [ ] 符號，傳入鍵(Key)的名稱。\n",
    "### 不像字串(String)、串列(List)及元組(Tuples)是傳入位置索引值。\n"
   ]
  },
  {
   "cell_type": "code",
   "execution_count": 11,
   "metadata": {},
   "outputs": [
    {
     "name": "stdout",
     "output_type": "stream",
     "text": [
      "170\n"
     ]
    }
   ],
   "source": [
    "# 身高\n",
    "heights = {\"Mike\": 170, \"Peter\": 165}\n",
    "print(heights[\"Mike\"])"
   ]
  },
  {
   "cell_type": "code",
   "execution_count": 12,
   "metadata": {},
   "outputs": [],
   "source": [
    "# 身高\n",
    "heights = {\"Mike\": 170, \"Peter\": 165}\n",
    "\n",
    "if \"Harry\" in heights:\n",
    "    print(heights[\"Harry\"])"
   ]
  },
  {
   "cell_type": "markdown",
   "metadata": {},
   "source": [
    "### 2.透過Python迴圈來存取字典(Dictionary)中的每一個元素。\n"
   ]
  },
  {
   "cell_type": "code",
   "execution_count": 13,
   "metadata": {},
   "outputs": [
    {
     "name": "stdout",
     "output_type": "stream",
     "text": [
      "Mike\n",
      "Peter\n"
     ]
    }
   ],
   "source": [
    "# 身高\n",
    "heights = {\"Mike\": 170, \"Peter\": 165}\n",
    "\n",
    "for height in heights:\n",
    "    print(height)"
   ]
  },
  {
   "cell_type": "code",
   "execution_count": 14,
   "metadata": {},
   "outputs": [
    {
     "name": "stdout",
     "output_type": "stream",
     "text": [
      "('Mike', 170)\n",
      "('Peter', 165)\n"
     ]
    }
   ],
   "source": [
    "# 身高\n",
    "heights = {\"Mike\": 170, \"Peter\": 165}\n",
    "\n",
    "for height in heights.items():\n",
    "    print(height)"
   ]
  },
  {
   "cell_type": "markdown",
   "metadata": {},
   "source": [
    "## 三、新增Dictionary元素的方法"
   ]
  },
  {
   "cell_type": "markdown",
   "metadata": {},
   "source": [
    "### 1.於 [] 符號中輸入要新增的鍵(Key)的名稱，並且指派一個值(Value)給它。"
   ]
  },
  {
   "cell_type": "code",
   "execution_count": 15,
   "metadata": {},
   "outputs": [
    {
     "name": "stdout",
     "output_type": "stream",
     "text": [
      "{'Mike': 170, 'Peter': 165, 'John': 175}\n"
     ]
    }
   ],
   "source": [
    "# 身高\n",
    "heights = {\"Mike\":170, \"Peter\":165}\n",
    "\n",
    "heights[\"John\"] = 175\n",
    "\n",
    "print(heights)"
   ]
  },
  {
   "cell_type": "markdown",
   "metadata": {},
   "source": [
    "## 四、修改Dictionary元素的方法\n"
   ]
  },
  {
   "cell_type": "markdown",
   "metadata": {},
   "source": [
    "### 1.於 [] 符號中輸入鍵(Key)的名稱，並且指派要修改的值(Value)給它。\n"
   ]
  },
  {
   "cell_type": "code",
   "execution_count": 16,
   "metadata": {},
   "outputs": [
    {
     "name": "stdout",
     "output_type": "stream",
     "text": [
      "{'Mike': 170, 'Peter': 160}\n"
     ]
    }
   ],
   "source": [
    "# 身高\n",
    "heights = {\"Mike\": 170, \"Peter\": 165}\n",
    "\n",
    "heights[\"Peter\"] = 160\n",
    "\n",
    "print(heights)"
   ]
  },
  {
   "cell_type": "markdown",
   "metadata": {},
   "source": [
    "## 五、刪除Dictionary元素的方法\n"
   ]
  },
  {
   "cell_type": "markdown",
   "metadata": {},
   "source": [
    "### 1.使用del指令，並且於 [] 符號中輸入要刪除的元素鍵(Key)名稱。\n"
   ]
  },
  {
   "cell_type": "code",
   "execution_count": 17,
   "metadata": {},
   "outputs": [
    {
     "name": "stdout",
     "output_type": "stream",
     "text": [
      "{'Mike': 170}\n"
     ]
    }
   ],
   "source": [
    "# 身高\n",
    "heights = {\"Mike\":170, \"Peter\": 165}\n",
    "\n",
    "del heights[\"Peter\"]\n",
    "\n",
    "print(heights)"
   ]
  },
  {
   "cell_type": "markdown",
   "metadata": {},
   "source": [
    "### 2.使用clear()方法，刪除字典(Dictionary)中的所有元素。\n"
   ]
  },
  {
   "cell_type": "code",
   "execution_count": 20,
   "metadata": {},
   "outputs": [
    {
     "name": "stdout",
     "output_type": "stream",
     "text": [
      "{}\n"
     ]
    }
   ],
   "source": [
    "# 身高\n",
    "heights = {\"Mike\": 170, \"Peter\": 165}\n",
    "\n",
    "heights.clear()\n",
    "\n",
    "print(heights)"
   ]
  },
  {
   "cell_type": "markdown",
   "metadata": {},
   "source": [
    "## 六、尋找Dictionary元素的方法\n"
   ]
  },
  {
   "cell_type": "markdown",
   "metadata": {},
   "source": [
    "### 1.使用get()方法，傳入要尋找的鍵(Key)名稱，它會回傳其值(Value)。\n",
    "### 如果傳入的鍵(Key)名稱不存在，get()方法預設會回傳None。\n"
   ]
  },
  {
   "cell_type": "code",
   "execution_count": 21,
   "metadata": {},
   "outputs": [
    {
     "name": "stdout",
     "output_type": "stream",
     "text": [
      "165\n",
      "None\n"
     ]
    }
   ],
   "source": [
    "heights = {\"Mike\": 170, \"Peter\": 165}\n",
    "\n",
    "print(heights.get(\"Peter\"))\n",
    "\n",
    "print(heights.get(\"Harry\"))"
   ]
  },
  {
   "cell_type": "code",
   "execution_count": 22,
   "metadata": {},
   "outputs": [
    {
     "name": "stdout",
     "output_type": "stream",
     "text": [
      "165\n",
      "0\n"
     ]
    }
   ],
   "source": [
    "heights = {\"Mike\": 170, \"Peter\": 165}\n",
    "\n",
    "print(heights.get(\"Peter\"))\n",
    "\n",
    "print(heights.get(\"Harry\", 0))"
   ]
  }
 ],
 "metadata": {
  "interpreter": {
   "hash": "aee8b7b246df8f9039afb4144a1f6fd8d2ca17a180786b69acc140d282b71a49"
  },
  "kernelspec": {
   "display_name": "Python 3.9.7 64-bit",
   "name": "python3"
  },
  "language_info": {
   "codemirror_mode": {
    "name": "ipython",
    "version": 3
   },
   "file_extension": ".py",
   "mimetype": "text/x-python",
   "name": "python",
   "nbconvert_exporter": "python",
   "pygments_lexer": "ipython3",
   "version": "3.9.7"
  },
  "orig_nbformat": 4
 },
 "nbformat": 4,
 "nbformat_minor": 2
}
