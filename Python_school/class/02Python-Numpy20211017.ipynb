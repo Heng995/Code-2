{
 "cells": [
  {
   "cell_type": "markdown",
   "metadata": {},
   "source": [
    "Numpy 陣列範例"
   ]
  },
  {
   "cell_type": "code",
   "execution_count": 2,
   "metadata": {},
   "outputs": [
    {
     "name": "stdout",
     "output_type": "stream",
     "text": [
      "<class 'numpy.ndarray'>\n",
      "<class 'numpy.ndarray'>\n",
      "1 2 3 4 5\n",
      "[5 2 3 4 5]\n",
      "[5 2 3 4 0]\n"
     ]
    }
   ],
   "source": [
    "#陣列建立一維\n",
    "import numpy as np\n",
    "\n",
    "a = np.array([1, 2, 3, 4, 5])  # 用 list 建立 array\n",
    "b = np.array((1, 2, 3, 4, 5))  # 用 tuple 建立 array\n",
    "print(type(a))  \n",
    "print(type(b))        \n",
    "print(a[0], a[1], a[2], a[3], a[4])\n",
    "b[0] = 5    \n",
    "print(b) \n",
    "b[4] = 0\n",
    "print(b)\n",
    "\n",
    "# list、 np array 可以直接改值、string 、tuple 不能直接改值"
   ]
  },
  {
   "cell_type": "code",
   "execution_count": 1,
   "metadata": {},
   "outputs": [
    {
     "data": {
      "text/plain": [
       "[1, 2, 3, 4, 5]"
      ]
     },
     "execution_count": 1,
     "metadata": {},
     "output_type": "execute_result"
    }
   ],
   "source": [
    "c = [1, 2, 3, 4, 5]\n",
    "c"
   ]
  },
  {
   "cell_type": "code",
   "execution_count": 4,
   "metadata": {},
   "outputs": [
    {
     "name": "stdout",
     "output_type": "stream",
     "text": [
      "1 2 3\n",
      "4 5 6\n",
      "[[6 2 3]\n",
      " [4 5 1]]\n",
      "[1 2 3 4 5]\n",
      "[1. 2. 3. 4. 5.]\n",
      "<class 'numpy.ndarray'>\n",
      "<class 'numpy.ndarray'>\n"
     ]
    }
   ],
   "source": [
    "##陣列建立二維\n",
    "a = np.array([[1,2,3],[4,5,6]])\n",
    "print(a[0][0], a[0, 1], a[0, 2])\n",
    "print(a[1, 0], a[1, 1], a[1, 2])  # list 可以這樣用?\n",
    "a[0, 0] = 6\n",
    "a[1, 2] = 1\n",
    "print(a)\n",
    "\n",
    "a = np.array([1, 2, 3, 4, 5], int) \n",
    "b = np.array((1, 2, 3, 4, 5), dtype=float) \n",
    "print(a) \n",
    "print(b)    \n",
    "print(type(a))\n",
    "print(type(b))"
   ]
  },
  {
   "cell_type": "code",
   "execution_count": 5,
   "metadata": {},
   "outputs": [
    {
     "name": "stdout",
     "output_type": "stream",
     "text": [
      "[0 1 2 3 4]\n",
      "[1 3 5]\n",
      "[0. 0.]\n",
      "[[0. 0.]\n",
      " [0. 0.]]\n",
      "[1. 1.]\n",
      "[[1. 1.]\n",
      " [1. 1.]]\n",
      "[7 7]\n",
      "[[7 7]\n",
      " [7 7]]\n"
     ]
    }
   ],
   "source": [
    "# range() 函數建立陣列\n",
    "a = np.arange(5)  # l = list(range(5))  l = [0,1,2,3,4]\n",
    "print(a)\n",
    "b = np.arange(1, 6, 2)\n",
    "print(b) \n",
    "\n",
    "c = np.zeros(2) \n",
    "print(c)  \n",
    "d = np.zeros((2,2)) \n",
    "print(d)           \n",
    "\n",
    "e = np.ones(2) \n",
    "print(e)   \n",
    "f = np.ones((2,2)) \n",
    "print(f)         \n",
    "\n",
    "g = np.full(2, 7)\n",
    "print(g)      \n",
    "h = np.full((2,2), 7)\n",
    "print(h)  "
   ]
  },
  {
   "cell_type": "code",
   "execution_count": 3,
   "metadata": {},
   "outputs": [
    {
     "name": "stdout",
     "output_type": "stream",
     "text": [
      "[0 1 2 3 4]\n"
     ]
    }
   ],
   "source": [
    "import numpy as np\n",
    "a = np.arange(5)\n",
    "print(a)"
   ]
  },
  {
   "cell_type": "code",
   "execution_count": 5,
   "metadata": {},
   "outputs": [
    {
     "name": "stdout",
     "output_type": "stream",
     "text": [
      "[0 1 2 3 4 5 6 7 8 9]\n",
      "[ 1.  2.  3.  4.  5.  6.  7.  8.  9. 10.]\n"
     ]
    }
   ],
   "source": [
    "a = np.arange(10)\n",
    "b = np.linspace(start = 1, stop =10, num = 10)\n",
    "print(a)\n",
    "print(b)"
   ]
  },
  {
   "cell_type": "code",
   "execution_count": 2,
   "metadata": {},
   "outputs": [
    {
     "data": {
      "image/png": "[encoded data removed]",
      "text/plain": [
       "<Figure size 432x288 with 1 Axes>"
      ]
     },
     "metadata": {
      "needs_background": "light"
     },
     "output_type": "display_data"
    }
   ],
   "source": [
    "#Matplotlib\n",
    "#繪製2個資料集\n",
    "#使用NumPy陣列作為資料來源，配合sin()和cos()函數建立2個資料集。\n",
    "import matplotlib.pyplot as plt\n",
    "import numpy as np\n",
    "x = np.linspace(0, 10, 1000)\n",
    "sinus = np.sin(x)\n",
    "cosinus = np.cos(x)\n",
    "plt.plot(x, sinus, x, cosinus)\n",
    "plt.show()"
   ]
  },
  {
   "cell_type": "code",
   "execution_count": 8,
   "metadata": {},
   "outputs": [
    {
     "name": "stdout",
     "output_type": "stream",
     "text": [
      "[[0 0 0]\n",
      " [0 0 0]]\n",
      "[[1 1 1]\n",
      " [1 1 1]]\n",
      "[[1. 0. 0.]\n",
      " [0. 1. 0.]\n",
      " [0. 0. 1.]]\n",
      "[[0. 1. 0.]\n",
      " [0. 0. 1.]\n",
      " [0. 0. 0.]]\n",
      "[0.49387765 0.95977298 0.39787233]\n",
      "[[0.97797487 0.51709435 0.93119899]\n",
      " [0.51698158 0.58754165 0.76051238]\n",
      " [0.93199906 0.47365214 0.67132661]]\n"
     ]
    }
   ],
   "source": [
    "#  函數建立陣列\n",
    "a = np.array([[1,2,3],[4,5,6]])  # 2x3\n",
    "b = np.zeros_like(a)\n",
    "print(b)\n",
    "\n",
    "c = np.ones_like(a)\n",
    "print(c)\n",
    "\n",
    "d = np.eye(3)  \n",
    "print(d)\n",
    "e = np.eye(3, k=1)\n",
    "print(e)\n",
    "    \n",
    "f = np.random.rand(3)  # 產生三個 0-1\n",
    "print(f)\n",
    "g = np.random.rand(3,3)\n",
    "print(g)   "
   ]
  },
  {
   "cell_type": "code",
   "execution_count": 9,
   "metadata": {},
   "outputs": [
    {
     "name": "stdout",
     "output_type": "stream",
     "text": [
      "[ 0  1  2  3  4  5  6  7  8  9 10 11 12 13 14 15]\n",
      "[[ 0  1  2  3]\n",
      " [ 4  5  6  7]\n",
      " [ 8  9 10 11]\n",
      " [12 13 14 15]]\n",
      "[0. 1. 2. 3. 4. 5. 6. 7. 8. 9.]\n",
      "[[0. 1.]\n",
      " [2. 3.]\n",
      " [4. 5.]\n",
      " [6. 7.]\n",
      " [8. 9.]]\n",
      "[[0. 1. 2. 3. 4.]\n",
      " [5. 6. 7. 8. 9.]]\n"
     ]
    }
   ],
   "source": [
    "# reshape 陣列維度轉換\n",
    "a = np.arange(16)  # [0 1 2 3 4 5 6 7 8 9 10 11 12 13 14 15]\n",
    "print(a)\n",
    "b = a.reshape((4, 4))\n",
    "print(b)\n",
    "\n",
    "# b = [[1,2,3,4],[5,6,7,8],9,10,11,12],[13,14,15,16]]\n",
    "\n",
    "c = np.array(range(10), float)\n",
    "print(c)\n",
    "d = c.reshape((5, 2))\n",
    "print(d)\n",
    "\n",
    "#只管第二軸轉換成 5， 第一軸由電腦自己計算就用-1代表。\n",
    "e= c.reshape((-1,5))\n",
    "print(e)\n"
   ]
  },
  {
   "cell_type": "code",
   "execution_count": 6,
   "metadata": {},
   "outputs": [
    {
     "name": "stdout",
     "output_type": "stream",
     "text": [
      "a :  [ 0  1  2  3  4  5  6  7  8  9 10 11 12 13 14 15 16 17 18 19 20 21 22 23]\n",
      "b :  [[ 0  1  2  3  4  5  6  7  8  9 10 11]\n",
      " [12 13 14 15 16 17 18 19 20 21 22 23]]\n",
      "c :  [[[ 0  1  2  3]\n",
      "  [ 4  5  6  7]\n",
      "  [ 8  9 10 11]]\n",
      "\n",
      " [[12 13 14 15]\n",
      "  [16 17 18 19]\n",
      "  [20 21 22 23]]]\n"
     ]
    }
   ],
   "source": [
    "# 高維度\n",
    "a = np.arange(24)\n",
    "print(\"a : \",a)\n",
    "b = a.reshape(2,12)\n",
    "print(\"b : \",b)\n",
    "c = a.reshape(2,3,4)\n",
    "print(\"c : \",c)"
   ]
  },
  {
   "cell_type": "code",
   "execution_count": 4,
   "metadata": {},
   "outputs": [
    {
     "name": "stdout",
     "output_type": "stream",
     "text": [
      "<class 'numpy.ndarray'>\n",
      "int32\n",
      "25\n",
      "(5, 5)\n",
      "4\n",
      "2\n",
      "100\n"
     ]
    },
    {
     "data": {
      "text/plain": [
       "numpy.ndarray"
      ]
     },
     "execution_count": 4,
     "metadata": {},
     "output_type": "execute_result"
    }
   ],
   "source": [
    "#二維陣列屬性\n",
    "a = np.array([[11, 12, 13, 14, 15],\n",
    "              [16, 17, 18, 19, 20],\n",
    "              [21, 22, 23, 24, 25],\n",
    "              [26, 27, 28, 29, 30],\n",
    "              [31, 32, 33, 34, 35]])\n",
    " \n",
    "print(type(a))  # a.type\n",
    "print(a.dtype)\n",
    "print(a.size)\n",
    "print(a.shape)\n",
    "print(a.itemsize)\n",
    "print(a.ndim)\n",
    "print(a.nbytes)  \n",
    "type(a)"
   ]
  },
  {
   "cell_type": "code",
   "execution_count": 11,
   "metadata": {},
   "outputs": [
    {
     "name": "stdout",
     "output_type": "stream",
     "text": [
      "1\n",
      "2\n",
      "3\n",
      "4\n",
      "5\n"
     ]
    }
   ],
   "source": [
    "#一維陣列探索\n",
    "a = np.array([1, 2, 3, 4, 5])\n",
    "for ele in a:\n",
    "    print(ele)"
   ]
  },
  {
   "cell_type": "code",
   "execution_count": 12,
   "metadata": {},
   "outputs": [
    {
     "name": "stdout",
     "output_type": "stream",
     "text": [
      "[1 2]\n",
      "[3 4]\n",
      "[5 6]\n",
      "1 2 3 4 5 6 "
     ]
    }
   ],
   "source": [
    "#二維探索探索\n",
    "a = np.array([[1, 2], [3, 4], [5, 6]])\n",
    "for ele in a:\n",
    "    print(ele)\n",
    "\n",
    "for ele in a:\n",
    "    for item in ele:\n",
    "        print(str(item) + \" \", end=\"\")"
   ]
  },
  {
   "cell_type": "code",
   "execution_count": 13,
   "metadata": {},
   "outputs": [],
   "source": [
    "#陣列輸出存檔  ---------------------------------\n",
    "a = np.arange(10)\n",
    "outputfile = \"Example.npy\"\n",
    "with open(outputfile, 'wb') as fp:\n",
    "    np.save(fp, a)\n",
    "\n",
    "#輸出 CSV格式\n",
    "a = np.array([[1,2,3],[4,5,6]])\n",
    "outputfile = \"Example.out\"\n",
    "np.savetxt(outputfile, a, delimiter=',')  # 記事本  看不到  調整編碼方式"
   ]
  },
  {
   "cell_type": "code",
   "execution_count": null,
   "metadata": {},
   "outputs": [],
   "source": [
    "#陣列載入\n",
    "outputfile = \"Example.npy\"\n",
    "with open(outputfile, 'rb') as fp:\n",
    "    a = np.load(fp)\n",
    "print(a)\n",
    "\n",
    "#載入 CSV格式\n",
    "outputfile = \"Example.out\"\n",
    "a = np.loadtxt(outputfile, delimiter=',')\n",
    "print(a)"
   ]
  },
  {
   "cell_type": "code",
   "execution_count": 14,
   "metadata": {},
   "outputs": [
    {
     "name": "stdout",
     "output_type": "stream",
     "text": [
      "a=[1 2 3]\n",
      "s=5\n",
      "a+s=[6 7 8]\n",
      "a-s=[-4 -3 -2]\n",
      "a*s=[ 5 10 15]\n",
      "a/s=[0.2 0.4 0.6]\n",
      "a=[1 2 3]\n",
      "s=5\n",
      "np.add(a,s)=[6 7 8]\n",
      "np.subtract(a,s)=[-4 -3 -2]\n",
      "np.multiply(a,s)=[ 5 10 15]\n",
      "np.divide(a,s)=[0.2 0.4 0.6]\n"
     ]
    }
   ],
   "source": [
    "#陣列與純量運算\n",
    "a = np.array([1, 2, 3]) \n",
    "print(\"a=\" + str(a))\n",
    "s = 5 \n",
    "print(\"s=\" + str(s))\n",
    "b = a + s       \n",
    "print(\"a+s=\" + str(b))    \n",
    "b = a - s       \n",
    "print(\"a-s=\" + str(b))   \n",
    "b = a * s       \n",
    "print(\"a*s=\" + str(b))  \n",
    "b = a / s       \n",
    "print(\"a/s=\" + str(b)) \n",
    "\n",
    "\n",
    "a = np.array([1, 2, 3]) \n",
    "print(\"a=\" + str(a))\n",
    "s = 5 \n",
    "print(\"s=\" + str(s))\n",
    "b = np.add(a, s)       \n",
    "print(\"np.add(a,s)=\" + str(b))    \n",
    "b = np.subtract(a, s)       \n",
    "print(\"np.subtract(a,s)=\" + str(b))   \n",
    "b = np.multiply(a, s)       \n",
    "print(\"np.multiply(a,s)=\" + str(b))  \n",
    "b = np.divide(a, s)       \n",
    "print(\"np.divide(a,s)=\" + str(b))  "
   ]
  },
  {
   "cell_type": "code",
   "execution_count": 15,
   "metadata": {},
   "outputs": [
    {
     "name": "stdout",
     "output_type": "stream",
     "text": [
      "a=[1 2 3]\n",
      "s=[4 5 6]\n",
      "a+s=[5 7 9]\n",
      "a-s=[-3 -3 -3]\n",
      "a*s=[ 4 10 18]\n",
      "a/s=[0.25 0.4  0.5 ]\n",
      "c=[1 2 3]\n",
      "s=[4 5 6]\n",
      "np.add(a,s)=[5 7 9]\n",
      "np.subtract(a,s)=[-3 -3 -3]\n",
      "np.multiply(a,s)=[ 4 10 18]\n",
      "np.divide(a,s)=[0.25 0.4  0.5 ]\n"
     ]
    }
   ],
   "source": [
    "#陣列與陣列運算\n",
    "a = np.array([1, 2, 3]) \n",
    "print(\"a=\" + str(a))\n",
    "s = np.array([4, 5, 6])  \n",
    "print(\"s=\" + str(s))\n",
    "b = a + s       \n",
    "print(\"a+s=\" + str(b))    \n",
    "b = a - s       \n",
    "print(\"a-s=\" + str(b))   \n",
    "b = a * s       \n",
    "print(\"a*s=\" + str(b))  \n",
    "b = a / s       \n",
    "print(\"a/s=\" + str(b))  \n",
    "\n",
    "\n",
    "a = np.array([1, 2, 3]) \n",
    "print(\"c=\" + str(a))\n",
    "s = np.array([4, 5, 6])  \n",
    "print(\"s=\" + str(s))\n",
    "b = np.add(a, s)       \n",
    "print(\"np.add(a,s)=\" + str(b))    \n",
    "b = np.subtract(a, s)       \n",
    "print(\"np.subtract(a,s)=\" + str(b))   \n",
    "b = np.multiply(a, s)       \n",
    "print(\"np.multiply(a,s)=\" + str(b))  \n",
    "b = np.divide(a, s)       \n",
    "print(\"np.divide(a,s)=\" + str(b))  "
   ]
  },
  {
   "cell_type": "code",
   "execution_count": 16,
   "metadata": {},
   "outputs": [
    {
     "name": "stdout",
     "output_type": "stream",
     "text": [
      "a=[1 2 3]\n",
      "s=[4 5 6]\n",
      "a.dot(s)=32\n"
     ]
    }
   ],
   "source": [
    "#陣列點積運算 dot product\n",
    "a = np.array([1, 2, 3]) \n",
    "print(\"a=\" + str(a))\n",
    "s = np.array([4, 5, 6])  \n",
    "print(\"s=\" + str(s))\n",
    "b = a.dot(s)       \n",
    "print(\"a.dot(s)=\" + str(b))  "
   ]
  },
  {
   "cell_type": "code",
   "execution_count": null,
   "metadata": {},
   "outputs": [],
   "source": [
    "#陣列切割(slice)-1  \n",
    "# string  list tuple array\n",
    "a = np.array([1, 2, 3, 4, 5, 6, 7, 8, 9])\n",
    "print(\"a=\" + str(a))\n",
    "\n",
    "b = a[1:3]     # 索引 1,2\n",
    "print(\"a[1:3]=\" + str(b))\n",
    "b = a[:4]      # 索引 0,1,2,3\n",
    "print(\"a[:4]=\" + str(b))\n",
    "b = a[3:]      # 索引 3,4,5,6,7,8\n",
    "print(\"a[3:]=\" + str(b))\n",
    "b = a[2:9:3]   # 索引 2,5,8\n",
    "print(\"a[2:9:3]=\" + str(b))\n",
    "b = a[::2]     # 索引 0,2,4,6,8\n",
    "print(\"a[::2]=\" + str(b))\n",
    "b = a[::-1]    # 索引 8,7,6,5,4,3,2,1,0\n",
    "print(\"a[::-1]=\" + str(b))\n",
    "b = a[2:-2]    # 索引 8,7,6,5,4,3,2,1,0\n",
    "print(\"a[2:-2]=\" + str(b))\n"
   ]
  },
  {
   "cell_type": "code",
   "execution_count": null,
   "metadata": {},
   "outputs": [],
   "source": [
    "#陣列切割(slice)-2\n",
    "a = np.array([1, 2, 3, 4, 5, 6, 7, 8, 9])\n",
    "print(\"a=\" + str(a))\n",
    "\n",
    "print(a[0], a[2], a[-1])  # 索引 0,2,最後1個 \n",
    "b = a[[1, 3, 5, 7]]       # 索引 1,3,5,7\n",
    "print(\"a[[1,3,5,7]]=\" + str(b))\n",
    "b = a[range(6)]           # 索引 0,1,2,3,4,5\n",
    "print(\"a[range(6)]=\" + str(b))\n",
    "a[[2, 6]] = 10            # 同時更改多個索引值\n",
    "print(\"a[[2,6]]=10->\" + str(a))"
   ]
  },
  {
   "cell_type": "code",
   "execution_count": 17,
   "metadata": {},
   "outputs": [
    {
     "name": "stdout",
     "output_type": "stream",
     "text": [
      "a=[14  8 10 11  6  3 18 13 12  9]\n",
      "mask=[False False False False  True  True  True False  True  True]\n",
      "a[mask]=[ 6  3 18 12  9]\n",
      "a[a%3==0]=-1->[14  8 10 11 -1 -1 -1 13 -1 -1]\n"
     ]
    }
   ],
   "source": [
    "#陣列切割(slice)-boolean\n",
    "a = np.array([14,8,10,11,6,3,18,13,12,9])\n",
    "print(\"a=\" + str(a))\n",
    "mask = (a % 3 == 0)        # 建立布林值陣列\n",
    "print(\"mask=\" + str(mask))\n",
    "b = a[mask]                # 使用布林值陣列(遮罩)取出值\n",
    "print(\"a[mask]=\" + str(b))\n",
    "a[a % 3 == 0] = -1         # 同時更改多個True索引\n",
    "print(\"a[a%3==0]=-1->\" + str(a))"
   ]
  },
  {
   "cell_type": "code",
   "execution_count": null,
   "metadata": {},
   "outputs": [],
   "source": [
    "#二維陣列運算-陣列x純量\n",
    "a = np.array([[1,2,3],[4,5,6]])\n",
    "print(\"a=\")\n",
    "print(a)\n",
    "s = 5 \n",
    "print(\"s=\" + str(s))\n",
    "b = a + s       \n",
    "print(\"a+s=\")\n",
    "print(b)    \n",
    "b = a - s       \n",
    "print(\"a-s=\")\n",
    "print(b)   \n",
    "b = a * s       \n",
    "print(\"a*s=\")\n",
    "print(b)  \n",
    "b = a / s       \n",
    "print(\"a/s=\")\n",
    "print(b)  \n",
    "\n",
    "a = np.array([[1,2,3],[4,5,6]])\n",
    "print(\"a=\")\n",
    "print(a)\n",
    "s = 5 \n",
    "print(\"s=\" + str(s))\n",
    "b = np.add(a, s)       \n",
    "print(\"np.add(a,s)=\")\n",
    "print(b)    \n",
    "b = np.subtract(a, s)       \n",
    "print(\"np.subtract(a,s)=\")\n",
    "print(b)   \n",
    "b = np.multiply(a, s)       \n",
    "print(\"np.multiply(a,s)=\")\n",
    "print(b)  \n",
    "b = np.divide(a, s)       \n",
    "print(\"np.divide(a,s)=\")\n",
    "print(b) \n"
   ]
  },
  {
   "cell_type": "code",
   "execution_count": null,
   "metadata": {},
   "outputs": [],
   "source": [
    "#二維陣列運算\n"
   ]
  },
  {
   "cell_type": "code",
   "execution_count": null,
   "metadata": {},
   "outputs": [],
   "source": [
    "#二維陣列運算-陣列x陣列\n",
    "a = np.array([[1,2],[3,4]])\n",
    "print(\"a=\")\n",
    "print(a)\n",
    "s = np.array([[5,6],[7,8]])\n",
    "print(\"s=\")\n",
    "print(s)\n",
    "b = a + s       \n",
    "print(\"a+s=\")\n",
    "print(b)    \n",
    "b = a - s       \n",
    "print(\"a-s=\")\n",
    "print(b)   \n",
    "b = a * s       \n",
    "print(\"a*s=\")\n",
    "print(b)  \n",
    "b = a / s       \n",
    "print(\"a/s=\")\n",
    "print(b)  \n",
    "\n",
    "a = np.array([[1,2],[3,4]])\n",
    "print(\"a=\")\n",
    "print(a)\n",
    "s = np.array([[5,6],[7,8]])\n",
    "print(\"s=\")\n",
    "print(s)\n",
    "b = np.add(a, s)       \n",
    "print(\"np.add(a,s)=\")\n",
    "print(b)    \n",
    "b = np.subtract(a, s)       \n",
    "print(\"np.subtract(a,s)=\")\n",
    "print(b)   \n",
    "b = np.multiply(a, s)       \n",
    "print(\"np.multiply(a,s)=\")\n",
    "print(b)  \n",
    "b = np.divide(a, s)       \n",
    "print(\"np.divide(a,s)=\")\n",
    "print(b)  "
   ]
  },
  {
   "cell_type": "code",
   "execution_count": 18,
   "metadata": {},
   "outputs": [
    {
     "name": "stdout",
     "output_type": "stream",
     "text": [
      "a=\n",
      "[[1 2]\n",
      " [3 4]]\n",
      "s=\n",
      "[[5 6]\n",
      " [7 8]]\n",
      "a.dot(s)=\n",
      "[[19 22]\n",
      " [43 50]]\n"
     ]
    }
   ],
   "source": [
    "#二維陣列運算-點積\n",
    "a = np.array([[1,2],[3,4]])\n",
    "print(\"a=\")\n",
    "print(a)\n",
    "s = np.array([[5,6],[7,8]])\n",
    "print(\"s=\")\n",
    "print(s)\n",
    "b = a.dot(s)       \n",
    "print(\"a.dot(s)=\")\n",
    "print(b)    \n"
   ]
  },
  {
   "cell_type": "code",
   "execution_count": 19,
   "metadata": {},
   "outputs": [
    {
     "name": "stdout",
     "output_type": "stream",
     "text": [
      "a=\n",
      "[[11 12 13 14 15]\n",
      " [16 17 18 19 20]\n",
      " [21 22 23 24 25]\n",
      " [26 27 28 29 30]\n",
      " [31 32 33 34 35]]\n",
      "a[0,1:4]=\n",
      "[12 13 14]\n",
      "a[1:4,0]=\n",
      "[16 21 26]\n",
      "a[:2,1:3]=\n",
      "[[12 13]\n",
      " [17 18]]\n",
      "a[:,1]=\n",
      "[12 17 22 27 32]\n",
      "a[::2,::2]=\n",
      "[[11 13 15]\n",
      " [21 23 25]\n",
      " [31 33 35]]\n"
     ]
    }
   ],
   "source": [
    "#二維陣列切割\n",
    "a = np.arange(11,36)\n",
    "a = a.reshape(5,5)\n",
    "print(\"a=\")\n",
    "print(a)\n",
    "\n",
    "b = a[0, 1:4]     # 索引 [0,1~3]\n",
    "print(\"a[0,1:4]=\")\n",
    "print(b)\n",
    "b = a[1:4, 0]     # 索引 [1~3,0]\n",
    "print(\"a[1:4,0]=\")\n",
    "print(b)\n",
    "b = a[:2, 1:3]    # 索引 [0~1,1~2]\n",
    "print(\"a[:2,1:3]=\")\n",
    "print(b)\n",
    "b = a[:,1]        # 索引 [0~4,1]\n",
    "print(\"a[:,1]=\")\n",
    "print(b)\n",
    "b = a[::2, ::2]   # 索引 [0~2~4,0~2~4]\n",
    "print(\"a[::2,::2]=\")\n",
    "print(b)"
   ]
  },
  {
   "cell_type": "code",
   "execution_count": null,
   "metadata": {},
   "outputs": [],
   "source": [
    "#二維陣列切割\n",
    "a = np.array([[1,2,3],[4,5,6],[7,8,9],[10,11,12]])\n",
    "print(\"a=\")\n",
    "print(a)\n",
    "\n",
    "b = a[[0,1,2],[0,1,0]]   # 索引 [0,0][1,1][2,0]\n",
    "print(\"a[[0,1,2],[0,1,0]]=\")\n",
    "print(b)\n",
    "b = np.array([a[0,0],a[1,1],a[2,0]])  # 索引 [0,0][1,1][2,0]\n",
    "print(\"np.array([a[0,0],a[1,1],a[2,0]])\")\n",
    "print(b)\n",
    "\n",
    "idx = np.array([0, 2, 0, 1])\n",
    "print(\"idx=\" + str(idx))\n",
    "b = a[np.arange(4), idx]     # 索引 [0,0][1,2][2,0][3,1]\n",
    "print(\"a[np.arange(4),idx]=\")\n",
    "print(b)\n",
    "a[np.arange(4), idx] += 10\n",
    "print(\"a[np.arange(4), idx] += 10->\")\n",
    "print(a)"
   ]
  },
  {
   "cell_type": "code",
   "execution_count": 20,
   "metadata": {},
   "outputs": [
    {
     "name": "stdout",
     "output_type": "stream",
     "text": [
      "a=\n",
      "[[1 2]\n",
      " [3 4]\n",
      " [5 6]]\n",
      "mask=\n",
      "[[False False]\n",
      " [ True  True]\n",
      " [ True  True]]\n",
      "a[mask]=[3 4 5 6]\n",
      "a[a>2]=-1->\n",
      "[[ 1  2]\n",
      " [-1 -1]\n",
      " [-1 -1]]\n"
     ]
    }
   ],
   "source": [
    "#二維陣列切割 boolean\n",
    "a = np.array([[1,2],[3,4],[5,6]])\n",
    "print(\"a=\")\n",
    "print(a)\n",
    "\n",
    "mask = (a > 2)\n",
    "print(\"mask=\")\n",
    "print(mask)\n",
    "b = a[mask]           # 使用布林值陣列取出值\n",
    "print(\"a[mask]=\" + str(b))\n",
    "a[a > 2] = -1         # 同時更改多個True索引\n",
    "print(\"a[a>2]=-1->\")\n",
    "print(a)"
   ]
  },
  {
   "cell_type": "code",
   "execution_count": 21,
   "metadata": {},
   "outputs": [
    {
     "name": "stdout",
     "output_type": "stream",
     "text": [
      "a=\n",
      "[[ 1  2  3]\n",
      " [ 4  5  6]\n",
      " [ 7  8  9]\n",
      " [10 11 12]]\n",
      "a 形狀: (4, 3)\n",
      "b=[1 0 1]\n",
      "b 形狀: (3,)\n",
      "[[ 2  2  4]\n",
      " [ 5  5  7]\n",
      " [ 8  8 10]\n",
      " [11 11 13]]\n"
     ]
    }
   ],
   "source": [
    "#shape\n",
    "a = np.array([[1,2,3],[4,5,6],[7,8,9],[10,11,12]])\n",
    "print(\"a=\")\n",
    "print(a)\n",
    "print(\"a 形狀: \" + str(a.shape))\n",
    "b = np.array([1,0,1])\n",
    "print(\"b=\" + str(b))\n",
    "print(\"b 形狀: \" + str(b.shape))\n",
    "\n",
    "c = a + b\n",
    "print(c)"
   ]
  },
  {
   "cell_type": "code",
   "execution_count": 8,
   "metadata": {},
   "outputs": [
    {
     "name": "stdout",
     "output_type": "stream",
     "text": [
      "9\n",
      "0\n",
      "45\n",
      "4.5\n"
     ]
    }
   ],
   "source": [
    "#陣列函數\n",
    "a = np.arange(10)\n",
    "print(a.max())\n",
    "print(a.min())\n",
    "print(a.sum())\n",
    "print(a.mean())"
   ]
  },
  {
   "cell_type": "code",
   "execution_count": 14,
   "metadata": {},
   "outputs": [
    {
     "name": "stdout",
     "output_type": "stream",
     "text": [
      "a:\n",
      "[[0 1 2]\n",
      " [3 4 5]]\n",
      "----- axis =0  ----- \n",
      "a.max :  [3 4 5]\n",
      "a.min : [0 1 2]\n",
      "a.sum : [3 5 7]\n",
      "a.mean  [1.5 2.5 3.5]\n",
      "\n",
      "----- axis =1  ----- \n",
      "a.max :  [2 5]\n",
      "a.min : [0 3]\n",
      "a.sum : [ 3 12]\n",
      "a.mean  [1. 4.]\n"
     ]
    }
   ],
   "source": [
    "#陣列函數\n",
    "a = np.arange(6)\n",
    "a = a.reshape(2,3)\n",
    "print(\"a:\")\n",
    "print(a)\n",
    "print(\"----- axis =0  ----- \")\n",
    "print(\"a.max : \", a.max(axis =0))\n",
    "print(\"a.min :\", a.min(axis =0))\n",
    "print(\"a.sum :\",a.sum(axis =0))\n",
    "print(\"a.mean \", a.mean(axis =0))\n",
    "print()\n",
    "print(\"----- axis =1  ----- \")\n",
    "print(\"a.max : \", a.max(axis =1))\n",
    "print(\"a.min :\", a.min(axis =1))\n",
    "print(\"a.sum :\",a.sum(axis =1))\n",
    "print(\"a.mean \", a.mean(axis =1))"
   ]
  },
  {
   "cell_type": "code",
   "execution_count": 23,
   "metadata": {},
   "outputs": [
    {
     "name": "stdout",
     "output_type": "stream",
     "text": [
      "[0 1 2 3 4 5]\n",
      "(6,)\n",
      "b shape: (1, 6)\n",
      "[[0 1 2 3 4 5]]\n",
      "c shape: (6, 1)\n",
      "[[0]\n",
      " [1]\n",
      " [2]\n",
      " [3]\n",
      " [4]\n",
      " [5]]\n"
     ]
    }
   ],
   "source": [
    "# 增加維度 expand_dims\n",
    "a =np.arange(6)\n",
    "print(a)\n",
    "print(a.shape)\n",
    "b = np.expand_dims(a, axis =0)\n",
    "print(\"b shape:\",b. shape)\n",
    "print(b)\n",
    "c = np.expand_dims(a, axis =1)\n",
    "print(\"c shape:\",c.shape)\n",
    "print(c)\n"
   ]
  },
  {
   "cell_type": "code",
   "execution_count": null,
   "metadata": {},
   "outputs": [],
   "source": [
    "#陣列函數 newaxis\n",
    "a = np.array([1,2,3])\n",
    "print(\"a=\" + str(a))\n",
    "\n",
    "b = a[:, np.newaxis]\n",
    "print(\"b=a[:,np.newaxis]->\")\n",
    "print(b)\n",
    "print(b.shape)\n",
    "b = a[np.newaxis, :]\n",
    "print(\"b=a[np.newaxis,:]->\")\n",
    "print(b)\n",
    "print(b.shape)"
   ]
  },
  {
   "cell_type": "code",
   "execution_count": 24,
   "metadata": {},
   "outputs": [
    {
     "name": "stdout",
     "output_type": "stream",
     "text": [
      "d shape: (6,)\n",
      "[0 1 2 3 4 5]\n",
      "e shape: (6,)\n",
      "[0 1 2 3 4 5]\n"
     ]
    }
   ],
   "source": [
    "# 減少(壓縮)維度 將維度維 一 的 壓縮\n",
    "d = np.squeeze(b)\n",
    "print(\"d shape:\",d.shape)\n",
    "print(d)\n",
    "\n",
    "e = np.squeeze(c)\n",
    "print(\"e shape:\",e.shape)\n",
    "print(e)\n"
   ]
  },
  {
   "cell_type": "code",
   "execution_count": 24,
   "metadata": {},
   "outputs": [
    {
     "name": "stdout",
     "output_type": "stream",
     "text": [
      "a=\n",
      "[[1 2 3]\n",
      " [4 5 6]]\n",
      "a.ravel()=[1 2 3 4 5 6]\n",
      "np.ravel(a)=[1 2 3 4 5 6]\n"
     ]
    }
   ],
   "source": [
    "#陣列函數 ravel()\n",
    "a = np.array([[1,2,3],[4,5,6]])\n",
    "print(\"a=\")\n",
    "print(a)\n",
    "\n",
    "b = a.ravel()\n",
    "print(\"a.ravel()=\" + str(b))\n",
    "b = np.ravel(a)\n",
    "print(\"np.ravel(a)=\" + str(b))"
   ]
  },
  {
   "cell_type": "code",
   "execution_count": 5,
   "metadata": {},
   "outputs": [
    {
     "name": "stdout",
     "output_type": "stream",
     "text": [
      "a=[1 2 3 4 5 6]\n",
      "b=np.reshape(a,(3,2))->\n",
      "[[1 2]\n",
      " [3 4]\n",
      " [5 6]]\n",
      "c=b.T->\n",
      "[[1 3 5]\n",
      " [2 4 6]]\n",
      "c=b.transpose()->\n",
      "[[1 3 5]\n",
      " [2 4 6]]\n",
      "c=np.transpose(b)->\n",
      "[[1 3 5]\n",
      " [2 4 6]]\n"
     ]
    }
   ],
   "source": [
    "#陣列函數 transpose 倒置\n",
    "a = np.array([1,2,3,4,5,6])\n",
    "print(\"a=\" + str(a))\n",
    "\n",
    "b = np.reshape(a,(3,2))\n",
    "print(\"b=np.reshape(a,(3,2))->\")\n",
    "print(b)\n",
    "c = b.T\n",
    "print(\"c=b.T->\")\n",
    "print(c)\n",
    "c = b.transpose()\n",
    "print(\"c=b.transpose()->\")\n",
    "print(c)\n",
    "c = np.transpose(b)\n",
    "print(\"c=np.transpose(b)->\")\n",
    "print(c)"
   ]
  },
  {
   "cell_type": "code",
   "execution_count": 6,
   "metadata": {},
   "outputs": [
    {
     "name": "stdout",
     "output_type": "stream",
     "text": [
      "a=[1 2 3]\n",
      "b=a[:,np.newaxis]->\n",
      "[[1]\n",
      " [2]\n",
      " [3]]\n",
      "(3, 1)\n",
      "b=a[np.newaxis,:]->\n",
      "[[1 2 3]]\n",
      "(1, 3)\n"
     ]
    }
   ],
   "source": [
    "#陣列函數 newaxis\n",
    "a = np.array([1,2,3])\n",
    "print(\"a=\" + str(a))\n",
    "\n",
    "b = a[:, np.newaxis]\n",
    "print(\"b=a[:,np.newaxis]->\")\n",
    "print(b)\n",
    "print(b.shape)\n",
    "b = a[np.newaxis, :]\n",
    "print(\"b=a[np.newaxis,:]->\")\n",
    "print(b)\n",
    "print(b.shape)"
   ]
  },
  {
   "cell_type": "code",
   "execution_count": 35,
   "metadata": {},
   "outputs": [
    {
     "name": "stdout",
     "output_type": "stream",
     "text": [
      "[ 2  4  6  8 10]\n",
      "[False False  True  True  True]\n",
      "[ 6  8 10]\n",
      "[2 4 0 0 0]\n",
      "4 1 4\n"
     ]
    }
   ],
   "source": [
    "# 陣列搜尋與判斷\n",
    "a = np.array[2,4,6,8,10]\n",
    "condition_b = a > 5   # 產生 boolean array\n",
    "print(a)\n",
    "print(condition_b) \n",
    "print(a[condition_b]) # 過濾 a 陣列\n",
    "a[condition_b] = 0\n",
    "print(a)\n"
   ]
  },
  {
   "cell_type": "code",
   "execution_count": 5,
   "metadata": {},
   "outputs": [
    {
     "name": "stdout",
     "output_type": "stream",
     "text": [
      "10 4 10\n",
      "two\n"
     ]
    }
   ],
   "source": [
    "# 陣列搜尋與判斷 argmax  argument 參數\n",
    "a =np.array([2,4,6,8,10])\n",
    "max = a.max()  #最大值\n",
    "index = a.argmax()  # 最大值索引\n",
    "print(max, index, a[index])\n"
   ]
  },
  {
   "cell_type": "code",
   "execution_count": 6,
   "metadata": {},
   "outputs": [
    {
     "name": "stdout",
     "output_type": "stream",
     "text": [
      "two\n"
     ]
    }
   ],
   "source": [
    "# 陣列搜尋與判斷 argmax\n",
    "c = [\"zero\", \"one\",\"two\", \"three\",\"four\" ] # 分成五種類別\n",
    "pred = np.array([0.1, 0.05, 0.7, 0.1, 0.05 ])  # 預測結果\n",
    "maxindex = pred.argmax()  # 找出預測結果索引\n",
    "print(c[maxindex]) # 印出預測種類"
   ]
  },
  {
   "cell_type": "code",
   "execution_count": 41,
   "metadata": {},
   "outputs": [
    {
     "name": "stdout",
     "output_type": "stream",
     "text": [
      "[5 4 1 2 3]\n",
      "[[6 5 4]\n",
      " [1 2 3]]\n",
      "[1 2 3 4 5]\n",
      "-------sort by axis = 0  --------------\n",
      "[[1 2 3]\n",
      " [6 5 4]]\n",
      "-------sort by axis = 1  --------------\n",
      "[[4 5 6]\n",
      " [1 2 3]]\n"
     ]
    }
   ],
   "source": [
    "# sort\n",
    "a = np.array([5,4,1,2,3])\n",
    "b = np.array([[6,5,4],[1,2,3]])\n",
    "print(a)\n",
    "print(b)\n",
    "print(np.sort(a))\n",
    "print(\"-------sort by axis = 0  --------------\")\n",
    "print(np.sort(b, axis =0))\n",
    "print(\"-------sort by axis = 1  --------------\")\n",
    "print(np.sort(b, axis =1))"
   ]
  },
  {
   "cell_type": "code",
   "execution_count": 30,
   "metadata": {},
   "outputs": [
    {
     "name": "stdout",
     "output_type": "stream",
     "text": [
      "[91 16 96 29 91 10 21 76 23 72]\n"
     ]
    },
    {
     "data": {
      "text/plain": [
       "array([0.95045165, 0.67286566, 0.04117333, 0.84157413, 0.8165543 ,\n",
       "       0.78251141, 0.73526734, 0.4773877 , 0.86620232, 0.31552421])"
      ]
     },
     "execution_count": 30,
     "metadata": {},
     "output_type": "execute_result"
    }
   ],
   "source": [
    "# 亂數產生陣列\n",
    "np.random.seed(20)\n",
    "a = np.random.randint(low = 1, high = 100, size =10)\n",
    "print(a)\n",
    "\n",
    "a = np.random.rand(10)\n",
    "a\n"
   ]
  },
  {
   "cell_type": "code",
   "execution_count": 31,
   "metadata": {},
   "outputs": [
    {
     "name": "stdout",
     "output_type": "stream",
     "text": [
      "[-1.74976547]\n",
      "[-1.74976547]\n",
      "[1.3315865]\n"
     ]
    }
   ],
   "source": [
    "# 亂數產生陣列\n",
    "np.random.seed(100)\n",
    "a = np.random.randn(1)\n",
    "print(a)\n",
    "np.random.seed(100)\n",
    "a = np.random.randn(1)\n",
    "print(a)\n",
    "\n",
    "np.random.seed(10)\n",
    "a = np.random.randn(1)\n",
    "print(a)\n",
    "\n"
   ]
  },
  {
   "cell_type": "code",
   "execution_count": 51,
   "metadata": {},
   "outputs": [
    {
     "name": "stdout",
     "output_type": "stream",
     "text": [
      "[ 0.71527897 -1.54540029 -0.00838385 ...  1.25073922  1.1629442\n",
      " -2.18695198]\n",
      "0.00475020215321972\n"
     ]
    }
   ],
   "source": [
    "# 亂數產生陣列\n",
    "b = np.random.randn(10000)\n",
    "print(b)\n",
    "print(b.mean())  # 平均逼近 0"
   ]
  },
  {
   "cell_type": "code",
   "execution_count": 8,
   "metadata": {},
   "outputs": [
    {
     "name": "stdout",
     "output_type": "stream",
     "text": [
      "a=[1 2 3]\n",
      "b=a.copy()->[1 2 3]\n",
      "b.fill(0)=[0 0 0]\n",
      "c=np.concatenate((a,b))->[1 2 3 0 0 0]\n"
     ]
    }
   ],
   "source": [
    "#陣列函數 copy\n",
    "a = np.array([1,2,3])\n",
    "print(\"a=\" + str(a))\n",
    "b = a\n",
    "\n",
    "b = a.copy()\n",
    "print(\"b=a.copy()->\" + str(b))\n",
    "b.fill(0)\n",
    "print(\"b.fill(0)=\" + str(b))\n",
    "c = np.concatenate((a,b))\n",
    "print(\"c=np.concatenate((a,b))->\" + str(c))"
   ]
  },
  {
   "cell_type": "code",
   "execution_count": 9,
   "metadata": {},
   "outputs": [
    {
     "name": "stdout",
     "output_type": "stream",
     "text": [
      "c=np.concatenate((a,b))->\n",
      "[[1 2]\n",
      " [3 4]\n",
      " [5 6]\n",
      " [7 8]]\n",
      "c=np.concatenate((a,b), axis=0)->\n",
      "[[1 2]\n",
      " [3 4]\n",
      " [5 6]\n",
      " [7 8]]\n",
      "c=np.concatenate((a,b), axis=1)->\n",
      "[[1 2 5 6]\n",
      " [3 4 7 8]]\n"
     ]
    }
   ],
   "source": [
    "#陣列函數concatenate\n",
    "a = np.array([[1,2],[3,4]])\n",
    "b = np.array([[5,6],[7,8]])\n",
    "\n",
    "c = np.concatenate((a,b))\n",
    "print(\"c=np.concatenate((a,b))->\")\n",
    "print(c)\n",
    "c = np.concatenate((a,b), axis=0)\n",
    "print(\"c=np.concatenate((a,b), axis=0)->\")\n",
    "print(c)\n",
    "c = np.concatenate((a,b), axis=1)\n",
    "print(\"c=np.concatenate((a,b), axis=1)->\")\n",
    "print(c)"
   ]
  },
  {
   "cell_type": "code",
   "execution_count": 32,
   "metadata": {},
   "outputs": [
    {
     "name": "stdout",
     "output_type": "stream",
     "text": [
      "0.3367724725390667 0.5269343749958971\n",
      "6 46\n"
     ]
    }
   ],
   "source": [
    "#陣列 random\n",
    "np.random.seed(293423)\n",
    "\n",
    "v1 = np.random.random()\n",
    "v2 = np.random.random()\n",
    "print(v1, v2)\n",
    "v3 = np.random.randint(5, 10)\n",
    "v4 = np.random.randint(1, 101)\n",
    "print(v3, v4)\n"
   ]
  },
  {
   "cell_type": "code",
   "execution_count": 33,
   "metadata": {},
   "outputs": [
    {
     "name": "stdout",
     "output_type": "stream",
     "text": [
      "np.random.rand(5)=\n",
      "[0.26955445 0.77197706 0.14482839 0.15020444 0.31065722]\n",
      "np.random.rand(3,2)=\n",
      "[[0.10757354 0.44859732]\n",
      " [0.39866043 0.82548397]\n",
      " [0.48373439 0.52953872]]\n",
      "np.random.randint(5,10,size=5)\n",
      "[5 7 7 7 5]\n",
      "np.random.randint(5,10,size=(2,3))\n",
      "[[6 6 8]\n",
      " [6 6 5]]\n"
     ]
    }
   ],
   "source": [
    "#陣列 random()\n",
    "a = np.random.rand(5)\n",
    "print(\"np.random.rand(5)=\")\n",
    "print(a)\n",
    "b = np.random.rand(3, 2)  \n",
    "print(\"np.random.rand(3,2)=\")\n",
    "print(b)\n",
    "c = np.random.randint(5, 10, size=5)\n",
    "print(\"np.random.randint(5,10,size=5)\")\n",
    "print(c)\n",
    "d = np.random.randint(5, 10, size=(2,3))\n",
    "print(\"np.random.randint(5,10,size=(2,3))\")\n",
    "print(d)"
   ]
  },
  {
   "cell_type": "code",
   "execution_count": null,
   "metadata": {},
   "outputs": [],
   "source": [
    "#陣列 三角函數\n",
    "a = np.array([30,45,60]) \n",
    "\n",
    "print(np.sin(a*np.pi/180)) \n",
    "print(np.cos(a*np.pi/180)) \n",
    "print(np.tan(a*np.pi/180)) "
   ]
  },
  {
   "cell_type": "code",
   "execution_count": 10,
   "metadata": {},
   "outputs": [
    {
     "name": "stdout",
     "output_type": "stream",
     "text": [
      "a=[  1.      5.55  123.      0.567  25.532]\n",
      "[  1.   6. 123.   1.  26.]\n",
      "[  1.    5.6 123.    0.6  25.5]\n",
      "[  0.  10. 120.   0.  30.]\n",
      "\n",
      "a=[-1.7  1.5 -0.2  0.6 10. ]\n",
      "floor()=[-2.  1. -1.  0. 10.]\n",
      "ceil()=[-1.  2. -0.  1. 10.]\n"
     ]
    }
   ],
   "source": [
    "# np.around 四捨五入\n",
    "# np.floor 返回不大於輸入參數的最大整數。 即對於輸入值 x ，將返回最大的整數 i ，使得 i <= x。 \n",
    "# 注意在Python中，向下取整總是從 0 舍入。\n",
    "#np.ceil 函數返回輸入值的上限，即對於輸入 x ，返回最小的整數 i ，使得 i> = x。\n",
    "a = np.array([1.0,5.55, 123, 0.567, 25.532]) \n",
    "print(\"a=\" + str(a))\n",
    "\n",
    "print(np.around(a))\n",
    "print(np.around(a, decimals = 1))\n",
    "print(np.around(a, decimals = -1))\n",
    "print()\n",
    "\n",
    "a = np.array([-1.7, 1.5, -0.2, 0.6, 10]) \n",
    "print(\"a=\" + str(a))\n",
    "\n",
    "b = np.floor(a)\n",
    "print(\"floor()=\" + str(b))\n",
    "b = np.ceil(a)\n",
    "print(\"ceil()=\" + str(b))"
   ]
  },
  {
   "cell_type": "code",
   "execution_count": null,
   "metadata": {},
   "outputs": [],
   "source": []
  },
  {
   "cell_type": "code",
   "execution_count": null,
   "metadata": {},
   "outputs": [],
   "source": []
  }
 ],
 "metadata": {
  "interpreter": {
   "hash": "aee8b7b246df8f9039afb4144a1f6fd8d2ca17a180786b69acc140d282b71a49"
  },
  "kernelspec": {
   "display_name": "Python 3.9.7 64-bit",
   "name": "python3"
  },
  "language_info": {
   "codemirror_mode": {
    "name": "ipython",
    "version": 3
   },
   "file_extension": ".py",
   "mimetype": "text/x-python",
   "name": "python",
   "nbconvert_exporter": "python",
   "pygments_lexer": "ipython3",
   "version": "3.9.7"
  }
 },
 "nbformat": 4,
 "nbformat_minor": 2
}
