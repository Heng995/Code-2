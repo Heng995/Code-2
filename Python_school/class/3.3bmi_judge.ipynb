{
 "cells": [
  {
   "cell_type": "markdown",
   "source": [
    "# BMI 指數判斷"
   ],
   "metadata": {}
  },
  {
   "cell_type": "markdown",
   "source": [
    "## 輸入身高和體重"
   ],
   "metadata": {}
  },
  {
   "cell_type": "code",
   "execution_count": 1,
   "source": [
    "h = float(input('Please enter your height(cm): '))\r\n",
    "w = float(input('Please enter your weight(kg): '))"
   ],
   "outputs": [],
   "metadata": {}
  },
  {
   "cell_type": "markdown",
   "source": [
    "## BMI 公式"
   ],
   "metadata": {}
  },
  {
   "cell_type": "code",
   "execution_count": 2,
   "source": [
    "bmi = w / ((h / 100)**2)"
   ],
   "outputs": [],
   "metadata": {}
  },
  {
   "cell_type": "markdown",
   "source": [
    "## BMI if的判斷"
   ],
   "metadata": {}
  },
  {
   "cell_type": "code",
   "execution_count": 3,
   "source": [
    "if bmi <= 18.5:\r\n",
    "    print('You BMI is', (round(bmi,1)), 'you are too light!')\r\n",
    "elif bmi > 18.5 and bmi <= 24:\r\n",
    "    print('You BMI is', (round(bmi,1)), 'you have a normal weight!')\r\n",
    "elif bmi > 24 and bmi <=27:\r\n",
    "    print('You BMI is', (round(bmi,1)), 'you are overweight!')\r\n",
    "elif bmi > 27 and bmi <= 30:\r\n",
    "    print('You BMI is', (round(bmi,1)), 'you are slightly fat!')\r\n",
    "elif bmi > 30 and bmi <= 35:\r\n",
    "    print('You BMI is', (round(bmi,1)), 'you are fat!')\r\n",
    "else:\r\n",
    "    print('You BMI is', (round(bmi,1)), 'you are extremely fat!')"
   ],
   "outputs": [
    {
     "output_type": "stream",
     "name": "stdout",
     "text": [
      "You BMI is 20.5 you have a normal weight!\n"
     ]
    }
   ],
   "metadata": {}
  }
 ],
 "metadata": {
  "orig_nbformat": 4,
  "language_info": {
   "name": "python",
   "version": "3.9.7",
   "mimetype": "text/x-python",
   "codemirror_mode": {
    "name": "ipython",
    "version": 3
   },
   "pygments_lexer": "ipython3",
   "nbconvert_exporter": "python",
   "file_extension": ".py"
  },
  "kernelspec": {
   "name": "python3",
   "display_name": "Python 3.9.7 64-bit"
  },
  "interpreter": {
   "hash": "aee8b7b246df8f9039afb4144a1f6fd8d2ca17a180786b69acc140d282b71a49"
  }
 },
 "nbformat": 4,
 "nbformat_minor": 2
}