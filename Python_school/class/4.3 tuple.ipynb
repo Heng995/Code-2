{
 "cells": [
  {
   "cell_type": "markdown",
   "metadata": {},
   "source": [
    "# 程式設計作業 4.3 tuple 操作\n"
   ]
  },
  {
   "cell_type": "markdown",
   "metadata": {},
   "source": [
    "## 一、建立Tuples的方法"
   ]
  },
  {
   "cell_type": "markdown",
   "metadata": {},
   "source": [
    "### 1. 於 ( ) 符號中輸入資料，並且以逗號區隔。\n"
   ]
  },
  {
   "cell_type": "code",
   "execution_count": 12,
   "metadata": {},
   "outputs": [
    {
     "name": "stdout",
     "output_type": "stream",
     "text": [
      "(26, 30, 40, 50)\n",
      "('HelloPython', 'Tuples')\n"
     ]
    }
   ],
   "source": [
    "ages = (26, 30, 40, 50)\n",
    "print(ages)\n",
    "\n",
    "titles = (\"HelloPython\", \"Tuples\")\n",
    "print(titles)"
   ]
  },
  {
   "cell_type": "markdown",
   "metadata": {},
   "source": [
    "### 2. 不加 ( ) 符號，直接指派資料，並且以逗號區隔，Python會預設為Tuples(元組)資料型態，不過要注意的是如果只有一個資料，一定要再加一個逗號。"
   ]
  },
  {
   "cell_type": "code",
   "execution_count": 13,
   "metadata": {},
   "outputs": [
    {
     "name": "stdout",
     "output_type": "stream",
     "text": [
      "(26, 30, 40, 50)\n",
      "ages data type:  <class 'tuple'>\n",
      "(10,)\n",
      "values data type <class 'tuple'>\n"
     ]
    }
   ],
   "source": [
    "ages = 26,30, 40, 50\n",
    "print(ages)\n",
    "print(\"ages data type: \", type(ages))\n",
    "\n",
    "values = 10,\n",
    "print(values)\n",
    "print(\"values data type\", type(values))"
   ]
  },
  {
   "cell_type": "markdown",
   "metadata": {},
   "source": [
    "### 3. 使用tuple( )方法，傳入Iterable(可疊代的)物件來建立Tuples(元組)。"
   ]
  },
  {
   "cell_type": "code",
   "execution_count": 14,
   "metadata": {},
   "outputs": [
    {
     "name": "stdout",
     "output_type": "stream",
     "text": [
      "(26, 30)\n",
      "('M', 'i', 'k', 'e')\n",
      "(0, 1, 2, 3, 4, 5, 6, 7, 8, 9)\n"
     ]
    }
   ],
   "source": [
    "ages = tuple ([26, 30])\n",
    "print(ages)\n",
    "\n",
    "names = tuple(\"Mike\")\n",
    "print(names)\n",
    "\n",
    "numbers = tuple(range(10))\n",
    "print(numbers)"
   ]
  },
  {
   "cell_type": "markdown",
   "metadata": {},
   "source": [
    "### 4. 使用 * 符號來建立Tuples(元組)。\n"
   ]
  },
  {
   "cell_type": "code",
   "execution_count": 15,
   "metadata": {},
   "outputs": [
    {
     "name": "stdout",
     "output_type": "stream",
     "text": [
      "(26, 30, 26, 30, 26, 30)\n"
     ]
    }
   ],
   "source": [
    "ages = (26, 30) * 3\n",
    "print(ages) "
   ]
  },
  {
   "cell_type": "markdown",
   "metadata": {},
   "source": [
    "## 二、存取Tuples元素的方法\n",
    "\n"
   ]
  },
  {
   "cell_type": "markdown",
   "metadata": {},
   "source": [
    "### 1. Tuples(元組)存取元素的方式和List(串列)、String(字串)一樣，使用 [ ] 符號並傳入索引值(從0開始計算)來進行存取，如下範例："
   ]
  },
  {
   "cell_type": "code",
   "execution_count": 16,
   "metadata": {},
   "outputs": [
    {
     "name": "stdout",
     "output_type": "stream",
     "text": [
      "30\n"
     ]
    }
   ],
   "source": [
    "ages = (25,30, 40, 50)\n",
    "print(ages[1])"
   ]
  },
  {
   "cell_type": "markdown",
   "metadata": {},
   "source": [
    "### 2. 如果想取得特定範圍的Tuples(元組)元素，使用 [ : ] 符號並傳入索引值。"
   ]
  },
  {
   "cell_type": "code",
   "execution_count": 17,
   "metadata": {},
   "outputs": [
    {
     "name": "stdout",
     "output_type": "stream",
     "text": [
      "(30, 40)\n",
      "(30, 40, 50)\n",
      "(25, 30, 40)\n",
      "(25, 30, 40, 50)\n"
     ]
    }
   ],
   "source": [
    "# index 0 1 2 3 \n",
    "ages = (25, 30, 40, 50)\n",
    "\n",
    "#in [1:3]代表1~2不包含3，存取第二個到第三個元素\n",
    "print(ages[1: 3])\n",
    "\n",
    "#存取第二個元素到第三個元素\n",
    "print(ages[1:]) \n",
    "\n",
    "#存取第一個元素到第三個元素\n",
    "print(ages[:3]) #[:3]代表0~2不包含\n",
    "\n",
    "# 複製Tuple(元組)\n",
    "print(ages[:])"
   ]
  },
  {
   "cell_type": "markdown",
   "metadata": {},
   "source": [
    "### 3. Tuples(元組)和List(串列)、String(字串)一樣可以透過Python迴圈來讀取每一個元素，因為Tuples(元組)也是Iterable(可疊代的)，如下範例：\n"
   ]
  },
  {
   "cell_type": "code",
   "execution_count": 18,
   "metadata": {},
   "outputs": [
    {
     "name": "stdout",
     "output_type": "stream",
     "text": [
      "25\n",
      "30\n",
      "40\n",
      "50\n"
     ]
    }
   ],
   "source": [
    "ages = (25, 30, 40, 50)\n",
    "\n",
    "for age in ages:\n",
    "    print(age)"
   ]
  },
  {
   "cell_type": "markdown",
   "metadata": {},
   "source": [
    "## 三、尋找Tuples元素的方法\n"
   ]
  },
  {
   "cell_type": "markdown",
   "metadata": {},
   "source": [
    "### 1. 可以使用index( )方法，將要尋找的Tuples元素傳入，來取得該元素的索引值。"
   ]
  },
  {
   "cell_type": "code",
   "execution_count": 19,
   "metadata": {},
   "outputs": [
    {
     "name": "stdout",
     "output_type": "stream",
     "text": [
      "1\n"
     ]
    }
   ],
   "source": [
    "ages = (25, 30, 40, 50)\n",
    "print(ages.index(30))"
   ]
  }
 ],
 "metadata": {
  "interpreter": {
   "hash": "aee8b7b246df8f9039afb4144a1f6fd8d2ca17a180786b69acc140d282b71a49"
  },
  "kernelspec": {
   "display_name": "Python 3.9.7 64-bit",
   "name": "python3"
  },
  "language_info": {
   "codemirror_mode": {
    "name": "ipython",
    "version": 3
   },
   "file_extension": ".py",
   "mimetype": "text/x-python",
   "name": "python",
   "nbconvert_exporter": "python",
   "pygments_lexer": "ipython3",
   "version": "3.9.7"
  },
  "orig_nbformat": 4
 },
 "nbformat": 4,
 "nbformat_minor": 2
}
