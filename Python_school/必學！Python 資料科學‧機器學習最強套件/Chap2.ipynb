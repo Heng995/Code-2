{
 "cells": [
  {
   "cell_type": "markdown",
   "metadata": {},
   "source": [
    "# Python 基礎\n",
    "# list、dict與迴圈"
   ]
  },
  {
   "cell_type": "markdown",
   "metadata": {},
   "source": [
    "# 2-1 list (串列)"
   ]
  },
  {
   "cell_type": "markdown",
   "metadata": {},
   "source": [
    "## 2-1-1 建立 list"
   ]
  },
  {
   "cell_type": "code",
   "execution_count": 10,
   "metadata": {},
   "outputs": [
    {
     "name": "stdout",
     "output_type": "stream",
     "text": [
      "['red', 'blue', 'yellow']\n",
      "<class 'list'>\n"
     ]
    }
   ],
   "source": [
    "colors = ['red', 'blue', 'yellow']\n",
    "\n",
    "print(colors)\n",
    "print(type(colors))"
   ]
  },
  {
   "cell_type": "markdown",
   "metadata": {},
   "source": [
    "## 2-1-2 在 list 放入不同的型別的值或子"
   ]
  },
  {
   "cell_type": "code",
   "execution_count": 11,
   "metadata": {},
   "outputs": [
    {
     "name": "stdout",
     "output_type": "stream",
     "text": [
      "['apple', 3, [4.5, 'car', True]]\n"
     ]
    }
   ],
   "source": [
    "data = ['apple', 3, [4.5, 'car', True]]\n",
    "print(data)"
   ]
  },
  {
   "cell_type": "markdown",
   "metadata": {},
   "source": [
    "## 2-1-3 以索引從 list 取出元素"
   ]
  },
  {
   "cell_type": "code",
   "execution_count": 12,
   "metadata": {},
   "outputs": [
    {
     "name": "stdout",
     "output_type": "stream",
     "text": [
      "apple\n",
      "3\n",
      "[4.5, 'car', True]\n",
      "4.5\n",
      "car\n",
      "True\n"
     ]
    }
   ],
   "source": [
    "data = ['apple', 3, [4.5, 'car', True]]\n",
    "\n",
    "print(data[0])\n",
    "print(data[1])\n",
    "print(data[2])\n",
    "print(data[2][0])\n",
    "print(data[2][1])\n",
    "print(data[2][2])\n"
   ]
  },
  {
   "cell_type": "code",
   "execution_count": 13,
   "metadata": {},
   "outputs": [
    {
     "name": "stdout",
     "output_type": "stream",
     "text": [
      "[4.5, 'car', True]\n",
      "3\n",
      "apple\n",
      "True\n"
     ]
    }
   ],
   "source": [
    "print(data[-1])\n",
    "print(data[-2])\n",
    "print(data[-3])\n",
    "print(data[-1][-1])"
   ]
  },
  {
   "cell_type": "markdown",
   "metadata": {},
   "source": [
    "## 2-1-4 用切片從 list 取出一群元素"
   ]
  },
  {
   "cell_type": "code",
   "execution_count": 14,
   "metadata": {},
   "outputs": [
    {
     "name": "stdout",
     "output_type": "stream",
     "text": [
      "['a', 'b', 'c', 'd', 'e', 'f', 'g']\n",
      "['a', 'b', 'c']\n",
      "['d', 'e', 'f', 'g']\n",
      "['c', 'd', 'e']\n",
      "['a', 'c', 'e', 'g']\n",
      "['b', 'd', 'f']\n"
     ]
    }
   ],
   "source": [
    "c = ['a', 'b', 'c', 'd', 'e', 'f', 'g']\n",
    "\n",
    "print(c[:])\n",
    "print(c[:3])\n",
    "print(c[3:])\n",
    "print(c[2:5])\n",
    "print(c[::2])\n",
    "print(c[1:6:2])\n",
    "\n"
   ]
  },
  {
   "cell_type": "markdown",
   "metadata": {},
   "source": [
    "## 2-1-5 在 list 新增元素"
   ]
  },
  {
   "cell_type": "code",
   "execution_count": 15,
   "metadata": {},
   "outputs": [
    {
     "name": "stdout",
     "output_type": "stream",
     "text": [
      "['蘋果', '香蕉', '橘子', '葡萄']\n",
      "['蘋果', '香蕉', '橘子', '葡萄', '鳳梨', '草莓']\n"
     ]
    }
   ],
   "source": [
    "fruits = ['蘋果', '香蕉', '橘子']\n",
    "\n",
    "fruits.append('葡萄')           #list.append 一次只能新增一個\n",
    "print(fruits)\n",
    "\n",
    "fruits += ['鳳梨', '草莓']      #list += new list 一次能新增多個值\n",
    "print(fruits)"
   ]
  },
  {
   "cell_type": "markdown",
   "metadata": {},
   "source": [
    "## 2-1-6 從 list 刪除元素"
   ]
  },
  {
   "cell_type": "code",
   "execution_count": 16,
   "metadata": {},
   "outputs": [
    {
     "name": "stdout",
     "output_type": "stream",
     "text": [
      "['香蕉', '橘子', '葡萄', '鳳梨', '草莓']\n",
      "['香蕉', '葡萄', '鳳梨', '草莓']\n",
      "[]\n"
     ]
    }
   ],
   "source": [
    "fruits = ['蘋果', '香蕉', '橘子', '葡萄', '鳳梨', '草莓']\n",
    "\n",
    "del fruits[0]               #刪除指定值\n",
    "print(fruits)              \n",
    "\n",
    "fruits.remove('橘子')       #刪除索引\n",
    "print(fruits)\n",
    "\n",
    "fruits.clear()             #刪除全部\n",
    "print(fruits)"
   ]
  },
  {
   "cell_type": "markdown",
   "metadata": {},
   "source": [
    "# 2-2 dict (字典)"
   ]
  },
  {
   "cell_type": "markdown",
   "metadata": {},
   "source": [
    "## 2-2-1 建立 dict "
   ]
  },
  {
   "cell_type": "code",
   "execution_count": 3,
   "metadata": {},
   "outputs": [
    {
     "name": "stdout",
     "output_type": "stream",
     "text": [
      "{'瑞士': '伯恩', '日本': '東京', '美國': '華盛頓特區'}\n"
     ]
    }
   ],
   "source": [
    "capitals = {'瑞士': '伯恩', '日本': '東京', '美國': '華盛頓特區'}\n",
    "print(capitals)"
   ]
  },
  {
   "cell_type": "code",
   "execution_count": 4,
   "metadata": {},
   "outputs": [
    {
     "name": "stdout",
     "output_type": "stream",
     "text": [
      "{'name': 'Python', 'version': 3.9, 'types': ['int', 'float', 'str', 'bool']}\n"
     ]
    }
   ],
   "source": [
    "language = {'name': 'Python',\n",
    "            'version': 3.9,\n",
    "            'types': ['int', 'float', 'str', 'bool']}\n",
    "print(language)"
   ]
  },
  {
   "cell_type": "markdown",
   "metadata": {},
   "source": [
    "## 2-2-2 以鍵從 dict 取出元素"
   ]
  },
  {
   "cell_type": "code",
   "execution_count": 5,
   "metadata": {},
   "outputs": [
    {
     "name": "stdout",
     "output_type": "stream",
     "text": [
      "華盛頓特區\n",
      "東京\n"
     ]
    }
   ],
   "source": [
    "capitals = {'瑞士': '伯恩', '日本': '東京', '美國': '華盛頓特區'}\n",
    "\n",
    "print(capitals['美國'])\n",
    "print(capitals['日本'])"
   ]
  },
  {
   "cell_type": "markdown",
   "metadata": {},
   "source": [
    "## 2-2-3 在 dict 加入新元數"
   ]
  },
  {
   "cell_type": "code",
   "execution_count": 9,
   "metadata": {},
   "outputs": [
    {
     "name": "stdout",
     "output_type": "stream",
     "text": [
      "{'瑞士': '伯恩', '日本': '東京', '美國': '華盛頓特區', '越南': '河內'}\n",
      "{'瑞士': '伯恩', '日本': '東京', '美國': '華盛頓特區', '越南': '河內', '英國': '倫敦', '法國': '巴黎'}\n"
     ]
    }
   ],
   "source": [
    "capitals = {'瑞士': '伯恩', '日本': '東京', '美國': '華盛頓特區'}\n",
    "\n",
    "capitals['越南'] = '河內'\n",
    "print(capitals)\n",
    "capitals.update({'英國': '倫敦', '法國': '巴黎'})\n",
    "print(capitals)"
   ]
  },
  {
   "cell_type": "markdown",
   "metadata": {},
   "source": [
    "## 2-2-4 從 dict 刪除元素"
   ]
  },
  {
   "cell_type": "code",
   "execution_count": 15,
   "metadata": {},
   "outputs": [
    {
     "name": "stdout",
     "output_type": "stream",
     "text": [
      "{'瑞士': '伯恩', '日本': '東京'}\n",
      "{'瑞士': '伯恩'}\n"
     ]
    }
   ],
   "source": [
    "capitals = {'瑞士': '伯恩', '日本': '東京', '美國': '華盛頓特區'}\n",
    "\n",
    "del capitals['美國']\n",
    "print(capitals)\n",
    "\n",
    "capitals.pop('日本')\n",
    "print(capitals)"
   ]
  },
  {
   "cell_type": "markdown",
   "metadata": {},
   "source": [
    "# 2-3 while 迴圈"
   ]
  },
  {
   "cell_type": "markdown",
   "metadata": {},
   "source": [
    "## 2-3-1 基本 while 迴圈"
   ]
  },
  {
   "cell_type": "code",
   "execution_count": 16,
   "metadata": {},
   "outputs": [
    {
     "name": "stdout",
     "output_type": "stream",
     "text": [
      "0\n",
      "1\n",
      "2\n",
      "3\n",
      "4\n"
     ]
    }
   ],
   "source": [
    "n = 0\n",
    "while n < 5:\n",
    "    print(n)\n",
    "    n += 1"
   ]
  },
  {
   "cell_type": "markdown",
   "metadata": {},
   "source": [
    "## 2-3-2 使用 break 來脫離 while 迴圈"
   ]
  },
  {
   "cell_type": "code",
   "execution_count": 20,
   "metadata": {},
   "outputs": [
    {
     "name": "stdout",
     "output_type": "stream",
     "text": [
      "0\n",
      "1\n",
      "2\n",
      "3\n",
      "4\n"
     ]
    }
   ],
   "source": [
    "n = 0\n",
    "while True:\n",
    "    print(n)\n",
    "    n += 1\n",
    "    if n >= 5:\n",
    "        break\n",
    "        "
   ]
  },
  {
   "cell_type": "markdown",
   "metadata": {},
   "source": [
    "## 2-3-3 用 continue 跳過後面的程式碼"
   ]
  },
  {
   "cell_type": "code",
   "execution_count": 1,
   "metadata": {},
   "outputs": [
    {
     "name": "stdout",
     "output_type": "stream",
     "text": [
      "2\n",
      "4\n",
      "5\n",
      "7\n",
      "8\n",
      "10\n"
     ]
    }
   ],
   "source": [
    "n = 1\n",
    "while n < 10:\n",
    "    n += 1\n",
    "    if n % 3 == 0:\n",
    "        continue\n",
    "    print(n)"
   ]
  },
  {
   "cell_type": "markdown",
   "metadata": {},
   "source": [
    "# 2-4 for 迴圈"
   ]
  },
  {
   "cell_type": "markdown",
   "metadata": {},
   "source": [
    "## 2-4-1 基本 for 迴圈"
   ]
  },
  {
   "cell_type": "code",
   "execution_count": 2,
   "metadata": {},
   "outputs": [
    {
     "name": "stdout",
     "output_type": "stream",
     "text": [
      "dog\n",
      "cat\n",
      "monkey\n",
      "bird\n",
      "elephant\n"
     ]
    }
   ],
   "source": [
    "animal_list = ['dog', 'cat', 'monkey', 'bird', 'elephant']\n",
    "\n",
    "for animal in animal_list:\n",
    "    print(animal)"
   ]
  },
  {
   "cell_type": "markdown",
   "metadata": {},
   "source": [
    "## 2-4-2 走訪二維 list"
   ]
  },
  {
   "cell_type": "code",
   "execution_count": 5,
   "metadata": {},
   "outputs": [
    {
     "name": "stdout",
     "output_type": "stream",
     "text": [
      "apple\n",
      "red\n",
      "banana\n",
      "yellow\n",
      "guava\n",
      "green\n"
     ]
    }
   ],
   "source": [
    "fruits = [\n",
    "    ['apple', 'red'],\n",
    "    ['banana', 'yellow'],\n",
    "    ['guava', 'green'],\n",
    "    ]\n",
    "\n",
    "for fruit in fruits:\n",
    "    for item in fruit:\n",
    "        print(item)"
   ]
  },
  {
   "cell_type": "markdown",
   "metadata": {},
   "source": [
    "## 2-5-1 在 for 迴圈搭配 rang() 作為索引"
   ]
  },
  {
   "cell_type": "code",
   "execution_count": 6,
   "metadata": {},
   "outputs": [
    {
     "name": "stdout",
     "output_type": "stream",
     "text": [
      "[0, 1, 2, 3, 4]\n"
     ]
    }
   ],
   "source": [
    "print(list(range(5)))"
   ]
  },
  {
   "cell_type": "code",
   "execution_count": 8,
   "metadata": {},
   "outputs": [
    {
     "name": "stdout",
     "output_type": "stream",
     "text": [
      "item 0 = dog\n",
      "item 1 = cat\n",
      "item 2 = monkey\n",
      "item 3 = bird\n",
      "item 4 = elephant\n"
     ]
    }
   ],
   "source": [
    "animal_list = ['dog', 'cat', 'monkey', 'bird', 'elephant']\n",
    "\n",
    "for index in range(5):\n",
    "    print('item', index, '=', animal_list[index])"
   ]
  },
  {
   "cell_type": "markdown",
   "metadata": {},
   "source": [
    "## 2-5-2 在 for 迴圈搭配 enumerate() 來同時走訪索引及元素"
   ]
  },
  {
   "cell_type": "code",
   "execution_count": 9,
   "metadata": {},
   "outputs": [
    {
     "name": "stdout",
     "output_type": "stream",
     "text": [
      "[(0, 'dog'), (1, 'cat'), (2, 'monkey'), (3, 'bird'), (4, 'elephant')]\n"
     ]
    }
   ],
   "source": [
    "print(list(enumerate(animal_list)))"
   ]
  },
  {
   "cell_type": "code",
   "execution_count": 4,
   "metadata": {},
   "outputs": [
    {
     "name": "stdout",
     "output_type": "stream",
     "text": [
      "[(0, 'dog'), (1, 'cat'), (2, 'monkey'), (3, 'bird'), (4, 'elephant')]\n",
      "item 0 = dog\n",
      "item 1 = cat\n",
      "item 2 = monkey\n",
      "item 3 = bird\n",
      "item 4 = elephant\n"
     ]
    }
   ],
   "source": [
    "animal_list = ['dog', 'cat', 'monkey', 'bird', 'elephant']\n",
    "\n",
    "for index, item in enumerate(animal_list):\n",
    "    print('item', index, '=',item)"
   ]
  },
  {
   "cell_type": "markdown",
   "metadata": {},
   "source": [
    "## 2-5-3 用 zip() 同時走訪多個 list"
   ]
  },
  {
   "cell_type": "code",
   "execution_count": 17,
   "metadata": {},
   "outputs": [
    {
     "name": "stdout",
     "output_type": "stream",
     "text": [
      "[('a', 'dog'), ('b', 'cat'), ('c', 'monkey'), ('d', 'bird'), ('e', 'elephant')]\n",
      "a is dog\n",
      "b is cat\n",
      "c is monkey\n",
      "d is bird\n",
      "e is elephant\n"
     ]
    }
   ],
   "source": [
    "index_list = ['a', 'b', 'c', 'd', 'e']\n",
    "animal_list = ['dog', 'cat', 'monkey', 'bird', 'elephant']\n",
    "\n",
    "print(list(zip(index_list, animal_list)))"
   ]
  },
  {
   "cell_type": "code",
   "execution_count": 6,
   "metadata": {},
   "outputs": [
    {
     "name": "stdout",
     "output_type": "stream",
     "text": [
      "apple is red\n",
      "peach is pink\n",
      "banana is yellow\n",
      "guava is green\n",
      "papaya is orange\n"
     ]
    }
   ],
   "source": [
    "fruits = ['apple', 'peach', 'banana', 'guava', 'papaya']\n",
    "colors = ['red', 'pink', 'yellow', 'green', 'orange']\n",
    "\n",
    "for name, color in zip(fruits, colors):\n",
    "    print(name, 'is', color)\n"
   ]
  },
  {
   "cell_type": "markdown",
   "metadata": {},
   "source": [
    "## 2-5-4 用 for 走訪 dict"
   ]
  },
  {
   "cell_type": "code",
   "execution_count": 14,
   "metadata": {},
   "outputs": [
    {
     "name": "stdout",
     "output_type": "stream",
     "text": [
      "[('apple', 'red'), ('peach', 'pink'), ('banana', 'yellow'), ('guava', 'green'), ('papaya', 'orange')]\n"
     ]
    }
   ],
   "source": [
    "fruits = {\n",
    "    'apple': 'red',\n",
    "    'peach': 'pink',\n",
    "    'banana': 'yellow',\n",
    "    'guava': 'green',\n",
    "    'papaya': 'orange'\n",
    "}\n",
    "\n",
    "print(list(fruits.items()))"
   ]
  },
  {
   "cell_type": "code",
   "execution_count": 15,
   "metadata": {},
   "outputs": [
    {
     "name": "stdout",
     "output_type": "stream",
     "text": [
      "apple is orange\n",
      "peach is orange\n",
      "banana is orange\n",
      "guava is orange\n",
      "papaya is orange\n"
     ]
    }
   ],
   "source": [
    "fruits = {\n",
    "    'apple': 'red',\n",
    "    'peach': 'pink',\n",
    "    'banana': 'yellow',\n",
    "    'guava': 'green',\n",
    "    'papaya': 'orange'\n",
    "}\n",
    "\n",
    "for name, colors in fruits.items():\n",
    "    print(name, 'is', color)"
   ]
  },
  {
   "cell_type": "code",
   "execution_count": null,
   "metadata": {},
   "outputs": [],
   "source": []
  }
 ],
 "metadata": {
  "interpreter": {
   "hash": "aee8b7b246df8f9039afb4144a1f6fd8d2ca17a180786b69acc140d282b71a49"
  },
  "kernelspec": {
   "display_name": "Python 3.9.7 64-bit",
   "name": "python3"
  },
  "language_info": {
   "codemirror_mode": {
    "name": "ipython",
    "version": 3
   },
   "file_extension": ".py",
   "mimetype": "text/x-python",
   "name": "python",
   "nbconvert_exporter": "python",
   "pygments_lexer": "ipython3",
   "version": "3.9.7"
  },
  "orig_nbformat": 4
 },
 "nbformat": 4,
 "nbformat_minor": 2
}
