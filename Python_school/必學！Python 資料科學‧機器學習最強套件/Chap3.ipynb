{
 "cells": [
  {
   "cell_type": "markdown",
   "metadata": {},
   "source": [
    "# 函式 、 類別與模組"
   ]
  },
  {
   "cell_type": "markdown",
   "metadata": {},
   "source": [
    "# 3-1 Python內建函式"
   ]
  },
  {
   "cell_type": "markdown",
   "metadata": {},
   "source": [
    "## 3-1-1 何謂函式"
   ]
  },
  {
   "cell_type": "markdown",
   "metadata": {},
   "source": [
    "函數名稱(參數1, 參數2, 餐數3...)\n",
    "\n",
    "容器.函式(參數1, 參數2, 參數3...)"
   ]
  },
  {
   "cell_type": "markdown",
   "metadata": {},
   "source": [
    "## 3-1-2 用 len() 取得容器長度"
   ]
  },
  {
   "cell_type": "code",
   "execution_count": 3,
   "metadata": {},
   "outputs": [
    {
     "name": "stdout",
     "output_type": "stream",
     "text": [
      "7\n",
      "12\n"
     ]
    }
   ],
   "source": [
    "characters = ['a', 'b', 'c', 'd', 'e', 'f', 'g']\n",
    "text = 'Hello World!'\n",
    "\n",
    "print(len(characters))\n",
    "print(len(text))"
   ]
  },
  {
   "cell_type": "markdown",
   "metadata": {},
   "source": [
    "## 3-1-3 list 排序 ： sorted() 與 list.sort()"
   ]
  },
  {
   "cell_type": "code",
   "execution_count": 4,
   "metadata": {},
   "outputs": [
    {
     "name": "stdout",
     "output_type": "stream",
     "text": [
      "[1, 2, 3, 4, 5, 6, 7]\n",
      "[5, 3, 2, 6, 7, 4, 1]\n",
      "[1, 2, 3, 4, 5, 6, 7]\n"
     ]
    }
   ],
   "source": [
    "numbers = [5, 3, 2, 6, 7, 4, 1]\n",
    "\n",
    "print(sorted(numbers))      #不會更改list\n",
    "print(numbers)\n",
    "\n",
    "numbers.sort()              #會更改list的值\n",
    "print(numbers)"
   ]
  },
  {
   "cell_type": "markdown",
   "metadata": {},
   "source": [
    "## 3-1-4 反轉容器 ： reversed() 和 list.reverse()"
   ]
  },
  {
   "cell_type": "code",
   "execution_count": 5,
   "metadata": {},
   "outputs": [
    {
     "name": "stdout",
     "output_type": "stream",
     "text": [
      "[7, 6, 5, 4, 3, 2, 1]\n",
      "[1, 2, 3, 4, 5, 6, 7]\n",
      "[7, 6, 5, 4, 3, 2, 1]\n"
     ]
    }
   ],
   "source": [
    "numbers = [1, 2, 3, 4, 5, 6, 7]\n",
    "\n",
    "print(list(reversed(numbers)))\n",
    "print(numbers)\n",
    "\n",
    "numbers.reverse()\n",
    "print(numbers)"
   ]
  },
  {
   "cell_type": "markdown",
   "metadata": {},
   "source": [
    "## 3-1-5 用 count() 統計值出現的數量"
   ]
  },
  {
   "cell_type": "code",
   "execution_count": 6,
   "metadata": {},
   "outputs": [
    {
     "name": "stdout",
     "output_type": "stream",
     "text": [
      "3\n",
      "3\n"
     ]
    }
   ],
   "source": [
    "numbers = [2, 3, 1, 5, 4, 5, 4, 1, 5, 1]\n",
    "print(numbers.count(5))\n",
    "\n",
    "text = 'banana'\n",
    "print(text.count('a'))"
   ]
  },
  {
   "cell_type": "markdown",
   "metadata": {},
   "source": [
    "## 3-1-6 用 index() 尋找值的索引"
   ]
  },
  {
   "cell_type": "code",
   "execution_count": 7,
   "metadata": {},
   "outputs": [
    {
     "name": "stdout",
     "output_type": "stream",
     "text": [
      "3\n",
      "2\n"
     ]
    }
   ],
   "source": [
    "numbers = [2, 3, 1, 5, 4, 5, 4, 1, 5, 1]\n",
    "print(numbers.index(5))\n",
    "\n",
    "text = 'banana'\n",
    "print(text.index('n'))"
   ]
  },
  {
   "cell_type": "markdown",
   "metadata": {},
   "source": [
    "## 3-1-7 字串轉大小寫 ： upper() 與 lower()"
   ]
  },
  {
   "cell_type": "code",
   "execution_count": 8,
   "metadata": {},
   "outputs": [
    {
     "name": "stdout",
     "output_type": "stream",
     "text": [
      "HELLO WORLD!\n",
      "hello world!\n"
     ]
    }
   ],
   "source": [
    "text = 'Hello World!'\n",
    "\n",
    "print(text.upper())\n",
    "print(text.lower())"
   ]
  },
  {
   "cell_type": "markdown",
   "metadata": {},
   "source": [
    "## 3-1-8 字串格式化 ： format()"
   ]
  },
  {
   "cell_type": "code",
   "execution_count": 9,
   "metadata": {},
   "outputs": [
    {
     "name": "stdout",
     "output_type": "stream",
     "text": [
      "apple 有 6 個\n",
      "banana 有 2 個\n",
      "guava 有 3 個\n"
     ]
    }
   ],
   "source": [
    "fruits = [\n",
    "    ['apple', 6],\n",
    "    ['banana', 2],\n",
    "    ['guava', 3],\n",
    "    ]\n",
    "\n",
    "for name, num in fruits:\n",
    "    print('{} 有 {} 個'.format(name, num))"
   ]
  },
  {
   "cell_type": "code",
   "execution_count": 10,
   "metadata": {},
   "outputs": [
    {
     "name": "stdout",
     "output_type": "stream",
     "text": [
      "apple 有 6 個\n",
      "banana 有 2 個\n",
      "guava 有 3 個\n"
     ]
    }
   ],
   "source": [
    "# f-string\n",
    "for name, num in fruits:\n",
    "    print(f'{name} 有 {num} 個')"
   ]
  },
  {
   "cell_type": "markdown",
   "metadata": {},
   "source": [
    "# 3-2 自訂函式"
   ]
  },
  {
   "cell_type": "markdown",
   "metadata": {},
   "source": [
    "## 3-2-1 定義函式"
   ]
  },
  {
   "cell_type": "code",
   "execution_count": 11,
   "metadata": {},
   "outputs": [
    {
     "name": "stdout",
     "output_type": "stream",
     "text": [
      "唱首歌吧！\n"
     ]
    }
   ],
   "source": [
    "def sing():                    #<-定義函式\n",
    "    print('唱首歌吧！')         #<-函式內程式\n",
    "\n",
    "sing()                        #<-呼叫函式"
   ]
  },
  {
   "cell_type": "markdown",
   "metadata": {},
   "source": [
    "## 3-2-2 給函式加入參數"
   ]
  },
  {
   "cell_type": "code",
   "execution_count": 12,
   "metadata": {},
   "outputs": [
    {
     "name": "stdout",
     "output_type": "stream",
     "text": [
      "Daisy, 唱首歌吧！\n"
     ]
    }
   ],
   "source": [
    "#ex 1\n",
    "def sing(name):\n",
    "    print('{}, 唱首歌吧！'.format(name))\n",
    "\n",
    "sing('Daisy')"
   ]
  },
  {
   "cell_type": "code",
   "execution_count": 13,
   "metadata": {},
   "outputs": [
    {
     "name": "stdout",
     "output_type": "stream",
     "text": [
      "Daisy, 請唱首歌吧！\n"
     ]
    }
   ],
   "source": [
    "#ex 2\n",
    "def sing(name, verb):\n",
    "    print('{}, 請{}'.format(name, verb))\n",
    "\n",
    "sing('Daisy', '唱首歌吧！')"
   ]
  },
  {
   "cell_type": "markdown",
   "metadata": {},
   "source": [
    "## 3-2-3 讓函式回傳值"
   ]
  },
  {
   "cell_type": "code",
   "execution_count": 14,
   "metadata": {},
   "outputs": [
    {
     "name": "stdout",
     "output_type": "stream",
     "text": [
      "商數 = 2, 餘數 = 6\n"
     ]
    }
   ],
   "source": [
    "def mod(a,b):\n",
    "    q = a // b\n",
    "    r = a % b\n",
    "    return q, r\n",
    "\n",
    "x, y = mod(20, 7)\n",
    "print('商數 = {}, 餘數 = {}'.format(x, y))"
   ]
  },
  {
   "cell_type": "code",
   "execution_count": 15,
   "metadata": {},
   "outputs": [
    {
     "name": "stdout",
     "output_type": "stream",
     "text": [
      "6\n"
     ]
    }
   ],
   "source": [
    "def mod(a,b):\n",
    "    return a%b\n",
    "\n",
    "print(mod(20, 7))"
   ]
  },
  {
   "cell_type": "markdown",
   "metadata": {},
   "source": [
    "## 3-2-4 給函式參數指定預設值"
   ]
  },
  {
   "cell_type": "code",
   "execution_count": 16,
   "metadata": {},
   "outputs": [
    {
     "name": "stdout",
     "output_type": "stream",
     "text": [
      "Daisy, 請唱首歌!\n",
      "Daisy, 請演說!\n",
      "Daisy, 請發呆!\n",
      "無名氏, 請尖叫!\n",
      "無名氏, 請發呆!\n"
     ]
    }
   ],
   "source": [
    "def sing(name='無名氏', verb='發呆'):           #參數與其預設值\n",
    "    print('{}, 請{}!'.format(name, verb))       \n",
    "    \n",
    "sing('Daisy', '唱首歌')                 \n",
    "sing(verb='演說', name='Daisy')        #有指定參數名稱，順序可自訂\n",
    "sing('Daisy')                         #省略的會套入預設值\n",
    "sing(verb='尖叫')\n",
    "sing()"
   ]
  },
  {
   "cell_type": "markdown",
   "metadata": {},
   "source": [
    "# 3-3 類別與物件"
   ]
  },
  {
   "cell_type": "markdown",
   "metadata": {},
   "source": [
    "## 3-3-1 類別與物件簡介"
   ]
  },
  {
   "cell_type": "markdown",
   "metadata": {},
   "source": [
    "## 3-3-2 用 import 匯入 Python 類別（套件）"
   ]
  },
  {
   "cell_type": "code",
   "execution_count": 4,
   "metadata": {},
   "outputs": [
    {
     "name": "stdout",
     "output_type": "stream",
     "text": [
      "Sat Feb 12 02:08:24 2022\n"
     ]
    }
   ],
   "source": [
    "import datetime                     #匯入 datetime 套件\n",
    "\n",
    "now =  datetime.datetime.now()      #用 datetime 模組內的 datetime 類別的 now() 函式建立\n",
    "\n",
    "print(now.ctime())                  #呼叫 now 物件的 ctime() method"
   ]
  },
  {
   "cell_type": "markdown",
   "metadata": {},
   "source": [
    "## 3-3-3 定義自訂類別"
   ]
  },
  {
   "cell_type": "code",
   "execution_count": 5,
   "metadata": {},
   "outputs": [],
   "source": [
    "class myproduct:\n",
    "    def __init__(self, n, p):\n",
    "        self.name = n\n",
    "        self.price = p"
   ]
  },
  {
   "cell_type": "code",
   "execution_count": 7,
   "metadata": {},
   "outputs": [
    {
     "name": "stdout",
     "output_type": "stream",
     "text": [
      "<__main__.myproduct object at 0x00000280B20063D0>\n",
      "書\n",
      "700\n"
     ]
    }
   ],
   "source": [
    "book = myproduct('書', 700)\n",
    "\n",
    "print(book)\n",
    "print(book.name)\n",
    "print(book.price)"
   ]
  },
  {
   "cell_type": "markdown",
   "metadata": {},
   "source": [
    "## 3-3-4 替物件加入 method"
   ]
  },
  {
   "cell_type": "code",
   "execution_count": 10,
   "metadata": {},
   "outputs": [
    {
     "name": "stdout",
     "output_type": "stream",
     "text": [
      "商品名稱: 書\n",
      "價格: 553.0元\n"
     ]
    }
   ],
   "source": [
    "class myproduct01:\n",
    "\n",
    "    def __init__(self, n, p):\n",
    "        self.name = n\n",
    "        self.price = p\n",
    "    \n",
    "    def symmary(self):\n",
    "        print('商品名稱: {}\\n價格: {}元'.format(self.name, self.price))\n",
    "        \n",
    "    def discount(self, rate):\n",
    "        self.price *= rate\n",
    "        \n",
    "book = myproduct01('書', 700)\n",
    "\n",
    "book.discount(0.79)\n",
    "book.symmary()"
   ]
  },
  {
   "cell_type": "code",
   "execution_count": 11,
   "metadata": {},
   "outputs": [
    {
     "name": "stdout",
     "output_type": "stream",
     "text": [
      "商品名稱: 汽車\n",
      "價格: 630000.0元\n"
     ]
    }
   ],
   "source": [
    "car = myproduct01('汽車', 700000)\n",
    "car.discount(0.9)\n",
    "car.symmary()"
   ]
  },
  {
   "cell_type": "markdown",
   "metadata": {},
   "source": [
    "# 3-4 能處理時間資料的 datetime 模組"
   ]
  },
  {
   "cell_type": "markdown",
   "metadata": {},
   "source": [
    "## 3-4-1 datetime 物件"
   ]
  },
  {
   "cell_type": "code",
   "execution_count": 21,
   "metadata": {},
   "outputs": [
    {
     "name": "stdout",
     "output_type": "stream",
     "text": [
      "2020-10-22 00:00:00\n",
      "2021-12-23 00:00:00\n",
      "1000-12-31 12:55:22\n"
     ]
    }
   ],
   "source": [
    "import datetime as dt\n",
    "\n",
    "x = dt.datetime(2020,10,22)\n",
    "print(x)\n",
    "\n",
    "x = dt.datetime(year=2022-1, month= 12, day= 22+1)\n",
    "print(x)\n",
    "\n",
    "y = dt.datetime(1000,12,31,12,55,22)\n",
    "print(y)"
   ]
  },
  {
   "cell_type": "markdown",
   "metadata": {},
   "source": [
    "## 3-4-2 timedelta 物件"
   ]
  },
  {
   "cell_type": "code",
   "execution_count": null,
   "metadata": {},
   "outputs": [],
   "source": []
  },
  {
   "cell_type": "markdown",
   "metadata": {},
   "source": [
    "## 3-4-3 用timedelta 來增減 datetime 或 timedelta 的時間"
   ]
  },
  {
   "cell_type": "markdown",
   "metadata": {},
   "source": [
    "## 3-4-4 將datetime 時間以格式化方式輸出"
   ]
  },
  {
   "cell_type": "markdown",
   "metadata": {},
   "source": [
    "## 3-4-5 用字串來建立 datetime 物件"
   ]
  },
  {
   "cell_type": "markdown",
   "metadata": {},
   "source": []
  }
 ],
 "metadata": {
  "interpreter": {
   "hash": "aee8b7b246df8f9039afb4144a1f6fd8d2ca17a180786b69acc140d282b71a49"
  },
  "kernelspec": {
   "display_name": "Python 3.9.7 64-bit",
   "name": "python3"
  },
  "language_info": {
   "codemirror_mode": {
    "name": "ipython",
    "version": 3
   },
   "file_extension": ".py",
   "mimetype": "text/x-python",
   "name": "python",
   "nbconvert_exporter": "python",
   "pygments_lexer": "ipython3",
   "version": "3.8.8"
  },
  "orig_nbformat": 4
 },
 "nbformat": 4,
 "nbformat_minor": 2
}
