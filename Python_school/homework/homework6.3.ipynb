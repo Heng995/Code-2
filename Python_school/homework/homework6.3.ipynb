{
 "cells": [
  {
   "cell_type": "markdown",
   "metadata": {},
   "source": [
    "班級：資工三乙      學號：B08170067     姓名：古宇恆"
   ]
  },
  {
   "cell_type": "markdown",
   "metadata": {},
   "source": [
    "# 程式設計作業 6.3 二維矩陣 相乘\n",
    "不用 現成函數，自行設計一個矩陣相乘函數(三層迴圈) 可以做  維度  mxn  與 維度  nxp 兩矩陣相乘，\n",
    "\n",
    "最後維度為  mxp  。 要有函數與主程式 兩部分，主程式 準備好資料 ，呼叫函數計算， 並將結果call by reference 回傳!\n",
    "\n",
    "例如   　３ｘ５　　與　　5x4 矩陣相乘 最後得到一個  3x4 矩陣。"
   ]
  },
  {
   "cell_type": "markdown",
   "metadata": {},
   "source": [
    "## 1. 輸入維度"
   ]
  },
  {
   "cell_type": "code",
   "execution_count": 23,
   "metadata": {},
   "outputs": [
    {
     "name": "stdout",
     "output_type": "stream",
     "text": [
      "m =  2 , n =  3 , p =  4\n"
     ]
    }
   ],
   "source": [
    "m = int(input(\"請輸入 m :\"))\n",
    "n = int(input(\"請輸入 n :\"))\n",
    "p = int(input(\"請輸入 p  :\"))\n",
    "print('m = ', m, ', n = ', n, ', p = ', p)"
   ]
  },
  {
   "cell_type": "markdown",
   "metadata": {},
   "source": [
    "## 2. 輸入陣列"
   ]
  },
  {
   "cell_type": "code",
   "execution_count": 26,
   "metadata": {},
   "outputs": [
    {
     "name": "stdout",
     "output_type": "stream",
     "text": [
      "Array A\n",
      "Array B\n"
     ]
    }
   ],
   "source": [
    "print(\"Array A\")\n",
    "A = []\n",
    "for i in range(m):\n",
    "    A.append(list(map(int, input(\"請輸入陣列: \").split(' '))))\n",
    "print(\"Array B\")\n",
    "B = []\n",
    "for i in range(n):\n",
    "    B.append(list(map(int, input(\"請輸入陣列: \").split(' '))))"
   ]
  },
  {
   "cell_type": "markdown",
   "metadata": {},
   "source": [
    "## 3. 主程式"
   ]
  },
  {
   "cell_type": "code",
   "execution_count": 27,
   "metadata": {},
   "outputs": [],
   "source": [
    "def run(A, B):\n",
    "    multiply = []\n",
    "    result = [list(row) for row in zip(*B)]\n",
    "    for Al in range(len(A)):\n",
    "        row = []\n",
    "        for Bl in range(len(result)):\n",
    "            num = 0\n",
    "            for Br in range(len(result[0])):\n",
    "                num += A[Al][Br] * result[Bl][Br]\n",
    "            row.append(num)\n",
    "        multiply.append(row)\n",
    "    return multiply"
   ]
  },
  {
   "cell_type": "markdown",
   "metadata": {},
   "source": [
    "## 4. 輸出"
   ]
  },
  {
   "cell_type": "code",
   "execution_count": 28,
   "metadata": {},
   "outputs": [
    {
     "name": "stdout",
     "output_type": "stream",
     "text": [
      "[[14, 20, 26], [20, 29, 38]]\n"
     ]
    }
   ],
   "source": [
    "print(run(A, B))"
   ]
  }
 ],
 "metadata": {
  "interpreter": {
   "hash": "e066906fe76e116fe298151430f54f14f8fa60f14e5cf26cd32bf8c49c87e31e"
  },
  "kernelspec": {
   "display_name": "Python 3.9.6 64-bit",
   "name": "python3"
  },
  "language_info": {
   "codemirror_mode": {
    "name": "ipython",
    "version": 3
   },
   "file_extension": ".py",
   "mimetype": "text/x-python",
   "name": "python",
   "nbconvert_exporter": "python",
   "pygments_lexer": "ipython3",
   "version": "3.9.6"
  },
  "orig_nbformat": 4
 },
 "nbformat": 4,
 "nbformat_minor": 2
}
