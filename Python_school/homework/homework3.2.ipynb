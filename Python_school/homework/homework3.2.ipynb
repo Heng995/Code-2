{
 "cells": [
  {
   "cell_type": "markdown",
   "source": [
    "班級:資工三乙       學號:B08170067      姓名:古宇恆"
   ],
   "metadata": {}
  },
  {
   "cell_type": "markdown",
   "source": [
    "# Nexted Loop 數字之合"
   ],
   "metadata": {}
  },
  {
   "cell_type": "markdown",
   "source": [
    "## 三個 List"
   ],
   "metadata": {}
  },
  {
   "cell_type": "code",
   "execution_count": 14,
   "source": [
    "a = [2, 4, 6, 8, 10,12]\r\n",
    "b = [1, 3, 5, 7, 9, 11]\r\n",
    "c = [1, 2, 3, 5, 8, 13]"
   ],
   "outputs": [],
   "metadata": {}
  },
  {
   "cell_type": "markdown",
   "source": [
    "## 第一題"
   ],
   "metadata": {}
  },
  {
   "cell_type": "code",
   "execution_count": 15,
   "source": [
    "num = int(input('請輸入一個數字:'))\r\n",
    "print('您輸入的是', num)\r\n",
    "print(a.index(num))"
   ],
   "outputs": [
    {
     "output_type": "stream",
     "name": "stdout",
     "text": [
      "您輸入的是 6\n",
      "2\n"
     ]
    }
   ],
   "metadata": {}
  },
  {
   "cell_type": "markdown",
   "source": [
    "## 第二題"
   ],
   "metadata": {}
  },
  {
   "cell_type": "code",
   "execution_count": 16,
   "source": [
    "num = int(input('輸入一個數字:'))\r\n",
    "print('您輸入的是', num)\r\n",
    "for i in a:\r\n",
    "    for j in b:\r\n",
    "        if num-i-j == 0:\r\n",
    "            print((a.index(i), b.index(num-i)))"
   ],
   "outputs": [
    {
     "output_type": "stream",
     "name": "stdout",
     "text": [
      "您輸入的是 9\n",
      "(0, 3)\n",
      "(1, 2)\n",
      "(2, 1)\n",
      "(3, 0)\n"
     ]
    }
   ],
   "metadata": {}
  },
  {
   "cell_type": "markdown",
   "source": [
    "## 第三題"
   ],
   "metadata": {}
  },
  {
   "cell_type": "code",
   "execution_count": 17,
   "source": [
    "num = int(input('請輸入一個數字:'))\r\n",
    "print('您輸入的是', num)\r\n",
    "for i in a:\r\n",
    "    for j in b:\r\n",
    "        for k in c:\r\n",
    "            if num-i-j-k == 0:\r\n",
    "                print((a.index(i), b.index(j), c.index(k)))"
   ],
   "outputs": [
    {
     "output_type": "stream",
     "name": "stdout",
     "text": [
      "您輸入的是 20\n",
      "(0, 2, 5)\n",
      "(1, 1, 5)\n",
      "(1, 5, 3)\n",
      "(2, 0, 5)\n",
      "(2, 4, 3)\n",
      "(2, 5, 2)\n",
      "(3, 3, 3)\n",
      "(3, 4, 2)\n",
      "(3, 5, 0)\n",
      "(4, 2, 3)\n",
      "(4, 3, 2)\n",
      "(4, 4, 0)\n",
      "(5, 1, 3)\n",
      "(5, 2, 2)\n",
      "(5, 3, 0)\n"
     ]
    }
   ],
   "metadata": {}
  },
  {
   "cell_type": "code",
   "execution_count": null,
   "source": [],
   "outputs": [],
   "metadata": {}
  }
 ],
 "metadata": {
  "orig_nbformat": 4,
  "language_info": {
   "name": "python",
   "version": "3.9.6",
   "mimetype": "text/x-python",
   "codemirror_mode": {
    "name": "ipython",
    "version": 3
   },
   "pygments_lexer": "ipython3",
   "nbconvert_exporter": "python",
   "file_extension": ".py"
  },
  "kernelspec": {
   "name": "python3",
   "display_name": "Python 3.9.6 64-bit"
  },
  "interpreter": {
   "hash": "e066906fe76e116fe298151430f54f14f8fa60f14e5cf26cd32bf8c49c87e31e"
  }
 },
 "nbformat": 4,
 "nbformat_minor": 2
}