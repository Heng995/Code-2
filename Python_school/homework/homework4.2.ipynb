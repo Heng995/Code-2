{
 "cells": [
  {
   "cell_type": "markdown",
   "metadata": {},
   "source": [
    "班級：資工三乙      學號：B08170067     姓名：古宇恆"
   ]
  },
  {
   "cell_type": "markdown",
   "metadata": {},
   "source": [
    "# 程式設計作業 4.2 dict 操作\n"
   ]
  },
  {
   "cell_type": "markdown",
   "metadata": {},
   "source": [
    "## 建立Dictionary的方法\n"
   ]
  },
  {
   "cell_type": "code",
   "execution_count": 24,
   "metadata": {},
   "outputs": [
    {
     "name": "stdout",
     "output_type": "stream",
     "text": [
      "{'Mike': 175, 'Peter': 168}\n",
      "{1: 'Audi', 2: 'BMW'}\n"
     ]
    }
   ],
   "source": [
    "# 身高\n",
    "heights = {\"Mike\": 175, \"Peter\": 168}\n",
    "\n",
    "# 車款\n",
    "cars = {1: \"Audi\", 2: \"BMW\"}\n",
    "\n",
    "print(heights)\n",
    "print(cars)"
   ]
  },
  {
   "cell_type": "markdown",
   "metadata": {},
   "source": [
    "## 存取Dictionary元素的方法"
   ]
  },
  {
   "cell_type": "code",
   "execution_count": 25,
   "metadata": {},
   "outputs": [
    {
     "name": "stdout",
     "output_type": "stream",
     "text": [
      "175\n"
     ]
    }
   ],
   "source": [
    "# 身高\n",
    "heights = {\"Mike\": 175, \"Peter\": 168}\n",
    "print(heights[\"Mike\"])"
   ]
  },
  {
   "cell_type": "code",
   "execution_count": 26,
   "metadata": {},
   "outputs": [
    {
     "name": "stdout",
     "output_type": "stream",
     "text": [
      "('Mike', 175)\n",
      "('Peter', 168)\n"
     ]
    }
   ],
   "source": [
    "heights = {\"Mike\": 175, \"Peter\": 168}\n",
    "\n",
    "for height in heights.items():\n",
    "    print(height)"
   ]
  },
  {
   "cell_type": "markdown",
   "metadata": {},
   "source": [
    "## 新增Dictionary元素的方法\n"
   ]
  },
  {
   "cell_type": "code",
   "execution_count": 27,
   "metadata": {},
   "outputs": [
    {
     "name": "stdout",
     "output_type": "stream",
     "text": [
      "{'Mike': 175, 'Peter': 168, 'John': 179}\n"
     ]
    }
   ],
   "source": [
    "# 身高\n",
    "heights = {\"Mike\":175, \"Peter\":168}\n",
    "\n",
    "heights[\"John\"] = 179\n",
    "\n",
    "print(heights)"
   ]
  },
  {
   "cell_type": "markdown",
   "metadata": {},
   "source": [
    "## 修改Dictionary元素的方法\n"
   ]
  },
  {
   "cell_type": "code",
   "execution_count": 28,
   "metadata": {},
   "outputs": [
    {
     "name": "stdout",
     "output_type": "stream",
     "text": [
      "{'Mike': 175, 'Peter': 161}\n"
     ]
    }
   ],
   "source": [
    "# 身高\n",
    "heights = {\"Mike\": 175, \"Peter\": 168}\n",
    "\n",
    "heights[\"Peter\"] = 161\n",
    "\n",
    "print(heights)"
   ]
  },
  {
   "cell_type": "markdown",
   "metadata": {},
   "source": [
    "## 刪除Dictionary元素的方法\n"
   ]
  },
  {
   "cell_type": "markdown",
   "metadata": {},
   "source": [
    "單一"
   ]
  },
  {
   "cell_type": "code",
   "execution_count": 29,
   "metadata": {},
   "outputs": [
    {
     "name": "stdout",
     "output_type": "stream",
     "text": [
      "{'Mike': 175}\n"
     ]
    }
   ],
   "source": [
    "# 身高\n",
    "heights = {\"Mike\":175, \"Peter\": 168}\n",
    "\n",
    "del heights[\"Peter\"]\n",
    "\n",
    "print(heights)"
   ]
  },
  {
   "cell_type": "markdown",
   "metadata": {},
   "source": [
    "全部"
   ]
  },
  {
   "cell_type": "code",
   "execution_count": 30,
   "metadata": {},
   "outputs": [
    {
     "name": "stdout",
     "output_type": "stream",
     "text": [
      "{}\n"
     ]
    }
   ],
   "source": [
    "# 身高\n",
    "heights = {\"Mike\": 175, \"Peter\": 168}\n",
    "\n",
    "heights.clear()\n",
    "\n",
    "print(heights)"
   ]
  },
  {
   "cell_type": "markdown",
   "metadata": {},
   "source": [
    "## 尋找Dictionary元素的方法\n"
   ]
  },
  {
   "cell_type": "code",
   "execution_count": 31,
   "metadata": {},
   "outputs": [
    {
     "name": "stdout",
     "output_type": "stream",
     "text": [
      "168\n",
      "None\n"
     ]
    }
   ],
   "source": [
    "heights = {\"Mike\": 175, \"Peter\": 168}\n",
    "\n",
    "print(heights.get(\"Peter\"))\n",
    "\n",
    "print(heights.get(\"Harry\"))"
   ]
  }
 ],
 "metadata": {
  "interpreter": {
   "hash": "aee8b7b246df8f9039afb4144a1f6fd8d2ca17a180786b69acc140d282b71a49"
  },
  "kernelspec": {
   "display_name": "Python 3.9.7 64-bit",
   "name": "python3"
  },
  "language_info": {
   "codemirror_mode": {
    "name": "ipython",
    "version": 3
   },
   "file_extension": ".py",
   "mimetype": "text/x-python",
   "name": "python",
   "nbconvert_exporter": "python",
   "pygments_lexer": "ipython3",
   "version": "3.9.7"
  },
  "orig_nbformat": 4
 },
 "nbformat": 4,
 "nbformat_minor": 2
}
