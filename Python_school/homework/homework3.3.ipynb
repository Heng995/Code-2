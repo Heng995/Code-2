{
 "cells": [
  {
   "cell_type": "markdown",
   "metadata": {},
   "source": [
    "班級：資工三乙      學號：B08170067     姓名：古宇恆"
   ]
  },
  {
   "cell_type": "markdown",
   "metadata": {},
   "source": [
    "# BMI 指數判斷"
   ]
  },
  {
   "cell_type": "code",
   "execution_count": 1,
   "metadata": {},
   "outputs": [],
   "source": [
    "h = float(input('請輸入您的身高(公分): '))\n",
    "w = float(input('請輸入您的體重(公斤): '))"
   ]
  },
  {
   "cell_type": "code",
   "execution_count": 2,
   "metadata": {},
   "outputs": [],
   "source": [
    "bmi = w / ((h / 100)**2)"
   ]
  },
  {
   "cell_type": "code",
   "execution_count": 3,
   "metadata": {},
   "outputs": [
    {
     "name": "stdout",
     "output_type": "stream",
     "text": [
      "你的 BMI 是 28.4 你是輕度肥胖!\n"
     ]
    }
   ],
   "source": [
    "if bmi <= 18.5:\n",
    "    print('你的 BMI 是', (round(bmi,1)), 'y你太輕了!')\n",
    "elif bmi > 18.5 and bmi <= 24:\n",
    "    print('你的 BMI 是', (round(bmi,1)), '你的體重正常!')\n",
    "elif bmi > 24 and bmi <=27:\n",
    "    print('Y你的 BMI 是', (round(bmi,1)), '你是體重過重!')\n",
    "elif bmi > 27 and bmi <= 30:\n",
    "    print('你的 BMI 是', (round(bmi,1)), '你是輕度肥胖!')\n",
    "elif bmi > 30 and bmi <= 35:\n",
    "    print('你的 BMI 是', (round(bmi,1)), '你是中度肥胖!')\n",
    "else:\n",
    "    print('你的 BMI 是', (round(bmi,1)), '你是重度肥胖!')"
   ]
  }
 ],
 "metadata": {
  "interpreter": {
   "hash": "e066906fe76e116fe298151430f54f14f8fa60f14e5cf26cd32bf8c49c87e31e"
  },
  "kernelspec": {
   "display_name": "Python 3.9.6 64-bit",
   "name": "python3"
  },
  "language_info": {
   "codemirror_mode": {
    "name": "ipython",
    "version": 3
   },
   "file_extension": ".py",
   "mimetype": "text/x-python",
   "name": "python",
   "nbconvert_exporter": "python",
   "pygments_lexer": "ipython3",
   "version": "3.9.6"
  },
  "orig_nbformat": 4
 },
 "nbformat": 4,
 "nbformat_minor": 2
}
