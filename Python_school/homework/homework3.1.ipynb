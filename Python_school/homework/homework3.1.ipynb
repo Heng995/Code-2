{
 "cells": [
  {
   "cell_type": "markdown",
   "metadata": {},
   "source": [
    "班級：資工三乙       學號：B08170067      姓名：古宇恆"
   ]
  },
  {
   "cell_type": "markdown",
   "metadata": {},
   "source": [
    "## 讀取文字資料"
   ]
  },
  {
   "cell_type": "code",
   "execution_count": 7,
   "metadata": {},
   "outputs": [],
   "source": [
    "file1 = '1.txt'\n",
    "file2 = '2.txt'\n",
    "file3 = '3.txt'"
   ]
  },
  {
   "cell_type": "code",
   "execution_count": 8,
   "metadata": {},
   "outputs": [],
   "source": [
    "with open(file1) as file:\n",
    "    sentences1 = file.readlines()\n",
    "with open(file2) as file:\n",
    "    sentences2 = file.readlines()\n",
    "with open(file3) as file:\n",
    "    sentences3 = file.readlines()"
   ]
  },
  {
   "cell_type": "markdown",
   "metadata": {},
   "source": [
    "## 文字處理"
   ]
  },
  {
   "cell_type": "code",
   "execution_count": 9,
   "metadata": {},
   "outputs": [],
   "source": [
    "sentences1 = [sentences.strip() for sentences in sentences1]\n",
    "sentences2 = [sentences.strip() for sentences in sentences2]\n",
    "sentences3 = [sentences.strip() for sentences in sentences3]"
   ]
  },
  {
   "cell_type": "markdown",
   "metadata": {},
   "source": [
    "## 產生文青句"
   ]
  },
  {
   "cell_type": "code",
   "execution_count": 11,
   "metadata": {},
   "outputs": [
    {
     "data": {
      "text/plain": [
       "'在普羅旺斯的天空下，傾聽青鳥的變奏，體驗一個人小確幸。'"
      ]
     },
     "execution_count": 11,
     "metadata": {},
     "output_type": "execute_result"
    }
   ],
   "source": [
    "import random\n",
    "random.choice(sentences1) + '，' + random.choice(sentences2) + '，' + random.choice(sentences3) + '。'"
   ]
  },
  {
   "cell_type": "code",
   "execution_count": null,
   "metadata": {},
   "outputs": [],
   "source": []
  }
 ],
 "metadata": {
  "interpreter": {
   "hash": "e066906fe76e116fe298151430f54f14f8fa60f14e5cf26cd32bf8c49c87e31e"
  },
  "kernelspec": {
   "display_name": "Python 3.9.6 64-bit",
   "name": "python3"
  },
  "language_info": {
   "codemirror_mode": {
    "name": "ipython",
    "version": 3
   },
   "file_extension": ".py",
   "mimetype": "text/x-python",
   "name": "python",
   "nbconvert_exporter": "python",
   "pygments_lexer": "ipython3",
   "version": "3.9.6"
  },
  "orig_nbformat": 4
 },
 "nbformat": 4,
 "nbformat_minor": 2
}
