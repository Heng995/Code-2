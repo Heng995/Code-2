{
 "cells": [
  {
   "cell_type": "markdown",
   "source": [
    "班級:資工三乙          學號:B08170067          姓名:古宇恆"
   ],
   "metadata": {}
  },
  {
   "cell_type": "code",
   "execution_count": 1,
   "source": [
    "import random\n",
    "random.randint(1, 10)"
   ],
   "outputs": [
    {
     "output_type": "execute_result",
     "data": {
      "text/plain": [
       "8"
      ]
     },
     "metadata": {},
     "execution_count": 1
    }
   ],
   "metadata": {}
  },
  {
   "cell_type": "code",
   "execution_count": 2,
   "source": [
    "import time"
   ],
   "outputs": [],
   "metadata": {}
  },
  {
   "cell_type": "code",
   "execution_count": 3,
   "source": [
    "while(True):\n",
    "    t = random.randint(1, 10)\n",
    "    input(str(t) + ' 秒時間測試，準備好就按 Enter 鍵開始')\n",
    "    \n",
    "    start = time.time()\n",
    "    input('開始計時! 按 Enter 鍵結束計時!')\n",
    "    end = time.time()\n",
    "    \n",
    "    seconds = end - start\n",
    "    print('你的秒數:', round(seconds, 2))\n",
    "    \n",
    "    error = abs(t - seconds)\n",
    "    print('誤差秒數:', round(error, 2))\n",
    "    \n",
    "    acc = round(1 - (error / t), 2)\n",
    "    print('準確度:', acc)\n",
    "    \n",
    "    try_again = input('要再試一次嗎?(yes/no)')\n",
    "    if(try_again == 'yes'):\n",
    "        continue\n",
    "    else:\n",
    "        break"
   ],
   "outputs": [
    {
     "output_type": "stream",
     "name": "stdout",
     "text": [
      "你的秒數: 4.69\n",
      "誤差秒數: 2.69\n",
      "準確度: -0.34\n"
     ]
    }
   ],
   "metadata": {}
  },
  {
   "cell_type": "code",
   "execution_count": null,
   "source": [],
   "outputs": [],
   "metadata": {}
  }
 ],
 "metadata": {
  "kernelspec": {
   "name": "python3",
   "display_name": "Python 3.9.7 64-bit"
  },
  "language_info": {
   "codemirror_mode": {
    "name": "ipython",
    "version": 3
   },
   "file_extension": ".py",
   "mimetype": "text/x-python",
   "name": "python",
   "nbconvert_exporter": "python",
   "pygments_lexer": "ipython3",
   "version": "3.9.7"
  },
  "interpreter": {
   "hash": "aee8b7b246df8f9039afb4144a1f6fd8d2ca17a180786b69acc140d282b71a49"
  }
 },
 "nbformat": 4,
 "nbformat_minor": 5
}