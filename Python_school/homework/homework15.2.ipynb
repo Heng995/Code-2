{
 "cells": [
  {
   "cell_type": "markdown",
   "metadata": {},
   "source": [
    "班級：資工三乙      學號：B08170067     姓名：古宇恆"
   ]
  },
  {
   "cell_type": "markdown",
   "metadata": {},
   "source": [
    "# 作業 15.2 網路爬蟲\n",
    "\n",
    "在博客來網站 輸入  \"python 入門\" 搜尋 python 書籍\n",
    "\n",
    "撰寫爬蟲程式碼將所以搜尋到的書爬回來，\n",
    "\n",
    "列出 編號、書名、單價\n",
    "\n",
    "1. python 入門   400\n",
    "\n",
    "2. 精通 python 500\n",
    "\n",
    "......."
   ]
  },
  {
   "cell_type": "code",
   "execution_count": 1,
   "metadata": {},
   "outputs": [],
   "source": [
    "import requests\n",
    "from bs4 import BeautifulSoup"
   ]
  },
  {
   "cell_type": "code",
   "execution_count": 2,
   "metadata": {},
   "outputs": [
    {
     "name": "stdout",
     "output_type": "stream",
     "text": [
      "1 【圖解】零基礎入門Excel╳Python高效工作術：輕鬆匯入大量資料、交叉分析、繪製圖表，連PDF轉檔都能自動化處理，讓效率倍增 395\n",
      "2 Python最強入門邁向頂尖高手之路：王者歸來(第二版)全彩版 853\n",
      "3 Python零基礎入門班(第三版)：一次打好程式設計、運算思維與邏輯訓練基本功(附160分鐘入門影音教學/範例程式) 308\n",
      "4 【最新ITS認證版】Python零基礎入門班(含ITS Python國際認證模擬試題) 332\n",
      "5 Python機器學習超進化：AI影像辨識跨界應用實戰(附100分鐘影像處理入門影音教學/範例程式) 356\n",
      "6 《演算法、深度學習、程式設計入門教室》精選套書(演算法圖鑑+深度學習入門教室+Python入門教室) 1138\n",
      "7 Python初學特訓班(第四版)：從快速入門到主流應用全面實戰(附250分鐘影音教學/範例程式) 379\n",
      "8 零基礎入門的機器學習圖鑑：2大類機器學習╳ 17種演算法 ╳ Python基礎教學，讓你輕鬆學以致用 356\n",
      "9 Python人工智慧程式設計入門：使用Microsoft Azure雲端服務 545\n",
      "10 超圖解 Python 程式設計入門 514\n",
      "11 Python零基礎入門班(含MTA Python國際認證模擬試題)(第二版) 332\n",
      "12 演算法入門圖解：使用Python 356\n",
      "13 Python資料科學與機器學習：從入門到實作必備攻略 514\n",
      "14 超圖解 Python 物聯網實作入門：使用 ESP8266 與 MicroPython 552\n",
      "15 超入門實作 Python AIoT智能物聯網：使用Raspberry Pi 4B (iPOE R0+R1)(最新版) 435\n",
      "16 全圖解步驟教學 你的第一本Python入門課 363\n",
      "17 深度學習入門教室：6堂基礎課程+Python實作練習，Deep Learning、人工智慧、機器學習的理論和應用全圖解 435\n",
      "18 Python網路文字探勘入門到上手：10堂基礎+5場實戰，搞定網路爬蟲、文本分析的淘金指南 428\n",
      "19 Python：網路爬蟲與資料分析入門實戰 356\n",
      "20 Python程式設計入門指南 411\n",
      "21 Python遊戲開發講座入門篇|基礎知識與RPG遊戲 593\n",
      "22 Python入門教室：8堂基礎課程+程式範例練習，一次學會Python的原理概念、基本語法、實作應用 458\n",
      "23 Python零基礎入門班(第二版)：一次打好程式設計、運算思維與邏輯訓練基本功!(附150分鐘影音教學/範例程式) 351\n",
      "24 Python最強入門邁向數據科學之路：王者歸來(全彩印刷第二版) 790\n"
     ]
    }
   ],
   "source": [
    "r = requests.get('https://search.books.com.tw/search/query/key/python%20%E5%85%A5%E9%96%80/cat/all')\n",
    "soup = BeautifulSoup(r.text, 'html.parser')\n",
    "for table in soup.find_all('table', id=\"itemlist_table\", class_=\"table-searchlist clearfix\"):\n",
    "    for index, tbody in enumerate(table.find_all('tbody')):\n",
    "        print(f\"{index+1} {tbody.find_all('td')[2].find('a').text} {tbody.find_all('td')[2].find('ul', class_='list-nav clearfix').find_all('strong')[-1].text}\")"
   ]
  }
 ],
 "metadata": {
  "interpreter": {
   "hash": "aee8b7b246df8f9039afb4144a1f6fd8d2ca17a180786b69acc140d282b71a49"
  },
  "kernelspec": {
   "display_name": "Python 3.9.9 64-bit",
   "language": "python",
   "name": "python3"
  },
  "language_info": {
   "codemirror_mode": {
    "name": "ipython",
    "version": 3
   },
   "file_extension": ".py",
   "mimetype": "text/x-python",
   "name": "python",
   "nbconvert_exporter": "python",
   "pygments_lexer": "ipython3",
   "version": "3.9.9"
  },
  "orig_nbformat": 4
 },
 "nbformat": 4,
 "nbformat_minor": 2
}
