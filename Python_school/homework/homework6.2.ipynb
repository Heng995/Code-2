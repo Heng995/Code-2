{
 "cells": [
  {
   "cell_type": "markdown",
   "metadata": {},
   "source": [
    "班級：資工三乙      學號：B08170067     姓名：古宇恆"
   ]
  },
  {
   "cell_type": "markdown",
   "metadata": {},
   "source": [
    "# 程設計作業 6.2\n",
    "## 計算 10-100 之間的每一個數 需要幾次的轉換才會到 1，將結果列印出來，\n",
    "## 需要最多轉換次數的是哪一個數，將其印出"
   ]
  },
  {
   "cell_type": "markdown",
   "metadata": {},
   "source": [
    "## 1.定義公式\n",
    "N為任意整數，奇數3N-1，偶數N/2，直到N=1"
   ]
  },
  {
   "cell_type": "code",
   "execution_count": 59,
   "metadata": {},
   "outputs": [],
   "source": [
    "def x(n):\n",
    "    t = 0\n",
    "    while n - 1:\n",
    "        if n % 2 == 0:\n",
    "            n = n / 2\n",
    "        elif n % 2!= 0:\n",
    "            n = n * 3 + 1\n",
    "        t += 1\n",
    "    return t"
   ]
  },
  {
   "cell_type": "markdown",
   "metadata": {},
   "source": [
    "## 2.輸出"
   ]
  },
  {
   "cell_type": "code",
   "execution_count": 64,
   "metadata": {},
   "outputs": [
    {
     "name": "stdout",
     "output_type": "stream",
     "text": [
      "10 - 100之間的次數:\n",
      "[6, 14, 9, 9, 17, 17, 4, 12, 20, 20, 7, 7, 15, 15, 10, 23, 10, 111, 18, 18, 18, 106, 5, 26, 13, 13, 21, 21, 21, 34, 8, 109, 8, 29, 16, 16, 16, 104, 11, 24, 24, 24, 11, 11, 112, 112, 19, 32, 19, 32, 19, 19, 107, 107, 6, 27, 27, 27, 14, 14, 14, 102, 22, 115, 22, 14, 22, 22, 35, 35, 9, 22, 110, 110, 9, 9, 30, 30, 17, 30, 17, 92, 17, 17, 105, 105, 12, 118, 25, 25, 25]\n"
     ]
    }
   ],
   "source": [
    "a = [x(n) for n in range(10,101)]\n",
    "print('10 - 100之間的次數:')\n",
    "print(a)"
   ]
  },
  {
   "cell_type": "code",
   "execution_count": 65,
   "metadata": {},
   "outputs": [
    {
     "name": "stdout",
     "output_type": "stream",
     "text": [
      "最多為 118 次\n"
     ]
    }
   ],
   "source": [
    "print('最多為', max(a), '次')"
   ]
  }
 ],
 "metadata": {
  "interpreter": {
   "hash": "e066906fe76e116fe298151430f54f14f8fa60f14e5cf26cd32bf8c49c87e31e"
  },
  "kernelspec": {
   "display_name": "Python 3.9.6 64-bit",
   "name": "python3"
  },
  "language_info": {
   "codemirror_mode": {
    "name": "ipython",
    "version": 3
   },
   "file_extension": ".py",
   "mimetype": "text/x-python",
   "name": "python",
   "nbconvert_exporter": "python",
   "pygments_lexer": "ipython3",
   "version": "3.9.6"
  },
  "orig_nbformat": 4
 },
 "nbformat": 4,
 "nbformat_minor": 2
}
