{
 "cells": [
  {
   "cell_type": "markdown",
   "metadata": {},
   "source": [
    "班級：資工三乙      學號：B08170067     姓名：古宇恆"
   ]
  },
  {
   "cell_type": "markdown",
   "metadata": {},
   "source": [
    "# 程式設計作業5.1 亂數產生陣列"
   ]
  },
  {
   "cell_type": "markdown",
   "metadata": {},
   "source": [
    "## 亂數產生陣列"
   ]
  },
  {
   "cell_type": "markdown",
   "metadata": {},
   "source": [
    "### 1. 利用 亂數產生器產生0~1000亂數， 建立一個 10個元素的一維陣列，利用迴圈將第0個元素加 0，第一個元素加 1，依此類推。\n",
    "### 列印出陣列內容。"
   ]
  },
  {
   "cell_type": "code",
   "execution_count": 28,
   "metadata": {},
   "outputs": [
    {
     "name": "stdout",
     "output_type": "stream",
     "text": [
      "[377, 558, 833, 839, 437, 328, 590, 726, 294, 625]\n"
     ]
    }
   ],
   "source": [
    "import random\n",
    "x = [random.randint(0,1000)+i for i in range(10)]\n",
    "print(x)"
   ]
  },
  {
   "cell_type": "markdown",
   "metadata": {},
   "source": [
    "### 2. 利用 亂數產生器產生0~1000亂數， 建立一個 5x5 個元素的二維陣列，利用迴圈將第0個 row 的 元素加 1，第一個row的元素加 3，依此類推。\n",
    "### 列印出陣列內容。"
   ]
  },
  {
   "cell_type": "code",
   "execution_count": 30,
   "metadata": {},
   "outputs": [
    {
     "name": "stdout",
     "output_type": "stream",
     "text": [
      "[[894, 895, 119, 875, 252], [611, 335, 525, 514, 233], [389, 849, 724, 540, 190], [858, 707, 604, 161, 690], [496, 244, 558, 55, 271]]\n"
     ]
    }
   ],
   "source": [
    "x = [[random.randint(0,1000) for i in range(5)] for x in range(5)]\n",
    "for i in range(5):\n",
    "    x[0][i] += 2*i + 1\n",
    "print(x)"
   ]
  },
  {
   "cell_type": "markdown",
   "metadata": {},
   "source": [
    "### 3. 利用 亂數產生器產生0~1000亂數， 建立一個 5x5 個元素的二維陣列，利用迴圈將第0個 column 的 元素加 2，第一個row的元素加 4，依此類推。\n",
    "### 列印出陣列內容"
   ]
  },
  {
   "cell_type": "code",
   "execution_count": 36,
   "metadata": {},
   "outputs": [
    {
     "name": "stdout",
     "output_type": "stream",
     "text": [
      "[[818, 633, 275, 26, 176], [761, 736, 121, 298, 490], [427, 485, 996, 677, 251], [953, 99, 41, 508, 257], [536, 972, 283, 589, 660]]\n"
     ]
    }
   ],
   "source": [
    "x = [[random.randint(0, 1000) for i in range(5)] for x in range(5)]\n",
    "for i in range(5):\n",
    "    x[i][0] += 2*i+2\n",
    "print(x)"
   ]
  }
 ],
 "metadata": {
  "interpreter": {
   "hash": "e066906fe76e116fe298151430f54f14f8fa60f14e5cf26cd32bf8c49c87e31e"
  },
  "kernelspec": {
   "display_name": "Python 3.9.6 64-bit",
   "name": "python3"
  },
  "language_info": {
   "codemirror_mode": {
    "name": "ipython",
    "version": 3
   },
   "file_extension": ".py",
   "mimetype": "text/x-python",
   "name": "python",
   "nbconvert_exporter": "python",
   "pygments_lexer": "ipython3",
   "version": "3.9.6"
  },
  "orig_nbformat": 4
 },
 "nbformat": 4,
 "nbformat_minor": 2
}
